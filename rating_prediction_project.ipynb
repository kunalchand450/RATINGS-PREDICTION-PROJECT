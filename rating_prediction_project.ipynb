{
 "cells": [
  {
   "cell_type": "markdown",
   "id": "4ea92368",
   "metadata": {},
   "source": [
    "# RATINGS PREDICTION PROJECT :\n",
    "\n",
    "We have a client who has a website where people write different reviews for technical products. \n",
    "Now they are adding a new feature to their website i.e. The reviewer will have to add stars(rating) \n",
    "as well with the review. The rating is out 5 stars and it only has 5 options available 1 star, 2 stars, \n",
    "3 stars, 4 stars, 5 stars. Now they want to predict ratings for the reviews which were written in the \n",
    "past and they don’t have a rating. So, we have to build an application which can predict the rating \n",
    "by seeing the review.\n",
    "\n",
    "# Data Collection Phase \n",
    "You have to scrape at least 20000 rows of data. You can scrape more data as well, it’s up to you. \n",
    "more the data better the model\n",
    "In this section you need to scrape the reviews of different laptops, Phones, Headphones, smart \n",
    "watches, Professional Cameras, Printers, Monitors, Home theater, Router from different e\u0002commerce websites.\n",
    "Basically, we need these columns\u00021) reviews of the product.\n",
    "2) rating of the product.\n",
    "You can fetch other data as well, if you think data can be useful or can help in the project. It \n",
    "completely depends on your imagination or assumption.\n",
    "\n",
    "# Hint:\n",
    "• Try to fetch data from different websites. If data is from different websites, it will help our \n",
    "model to remove the effect of over fitting.\n",
    "• Try to fetch an equal number of reviews for each rating, for example if you are fetching\n",
    "10000 reviews then all ratings 1,2,3,4,5 should be 2000. It will balance our data set.\n",
    "• Convert all the ratings to their round number, as there are only 5 options for rating i.e., \n",
    "1,2,3,4,5. If a rating is 4.5 convert it 5.\n",
    "\n",
    "# Model Building Phase\n",
    "After collecting the data, you need to build a machine learning model. Before model building do \n",
    "all data preprocessing steps involving NLP. Try different models with different hyper parameters \n",
    "and select the best model.\n",
    "Follow the complete life cycle of data science. Include all the steps like\u00021. Data Cleaning\n",
    "2. Exploratory Data Analysis\n",
    "3. Data Preprocessing\n",
    "4. Model Building\n",
    "5. Model Evaluation\n",
    "6. Selecting the best mode"
   ]
  },
  {
   "cell_type": "code",
   "execution_count": 11,
   "id": "b6c54e32",
   "metadata": {},
   "outputs": [
    {
     "ename": "SyntaxError",
     "evalue": "invalid syntax (3750906371.py, line 5)",
     "output_type": "error",
     "traceback": [
      "\u001b[1;36m  Input \u001b[1;32mIn [11]\u001b[1;36m\u001b[0m\n\u001b[1;33m    pipes freeze > requirements.txt\u001b[0m\n\u001b[1;37m          ^\u001b[0m\n\u001b[1;31mSyntaxError\u001b[0m\u001b[1;31m:\u001b[0m invalid syntax\n"
     ]
    }
   ],
   "source": [
    "# pip install pipreqs\n",
    "import pipes\n",
    "\n",
    "\n",
    "# pipes freeze > requirements.txt"
   ]
  },
  {
   "cell_type": "code",
   "execution_count": 3,
   "id": "56e99a1f",
   "metadata": {},
   "outputs": [],
   "source": [
    "from multiprocessing.spawn import import_main_path\n",
    "from os import path\n",
    "\n"
   ]
  },
  {
   "cell_type": "code",
   "execution_count": 4,
   "id": "feeafa43",
   "metadata": {},
   "outputs": [
    {
     "name": "stdout",
     "output_type": "stream",
     "text": [
      "Collecting sklearn\n",
      "  Downloading sklearn-0.0.tar.gz (1.1 kB)\n",
      "  Preparing metadata (setup.py): started\n",
      "  Preparing metadata (setup.py): finished with status 'done'\n",
      "Collecting seaborn\n",
      "  Downloading seaborn-0.12.0-py3-none-any.whl (285 kB)\n",
      "     -------------------------------------- 285.1/285.1 kB 4.4 MB/s eta 0:00:00\n",
      "Collecting scikit-learn\n",
      "  Downloading scikit_learn-1.1.2-cp39-cp39-win_amd64.whl (7.4 MB)\n",
      "     ---------------------------------------- 7.4/7.4 MB 12.1 MB/s eta 0:00:00\n",
      "Requirement already satisfied: numpy>=1.17 in c:\\users\\admin\\anaconda3\\envs\\virtual_workspace\\lib\\site-packages (from seaborn) (1.23.2)\n",
      "Requirement already satisfied: pandas>=0.25 in c:\\users\\admin\\anaconda3\\envs\\virtual_workspace\\lib\\site-packages (from seaborn) (1.4.3)\n",
      "Collecting matplotlib>=3.1\n",
      "  Downloading matplotlib-3.5.3-cp39-cp39-win_amd64.whl (7.2 MB)\n",
      "     ---------------------------------------- 7.2/7.2 MB 11.8 MB/s eta 0:00:00\n",
      "Collecting pillow>=6.2.0\n",
      "  Downloading Pillow-9.2.0-cp39-cp39-win_amd64.whl (3.3 MB)\n",
      "     ---------------------------------------- 3.3/3.3 MB 17.4 MB/s eta 0:00:00\n",
      "Requirement already satisfied: pyparsing>=2.2.1 in c:\\users\\admin\\anaconda3\\envs\\virtual_workspace\\lib\\site-packages (from matplotlib>=3.1->seaborn) (3.0.9)\n",
      "Collecting kiwisolver>=1.0.1\n",
      "  Downloading kiwisolver-1.4.4-cp39-cp39-win_amd64.whl (55 kB)\n",
      "     ---------------------------------------- 55.4/55.4 kB ? eta 0:00:00\n",
      "Collecting fonttools>=4.22.0\n",
      "  Downloading fonttools-4.37.1-py3-none-any.whl (957 kB)\n",
      "     ------------------------------------- 957.2/957.2 kB 29.6 MB/s eta 0:00:00\n",
      "Requirement already satisfied: python-dateutil>=2.7 in c:\\users\\admin\\anaconda3\\envs\\virtual_workspace\\lib\\site-packages (from matplotlib>=3.1->seaborn) (2.8.2)\n",
      "Requirement already satisfied: packaging>=20.0 in c:\\users\\admin\\anaconda3\\envs\\virtual_workspace\\lib\\site-packages (from matplotlib>=3.1->seaborn) (21.3)\n",
      "Collecting cycler>=0.10\n",
      "  Downloading cycler-0.11.0-py3-none-any.whl (6.4 kB)\n",
      "Requirement already satisfied: pytz>=2020.1 in c:\\users\\admin\\anaconda3\\envs\\virtual_workspace\\lib\\site-packages (from pandas>=0.25->seaborn) (2022.2.1)\n",
      "Collecting scipy>=1.3.2\n",
      "  Downloading scipy-1.9.1-cp39-cp39-win_amd64.whl (38.6 MB)\n",
      "     --------------------------------------- 38.6/38.6 MB 11.5 MB/s eta 0:00:00\n",
      "Collecting threadpoolctl>=2.0.0\n",
      "  Downloading threadpoolctl-3.1.0-py3-none-any.whl (14 kB)\n",
      "Collecting joblib>=1.0.0\n",
      "  Downloading joblib-1.1.0-py2.py3-none-any.whl (306 kB)\n",
      "     ------------------------------------- 307.0/307.0 kB 19.8 MB/s eta 0:00:00\n",
      "Requirement already satisfied: six>=1.5 in c:\\users\\admin\\anaconda3\\envs\\virtual_workspace\\lib\\site-packages (from python-dateutil>=2.7->matplotlib>=3.1->seaborn) (1.16.0)\n",
      "Building wheels for collected packages: sklearn\n",
      "  Building wheel for sklearn (setup.py): started\n",
      "  Building wheel for sklearn (setup.py): finished with status 'done'\n",
      "  Created wheel for sklearn: filename=sklearn-0.0-py2.py3-none-any.whl size=1310 sha256=e714a6b6c30fd8acb9ad32cdb7794fb3890c217d65dea96397e695bca5fec90e\n",
      "  Stored in directory: c:\\users\\admin\\appdata\\local\\pip\\cache\\wheels\\e4\\7b\\98\\b6466d71b8d738a0c547008b9eb39bf8676d1ff6ca4b22af1c\n",
      "Successfully built sklearn\n",
      "Installing collected packages: threadpoolctl, scipy, pillow, kiwisolver, joblib, fonttools, cycler, scikit-learn, matplotlib, sklearn, seaborn\n",
      "Successfully installed cycler-0.11.0 fonttools-4.37.1 joblib-1.1.0 kiwisolver-1.4.4 matplotlib-3.5.3 pillow-9.2.0 scikit-learn-1.1.2 scipy-1.9.1 seaborn-0.12.0 sklearn-0.0 threadpoolctl-3.1.0\n",
      "Note: you may need to restart the kernel to use updated packages.\n"
     ]
    }
   ],
   "source": [
    "# pip install sklearn seaborn\n"
   ]
  },
  {
   "cell_type": "code",
   "execution_count": 149,
   "id": "a4b6f986",
   "metadata": {},
   "outputs": [],
   "source": [
    "#Import Necessary  Libraries \n",
    "import pandas as pd\n",
    "import warnings\n",
    "warnings.filterwarnings('ignore', '.*do not.*', )\n",
    "import numpy as np\n",
    "\n",
    "from sklearn.model_selection import train_test_split\n",
    "from sklearn.linear_model import LogisticRegression\n",
    "from sklearn.metrics import accuracy_score\n",
    "from sklearn.model_selection import train_test_split\n",
    "from sklearn.linear_model import LinearRegression\n",
    "from sklearn.metrics import mean_squared_error,mean_absolute_error,r2_score\n",
    "from sklearn.metrics import accuracy_score\n",
    "import seaborn as sns\n",
    "pd.set_option('display.max_columns', None)\n",
    "import matplotlib.pyplot as plt"
   ]
  },
  {
   "cell_type": "code",
   "execution_count": 150,
   "id": "70af8ba9",
   "metadata": {},
   "outputs": [
    {
     "data": {
      "image/png": "[encoded data removed]",
      "text/plain": [
       "<Figure size 432x72 with 1 Axes>"
      ]
     },
     "metadata": {},
     "output_type": "display_data"
    }
   ],
   "source": [
    "# Color Palettes\n",
    "colors = [\"#6D7696\", \"#59484F\", \"#455C4F\", \"#CC5543\", \"#EDB579\", \"#DBE6AF\"]\n",
    "sns.palplot(sns.color_palette(colors))"
   ]
  },
  {
   "cell_type": "code",
   "execution_count": 151,
   "id": "1b563ab6",
   "metadata": {},
   "outputs": [],
   "source": [
    "from scipy.stats import skew, norm\n",
    "from scipy.special import boxcox1p\n",
    "from scipy.stats import boxcox_normmax\n",
    "\n",
    "\n",
    "# Ignore useless warnings\n",
    "import warnings\n",
    "warnings.filterwarnings(action=\"ignore\")"
   ]
  },
  {
   "cell_type": "code",
   "execution_count": 152,
   "id": "2a45d428",
   "metadata": {},
   "outputs": [
    {
     "data": {
      "text/plain": [
       "(23368, 3)"
      ]
     },
     "execution_count": 152,
     "metadata": {},
     "output_type": "execute_result"
    }
   ],
   "source": [
    "#load the dataset\n",
    "df=pd.read_excel('ratings20000.xlsx')\n",
    "df.shape"
   ]
  },
  {
   "cell_type": "code",
   "execution_count": 153,
   "id": "e81a2895",
   "metadata": {},
   "outputs": [
    {
     "data": {
      "text/html": [
       "<div>\n",
       "<style scoped>\n",
       "    .dataframe tbody tr th:only-of-type {\n",
       "        vertical-align: middle;\n",
       "    }\n",
       "\n",
       "    .dataframe tbody tr th {\n",
       "        vertical-align: top;\n",
       "    }\n",
       "\n",
       "    .dataframe thead th {\n",
       "        text-align: right;\n",
       "    }\n",
       "</style>\n",
       "<table border=\"1\" class=\"dataframe\">\n",
       "  <thead>\n",
       "    <tr style=\"text-align: right;\">\n",
       "      <th></th>\n",
       "      <th>Unnamed: 0</th>\n",
       "      <th>Review</th>\n",
       "      <th>Rating</th>\n",
       "    </tr>\n",
       "  </thead>\n",
       "  <tbody>\n",
       "    <tr>\n",
       "      <th>0</th>\n",
       "      <td>0</td>\n",
       "      <td>Night mode is simply amazing and give you a cl...</td>\n",
       "      <td>5</td>\n",
       "    </tr>\n",
       "    <tr>\n",
       "      <th>1</th>\n",
       "      <td>1</td>\n",
       "      <td>The Product is fantastic with great nay awesom...</td>\n",
       "      <td>5</td>\n",
       "    </tr>\n",
       "    <tr>\n",
       "      <th>2</th>\n",
       "      <td>2</td>\n",
       "      <td>Switched from Android to iPhone and this trans...</td>\n",
       "      <td>5</td>\n",
       "    </tr>\n",
       "    <tr>\n",
       "      <th>3</th>\n",
       "      <td>3</td>\n",
       "      <td>I bought this iphone 12 in big billion days an...</td>\n",
       "      <td>4</td>\n",
       "    </tr>\n",
       "    <tr>\n",
       "      <th>4</th>\n",
       "      <td>4</td>\n",
       "      <td>Green colour is charming and pricelessNo weigh...</td>\n",
       "      <td>5</td>\n",
       "    </tr>\n",
       "    <tr>\n",
       "      <th>...</th>\n",
       "      <td>...</td>\n",
       "      <td>...</td>\n",
       "      <td>...</td>\n",
       "    </tr>\n",
       "    <tr>\n",
       "      <th>23363</th>\n",
       "      <td>23363</td>\n",
       "      <td>Good Product Happy</td>\n",
       "      <td>5</td>\n",
       "    </tr>\n",
       "    <tr>\n",
       "      <th>23364</th>\n",
       "      <td>23364</td>\n",
       "      <td>Good</td>\n",
       "      <td>5</td>\n",
       "    </tr>\n",
       "    <tr>\n",
       "      <th>23365</th>\n",
       "      <td>23365</td>\n",
       "      <td>It's good design 👍 Valueable product &amp; money 🤑💰</td>\n",
       "      <td>5</td>\n",
       "    </tr>\n",
       "    <tr>\n",
       "      <th>23366</th>\n",
       "      <td>23366</td>\n",
       "      <td>Sooo good product watch 3 series is sooo beaut...</td>\n",
       "      <td>5</td>\n",
       "    </tr>\n",
       "    <tr>\n",
       "      <th>23367</th>\n",
       "      <td>23367</td>\n",
       "      <td>More valuable</td>\n",
       "      <td>4</td>\n",
       "    </tr>\n",
       "  </tbody>\n",
       "</table>\n",
       "<p>23368 rows × 3 columns</p>\n",
       "</div>"
      ],
      "text/plain": [
       "       Unnamed: 0                                             Review  Rating\n",
       "0               0  Night mode is simply amazing and give you a cl...       5\n",
       "1               1  The Product is fantastic with great nay awesom...       5\n",
       "2               2  Switched from Android to iPhone and this trans...       5\n",
       "3               3  I bought this iphone 12 in big billion days an...       4\n",
       "4               4  Green colour is charming and pricelessNo weigh...       5\n",
       "...           ...                                                ...     ...\n",
       "23363       23363                                 Good Product Happy       5\n",
       "23364       23364                                               Good       5\n",
       "23365       23365    It's good design 👍 Valueable product & money 🤑💰       5\n",
       "23366       23366  Sooo good product watch 3 series is sooo beaut...       5\n",
       "23367       23367                                      More valuable       4\n",
       "\n",
       "[23368 rows x 3 columns]"
      ]
     },
     "execution_count": 153,
     "metadata": {},
     "output_type": "execute_result"
    }
   ],
   "source": [
    "df #dataset"
   ]
  },
  {
   "cell_type": "markdown",
   "id": "85de4a40",
   "metadata": {},
   "source": [
    "# DataSet Attributions:\n",
    "\n",
    "Review:Review columns shows all the different product reviews over the product.\n",
    "\n",
    "Rating : this feature columns are rating out of 5 , 5 is the highest and 1 is the lowest."
   ]
  },
  {
   "cell_type": "markdown",
   "id": "a5dcd23a",
   "metadata": {},
   "source": [
    "# 1.Data Cleaning"
   ]
  },
  {
   "cell_type": "code",
   "execution_count": 154,
   "id": "1bc6969b",
   "metadata": {},
   "outputs": [
    {
     "data": {
      "text/plain": [
       "(23368, 2)"
      ]
     },
     "execution_count": 154,
     "metadata": {},
     "output_type": "execute_result"
    }
   ],
   "source": [
    "# Remove the Unnamed: 0  from data set, as they are not unique for each row and hence not useful for the model\n",
    "df.drop(['Unnamed: 0'], axis=1, inplace=True)\n",
    "df.shape"
   ]
  },
  {
   "cell_type": "markdown",
   "id": "625632d7",
   "metadata": {},
   "source": [
    "# 2. Exploratory Data Analysis"
   ]
  },
  {
   "cell_type": "code",
   "execution_count": 155,
   "id": "5cba61bc",
   "metadata": {},
   "outputs": [
    {
     "name": "stdout",
     "output_type": "stream",
     "text": [
      "<class 'pandas.core.frame.DataFrame'>\n",
      "RangeIndex: 23368 entries, 0 to 23367\n",
      "Data columns (total 2 columns):\n",
      " #   Column  Non-Null Count  Dtype \n",
      "---  ------  --------------  ----- \n",
      " 0   Review  23368 non-null  object\n",
      " 1   Rating  23368 non-null  int64 \n",
      "dtypes: int64(1), object(1)\n",
      "memory usage: 365.2+ KB\n"
     ]
    }
   ],
   "source": [
    "df.info()"
   ]
  },
  {
   "cell_type": "code",
   "execution_count": 156,
   "id": "e1dfd203",
   "metadata": {},
   "outputs": [
    {
     "data": {
      "text/plain": [
       "(23368, 2)"
      ]
     },
     "execution_count": 156,
     "metadata": {},
     "output_type": "execute_result"
    }
   ],
   "source": [
    "df.shape"
   ]
  },
  {
   "cell_type": "code",
   "execution_count": 157,
   "id": "9dceaf2c",
   "metadata": {},
   "outputs": [
    {
     "data": {
      "text/plain": [
       "Index(['Review', 'Rating'], dtype='object')"
      ]
     },
     "execution_count": 157,
     "metadata": {},
     "output_type": "execute_result"
    }
   ],
   "source": [
    "df.columns"
   ]
  },
  {
   "cell_type": "code",
   "execution_count": 158,
   "id": "8dabb440",
   "metadata": {},
   "outputs": [
    {
     "data": {
      "text/plain": [
       "Review    object\n",
       "Rating     int64\n",
       "dtype: object"
      ]
     },
     "execution_count": 158,
     "metadata": {},
     "output_type": "execute_result"
    }
   ],
   "source": [
    "df.dtypes"
   ]
  },
  {
   "cell_type": "code",
   "execution_count": 159,
   "id": "4ce1fd26",
   "metadata": {},
   "outputs": [
    {
     "data": {
      "text/plain": [
       "5    15096\n",
       "4     4237\n",
       "1     2004\n",
       "3     1543\n",
       "2      488\n",
       "Name: Rating, dtype: int64"
      ]
     },
     "execution_count": 159,
     "metadata": {},
     "output_type": "execute_result"
    }
   ],
   "source": [
    "df.Rating.value_counts()"
   ]
  },
  {
   "cell_type": "code",
   "execution_count": 160,
   "id": "ca316e7d",
   "metadata": {},
   "outputs": [
    {
     "data": {
      "text/plain": [
       "Good                                                                                                                                                                          671\n",
       "Nice                                                                                                                                                                          328\n",
       "Good product                                                                                                                                                                  240\n",
       "nice camara under 23000 Takar modda                                                                                                                                           197\n",
       "Awesome... Awesome... I got it with price of 15k+ during Big billion day sale. I feel it was very cheap price for such a classy products... love you my first camera Canon    197\n",
       "                                                                                                                                                                             ... \n",
       "Very good sound & bass quality                                                                                                                                                  1\n",
       "Home theatre repairing                                                                                                                                                          1\n",
       "Amezing... Products                                                                                                                                                             1\n",
       "Home theater is Good, sound quality also good, value of money, but please don't order from Flipkart delivery wrost, bed service from Flipkart, alwat delivery late.             1\n",
       "More valuable                                                                                                                                                                   1\n",
       "Name: Review, Length: 15134, dtype: int64"
      ]
     },
     "execution_count": 160,
     "metadata": {},
     "output_type": "execute_result"
    }
   ],
   "source": [
    "df.Review.value_counts()"
   ]
  },
  {
   "cell_type": "code",
   "execution_count": 161,
   "id": "0c33aed8",
   "metadata": {},
   "outputs": [
    {
     "name": "stdout",
     "output_type": "stream",
     "text": [
      "df shape is  (23368, 2)\n",
      "df info <bound method DataFrame.info of                                                   Review  Rating\n",
      "0      Night mode is simply amazing and give you a cl...       5\n",
      "1      The Product is fantastic with great nay awesom...       5\n",
      "2      Switched from Android to iPhone and this trans...       5\n",
      "3      I bought this iphone 12 in big billion days an...       4\n",
      "4      Green colour is charming and pricelessNo weigh...       5\n",
      "...                                                  ...     ...\n",
      "23363                                 Good Product Happy       5\n",
      "23364                                               Good       5\n",
      "23365    It's good design 👍 Valueable product & money 🤑💰       5\n",
      "23366  Sooo good product watch 3 series is sooo beaut...       5\n",
      "23367                                      More valuable       4\n",
      "\n",
      "[23368 rows x 2 columns]>\n"
     ]
    }
   ],
   "source": [
    "#dataset shape and info\n",
    "print('df shape is ',df.shape)\n",
    "\n",
    "print('df info',df.info)"
   ]
  },
  {
   "cell_type": "markdown",
   "id": "c79288fd",
   "metadata": {},
   "source": [
    "# Missing Values"
   ]
  },
  {
   "cell_type": "code",
   "execution_count": 162,
   "id": "49d72423",
   "metadata": {},
   "outputs": [
    {
     "data": {
      "text/plain": [
       "Review    0\n",
       "Rating    0\n",
       "dtype: int64"
      ]
     },
     "execution_count": 162,
     "metadata": {},
     "output_type": "execute_result"
    }
   ],
   "source": [
    "#find out the null values in the dataset\n",
    "df.isnull().sum()"
   ]
  },
  {
   "cell_type": "code",
   "execution_count": 163,
   "id": "776b58a8",
   "metadata": {},
   "outputs": [
    {
     "data": {
      "text/plain": [
       "<AxesSubplot:>"
      ]
     },
     "execution_count": 163,
     "metadata": {},
     "output_type": "execute_result"
    },
    {
     "data": {
      "image/png": "[encoded data removed]",
      "text/plain": [
       "<Figure size 432x288 with 2 Axes>"
      ]
     },
     "metadata": {},
     "output_type": "display_data"
    }
   ],
   "source": [
    "#plot the null-values using seaborn library \n",
    "import seaborn as sns\n",
    "sns.heatmap(df.isnull())"
   ]
  },
  {
   "cell_type": "markdown",
   "id": "28e504d5",
   "metadata": {},
   "source": [
    "# Univeriate Analysis\n",
    "Ploting of distribution plots of feature columns :"
   ]
  },
  {
   "cell_type": "code",
   "execution_count": 164,
   "id": "ca346ca8",
   "metadata": {},
   "outputs": [
    {
     "data": {
      "text/plain": [
       "5    15096\n",
       "4     4237\n",
       "1     2004\n",
       "3     1543\n",
       "2      488\n",
       "Name: Rating, dtype: int64"
      ]
     },
     "execution_count": 164,
     "metadata": {},
     "output_type": "execute_result"
    },
    {
     "data": {
      "image/png": "[encoded data removed]",
      "text/plain": [
       "<Figure size 360x360 with 1 Axes>"
      ]
     },
     "metadata": {},
     "output_type": "display_data"
    }
   ],
   "source": [
    "sns.displot(df['Rating'])\n",
    "df.Rating.value_counts()"
   ]
  },
  {
   "cell_type": "code",
   "execution_count": 165,
   "id": "7a52c657",
   "metadata": {},
   "outputs": [
    {
     "name": "stdout",
     "output_type": "stream",
     "text": [
      "Rating\n",
      "\n",
      "\n",
      "5    15096\n",
      "4     4237\n",
      "1     2004\n",
      "3     1543\n",
      "2      488\n",
      "Name: Rating, dtype: int64\n"
     ]
    },
    {
     "data": {
      "image/png": "[encoded data removed]",
      "text/plain": [
       "<Figure size 432x288 with 1 Axes>"
      ]
     },
     "metadata": {},
     "output_type": "display_data"
    }
   ],
   "source": [
    "col=['Rating']\n",
    "for i in col:\n",
    "    print(i)\n",
    "    print(\"\\n\")\n",
    "    print(df[i].value_counts())\n",
    "    sns.countplot(df[i])\n",
    "    plt.show()"
   ]
  },
  {
   "cell_type": "code",
   "execution_count": 5,
   "id": "a9dadc09",
   "metadata": {},
   "outputs": [
    {
     "name": "stdout",
     "output_type": "stream",
     "text": [
      "Collecting nltk\n",
      "  Downloading nltk-3.7-py3-none-any.whl (1.5 MB)\n",
      "     ---------------------------------------- 1.5/1.5 MB 9.5 MB/s eta 0:00:00\n",
      "Requirement already satisfied: click in c:\\users\\admin\\anaconda3\\envs\\virtual_workspace\\lib\\site-packages (from nltk) (8.1.3)\n",
      "Collecting tqdm\n",
      "  Downloading tqdm-4.64.1-py2.py3-none-any.whl (78 kB)\n",
      "     ---------------------------------------- 78.5/78.5 kB ? eta 0:00:00\n",
      "Collecting regex>=2021.8.3\n",
      "  Downloading regex-2022.8.17-cp39-cp39-win_amd64.whl (263 kB)\n",
      "     ------------------------------------- 263.1/263.1 kB 15.8 MB/s eta 0:00:00\n",
      "Requirement already satisfied: joblib in c:\\users\\admin\\anaconda3\\envs\\virtual_workspace\\lib\\site-packages (from nltk) (1.1.0)\n",
      "Requirement already satisfied: colorama in c:\\users\\admin\\anaconda3\\envs\\virtual_workspace\\lib\\site-packages (from click->nltk) (0.4.5)\n",
      "Installing collected packages: tqdm, regex, nltk\n",
      "Successfully installed nltk-3.7 regex-2022.8.17 tqdm-4.64.1\n",
      "Note: you may need to restart the kernel to use updated packages.\n"
     ]
    }
   ],
   "source": [
    "# pip install nltk"
   ]
  },
  {
   "cell_type": "code",
   "execution_count": 166,
   "id": "cf2987e2",
   "metadata": {},
   "outputs": [],
   "source": [
    "import nltk\n",
    "#nltk.download('stopwords')"
   ]
  },
  {
   "cell_type": "code",
   "execution_count": 167,
   "id": "2709a8a6",
   "metadata": {},
   "outputs": [],
   "source": [
    "#importing WordNetLemmatizer\n",
    "from nltk.stem import WordNetLemmatizer\n",
    "import nltk\n",
    "from nltk.corpus import  stopwords\n",
    "import string"
   ]
  },
  {
   "cell_type": "code",
   "execution_count": 168,
   "id": "f8f017d4",
   "metadata": {},
   "outputs": [
    {
     "data": {
      "text/html": [
       "<div>\n",
       "<style scoped>\n",
       "    .dataframe tbody tr th:only-of-type {\n",
       "        vertical-align: middle;\n",
       "    }\n",
       "\n",
       "    .dataframe tbody tr th {\n",
       "        vertical-align: top;\n",
       "    }\n",
       "\n",
       "    .dataframe thead th {\n",
       "        text-align: right;\n",
       "    }\n",
       "</style>\n",
       "<table border=\"1\" class=\"dataframe\">\n",
       "  <thead>\n",
       "    <tr style=\"text-align: right;\">\n",
       "      <th></th>\n",
       "      <th>Review</th>\n",
       "      <th>Rating</th>\n",
       "      <th>Length</th>\n",
       "    </tr>\n",
       "  </thead>\n",
       "  <tbody>\n",
       "    <tr>\n",
       "      <th>0</th>\n",
       "      <td>Night mode is simply amazing and give you a cl...</td>\n",
       "      <td>5</td>\n",
       "      <td>92</td>\n",
       "    </tr>\n",
       "    <tr>\n",
       "      <th>1</th>\n",
       "      <td>The Product is fantastic with great nay awesom...</td>\n",
       "      <td>5</td>\n",
       "      <td>210</td>\n",
       "    </tr>\n",
       "    <tr>\n",
       "      <th>2</th>\n",
       "      <td>Switched from Android to iPhone and this trans...</td>\n",
       "      <td>5</td>\n",
       "      <td>503</td>\n",
       "    </tr>\n",
       "    <tr>\n",
       "      <th>3</th>\n",
       "      <td>I bought this iphone 12 in big billion days an...</td>\n",
       "      <td>4</td>\n",
       "      <td>473</td>\n",
       "    </tr>\n",
       "    <tr>\n",
       "      <th>4</th>\n",
       "      <td>Green colour is charming and pricelessNo weigh...</td>\n",
       "      <td>5</td>\n",
       "      <td>359</td>\n",
       "    </tr>\n",
       "  </tbody>\n",
       "</table>\n",
       "</div>"
      ],
      "text/plain": [
       "                                              Review  Rating  Length\n",
       "0  Night mode is simply amazing and give you a cl...       5      92\n",
       "1  The Product is fantastic with great nay awesom...       5     210\n",
       "2  Switched from Android to iPhone and this trans...       5     503\n",
       "3  I bought this iphone 12 in big billion days an...       4     473\n",
       "4  Green colour is charming and pricelessNo weigh...       5     359"
      ]
     },
     "execution_count": 168,
     "metadata": {},
     "output_type": "execute_result"
    }
   ],
   "source": [
    "df['Length'] = df['Review'].str.len()\n",
    "df.head()"
   ]
  },
  {
   "cell_type": "code",
   "execution_count": 169,
   "id": "b07a71af",
   "metadata": {},
   "outputs": [],
   "source": [
    "# Convert all messages to lower case\n",
    "df['Review'] = df['Review'].str.lower()\n",
    "\n",
    "# Replace email addresses with 'email'\n",
    "df['Review'] = df['Review'].str.replace(r'^.+@[^\\.].*\\.[a-z]{2,}$',\n",
    "                                 'emailaddress')\n",
    "\n",
    "# Replace URLs with 'webaddress'\n",
    "df['Review'] = df['Review'].str.replace(r'^http\\://[a-zA-Z0-9\\-\\.]+\\.[a-zA-Z]{2,3}(/\\S*)?$',\n",
    "                                  'webaddress')\n",
    "\n",
    "# Replace money symbols with 'moneysymb' (£ can by typed with ALT key + 156)\n",
    "df['Review'] = df['Review'].str.replace(r'£|\\$', 'dollers')\n",
    "    \n",
    "# Replace 10 digit phone numbers (formats include paranthesis, spaces, no spaces, dashes) with 'phonenumber'\n",
    "df['Review'] = df['Review'].str.replace(r'^\\(?[\\d]{3}\\)?[\\s-]?[\\d]{3}[\\s-]?[\\d]{4}$',\n",
    "                                  'phonenumber')\n",
    "\n",
    "    \n",
    "# Replace numbers with 'numbr'\n",
    "df['Review'] = df['Review'].str.replace(r'\\d+(\\.\\d+)?', 'numbr')\n",
    "\n",
    "\n",
    "df['Review'] = df['Review'].apply(lambda x: ' '.join(\n",
    "    term for term in x.split() if term not in string.punctuation))\n",
    "\n",
    "stop_words = set(stopwords.words('english') + ['u', 'ü', 'ur', '4', '2', 'im', 'dont', 'doin', 'ure'])\n",
    "df['Review'] = df['Review'].apply(lambda x: ' '.join(\n",
    "    term for term in x.split() if term not in stop_words))\n",
    "\n",
    "lem=WordNetLemmatizer()\n",
    "df['Review'] = df['Review'].apply(lambda x: ' '.join(\n",
    " lem.lemmatize(t) for t in x.split()))"
   ]
  },
  {
   "cell_type": "code",
   "execution_count": 170,
   "id": "194eebfa",
   "metadata": {},
   "outputs": [
    {
     "data": {
      "text/html": [
       "<div>\n",
       "<style scoped>\n",
       "    .dataframe tbody tr th:only-of-type {\n",
       "        vertical-align: middle;\n",
       "    }\n",
       "\n",
       "    .dataframe tbody tr th {\n",
       "        vertical-align: top;\n",
       "    }\n",
       "\n",
       "    .dataframe thead th {\n",
       "        text-align: right;\n",
       "    }\n",
       "</style>\n",
       "<table border=\"1\" class=\"dataframe\">\n",
       "  <thead>\n",
       "    <tr style=\"text-align: right;\">\n",
       "      <th></th>\n",
       "      <th>Review</th>\n",
       "      <th>Rating</th>\n",
       "      <th>Length</th>\n",
       "      <th>clean_length</th>\n",
       "    </tr>\n",
       "  </thead>\n",
       "  <tbody>\n",
       "    <tr>\n",
       "      <th>0</th>\n",
       "      <td>night mode simply amazing give clear crisp ima...</td>\n",
       "      <td>5</td>\n",
       "      <td>92</td>\n",
       "      <td>59</td>\n",
       "    </tr>\n",
       "    <tr>\n",
       "      <th>1</th>\n",
       "      <td>product fantastic great nay awesome camera.bat...</td>\n",
       "      <td>5</td>\n",
       "      <td>210</td>\n",
       "      <td>166</td>\n",
       "    </tr>\n",
       "    <tr>\n",
       "      <th>2</th>\n",
       "      <td>switched android iphone transition really smoo...</td>\n",
       "      <td>5</td>\n",
       "      <td>503</td>\n",
       "      <td>392</td>\n",
       "    </tr>\n",
       "    <tr>\n",
       "      <th>3</th>\n",
       "      <td>bought iphone numbr big billion day saved alot...</td>\n",
       "      <td>4</td>\n",
       "      <td>473</td>\n",
       "      <td>332</td>\n",
       "    </tr>\n",
       "    <tr>\n",
       "      <th>4</th>\n",
       "      <td>green colour charming pricelessno weight iphon...</td>\n",
       "      <td>5</td>\n",
       "      <td>359</td>\n",
       "      <td>338</td>\n",
       "    </tr>\n",
       "  </tbody>\n",
       "</table>\n",
       "</div>"
      ],
      "text/plain": [
       "                                              Review  Rating  Length  \\\n",
       "0  night mode simply amazing give clear crisp ima...       5      92   \n",
       "1  product fantastic great nay awesome camera.bat...       5     210   \n",
       "2  switched android iphone transition really smoo...       5     503   \n",
       "3  bought iphone numbr big billion day saved alot...       4     473   \n",
       "4  green colour charming pricelessno weight iphon...       5     359   \n",
       "\n",
       "   clean_length  \n",
       "0            59  \n",
       "1           166  \n",
       "2           392  \n",
       "3           332  \n",
       "4           338  "
      ]
     },
     "execution_count": 170,
     "metadata": {},
     "output_type": "execute_result"
    }
   ],
   "source": [
    "df['clean_length'] = df.Review.str.len()\n",
    "df.head()"
   ]
  },
  {
   "cell_type": "code",
   "execution_count": 171,
   "id": "772d3ad6",
   "metadata": {},
   "outputs": [
    {
     "name": "stdout",
     "output_type": "stream",
     "text": [
      "Origian Length 1666911\n",
      "Clean Length 1270269\n"
     ]
    }
   ],
   "source": [
    "# Total length removal\n",
    "print ('Origian Length', df.Length.sum())\n",
    "print ('Clean Length', df.clean_length.sum())"
   ]
  },
  {
   "cell_type": "markdown",
   "id": "179dd41e",
   "metadata": {},
   "source": [
    "Wordcloud does not support python 3.7 or higher till date."
   ]
  },
  {
   "cell_type": "code",
   "execution_count": 6,
   "id": "d55d667f",
   "metadata": {},
   "outputs": [
    {
     "name": "stdout",
     "output_type": "stream",
     "text": [
      "Collecting xgboost\n",
      "  Downloading xgboost-1.6.2-py3-none-win_amd64.whl (125.4 MB)\n",
      "     -------------------------------------- 125.4/125.4 MB 9.0 MB/s eta 0:00:00\n",
      "Requirement already satisfied: numpy in c:\\users\\admin\\anaconda3\\envs\\virtual_workspace\\lib\\site-packages (from xgboost) (1.23.2)\n",
      "Requirement already satisfied: scipy in c:\\users\\admin\\anaconda3\\envs\\virtual_workspace\\lib\\site-packages (from xgboost) (1.9.1)\n",
      "Installing collected packages: xgboost\n",
      "Successfully installed xgboost-1.6.2\n",
      "Note: you may need to restart the kernel to use updated packages.\n"
     ]
    }
   ],
   "source": [
    "# pip install xgboost"
   ]
  },
  {
   "cell_type": "code",
   "execution_count": 172,
   "id": "f43021ed",
   "metadata": {},
   "outputs": [],
   "source": [
    "from sklearn.naive_bayes import MultinomialNB\n",
    "from sklearn.model_selection import train_test_split\n",
    "from sklearn.metrics import accuracy_score, confusion_matrix, classification_report,roc_curve,roc_auc_score,auc\n",
    "from sklearn.model_selection import train_test_split\n",
    "\n",
    "from sklearn.model_selection import cross_val_score,GridSearchCV\n",
    "\n",
    "from sklearn.tree import DecisionTreeClassifier\n",
    "from sklearn.neighbors import KNeighborsClassifier\n",
    "from sklearn.ensemble import RandomForestClassifier,AdaBoostClassifier,GradientBoostingClassifier\n",
    "from sklearn.naive_bayes import GaussianNB\n",
    "from sklearn.linear_model import LogisticRegression\n",
    "from sklearn.svm import SVC\n",
    "from xgboost import XGBClassifier"
   ]
  },
  {
   "cell_type": "code",
   "execution_count": 173,
   "id": "5e6e97f9",
   "metadata": {},
   "outputs": [],
   "source": [
    "#  Convert text into vectors using TF-IDF\n",
    "from sklearn.feature_extraction.text import TfidfVectorizer\n",
    "tf_vec = TfidfVectorizer(max_features = 10000, stop_words='english')\n",
    "x = tf_vec.fit_transform(df['Review'])"
   ]
  },
  {
   "cell_type": "code",
   "execution_count": 174,
   "id": "1e8a044e",
   "metadata": {},
   "outputs": [
    {
     "data": {
      "text/plain": [
       "<23368x10000 sparse matrix of type '<class 'numpy.float64'>'\n",
       "\twith 153408 stored elements in Compressed Sparse Row format>"
      ]
     },
     "execution_count": 174,
     "metadata": {},
     "output_type": "execute_result"
    }
   ],
   "source": [
    "x"
   ]
  },
  {
   "cell_type": "code",
   "execution_count": 175,
   "id": "0c8b8484",
   "metadata": {},
   "outputs": [],
   "source": [
    "y=df['Rating']"
   ]
  },
  {
   "cell_type": "code",
   "execution_count": 176,
   "id": "4e72e7eb",
   "metadata": {},
   "outputs": [],
   "source": [
    "x_train,x_test,y_train,y_test=train_test_split(x,y,random_state=56,test_size=.30)"
   ]
  },
  {
   "cell_type": "code",
   "execution_count": 177,
   "id": "ff1c0fe4",
   "metadata": {},
   "outputs": [
    {
     "data": {
      "text/plain": [
       "((16357,), (7011,))"
      ]
     },
     "execution_count": 177,
     "metadata": {},
     "output_type": "execute_result"
    }
   ],
   "source": [
    "y_train.shape,y_test.shape"
   ]
  },
  {
   "cell_type": "code",
   "execution_count": 178,
   "id": "f84184f2",
   "metadata": {},
   "outputs": [
    {
     "data": {
      "text/plain": [
       "((16357, 10000), (7011, 10000))"
      ]
     },
     "execution_count": 178,
     "metadata": {},
     "output_type": "execute_result"
    }
   ],
   "source": [
    "x_train.shape,x_test.shape"
   ]
  },
  {
   "cell_type": "markdown",
   "id": "884417d7",
   "metadata": {},
   "source": [
    "# First we try to build a regression model on this 5 classes.\n",
    "# LogisticRegression"
   ]
  },
  {
   "cell_type": "code",
   "execution_count": 47,
   "id": "31de3e7a",
   "metadata": {},
   "outputs": [
    {
     "name": "stdout",
     "output_type": "stream",
     "text": [
      "Training accuracy is 76.81726477960507\n",
      "Test accuracy is 72.842675795179\n"
     ]
    }
   ],
   "source": [
    "# LogisticRegression\n",
    "LG = LogisticRegression(C=1, max_iter = 3000)\n",
    "\n",
    "LG.fit(x_train, y_train)\n",
    "\n",
    "y_pred_train = LG.predict(x_train)\n",
    "print('Training accuracy is {}'.format(accuracy_score(y_train, y_pred_train)*100))\n",
    "y_pred_lg = LG.predict(x_test)\n",
    "print('Test accuracy is {}'.format(accuracy_score(y_test,y_pred_lg)*100))"
   ]
  },
  {
   "cell_type": "code",
   "execution_count": 48,
   "id": "0639822e",
   "metadata": {},
   "outputs": [
    {
     "name": "stdout",
     "output_type": "stream",
     "text": [
      "Error:\n",
      "Mean Absolute Error: 0.4676936243046641\n",
      "Mean Squared Error: 1.1215233204963628\n",
      "Root Mean Square Error: 1.0590199811601115\n"
     ]
    }
   ],
   "source": [
    "print('Error:')\n",
    "\n",
    "print('Mean Absolute Error:',mean_absolute_error(y_test,y_pred_lg))\n",
    "print('Mean Squared Error:',mean_squared_error(y_test,y_pred_lg))\n",
    "print('Root Mean Square Error:',np.sqrt(mean_squared_error(y_test,y_pred_lg)))"
   ]
  },
  {
   "cell_type": "code",
   "execution_count": 49,
   "id": "e399a88d",
   "metadata": {},
   "outputs": [
    {
     "name": "stdout",
     "output_type": "stream",
     "text": [
      "[[ 327    0    7   17  221]\n",
      " [  65    1    8   14   74]\n",
      " [  52    0  132   44  246]\n",
      " [  46    0    7  220  985]\n",
      " [  39    0    2   77 4427]]\n",
      "              precision    recall  f1-score   support\n",
      "\n",
      "           1       0.62      0.57      0.59       572\n",
      "           2       1.00      0.01      0.01       162\n",
      "           3       0.85      0.28      0.42       474\n",
      "           4       0.59      0.17      0.27      1258\n",
      "           5       0.74      0.97      0.84      4545\n",
      "\n",
      "    accuracy                           0.73      7011\n",
      "   macro avg       0.76      0.40      0.43      7011\n",
      "weighted avg       0.72      0.73      0.67      7011\n",
      "\n",
      "0.72842675795179\n"
     ]
    }
   ],
   "source": [
    "print(confusion_matrix(y_test,y_pred_lg))\n",
    "print(classification_report(y_test,y_pred_lg))\n",
    "print(accuracy_score(y_test,y_pred_lg))"
   ]
  },
  {
   "cell_type": "code",
   "execution_count": 51,
   "id": "834199d6",
   "metadata": {},
   "outputs": [
    {
     "data": {
      "image/png": "[encoded data removed]",
      "text/plain": [
       "<Figure size 576x432 with 1 Axes>"
      ]
     },
     "metadata": {},
     "output_type": "display_data"
    }
   ],
   "source": [
    "plt.figure(figsize=(8,6))\n",
    "plt.scatter(x=y_test, y=y_pred_lg, color='r')\n",
    "plt.plot(y_test,y_pred_lg, color='b')\n",
    "plt.xlabel('Actual label',fontsize=14)\n",
    "plt.ylabel('Predicted label',fontsize=14)\n",
    "plt.title('Logistic Regression',fontsize=18)\n",
    "plt.show()"
   ]
  },
  {
   "cell_type": "markdown",
   "id": "0ae028d6",
   "metadata": {},
   "source": [
    "# obsdervation\n",
    "\n",
    "1. As we observe that no concluded results are there.\n",
    "lets build a classification model either\n"
   ]
  },
  {
   "cell_type": "markdown",
   "id": "3d34df57",
   "metadata": {},
   "source": [
    "# Since the column has binary variable we will use logistic classification model,and for that we convert the 5 classes into 2 major classes 1and 0,\n",
    "# greater than 3 are good reviews and less then 3 are bad reviews\n"
   ]
  },
  {
   "cell_type": "code",
   "execution_count": 52,
   "id": "a65b4a84",
   "metadata": {},
   "outputs": [],
   "source": [
    "# Create Classification version of target variable\n",
    "df['goodproduct'] = [1 if x >= 3 else 0 for x in df['Rating']]\n",
    "# Separate feature variables and target variable\n",
    "X = df.drop(['Rating','goodproduct'], axis = 1)\n",
    "y = df['goodproduct']"
   ]
  },
  {
   "cell_type": "code",
   "execution_count": 53,
   "id": "9de5b338",
   "metadata": {},
   "outputs": [
    {
     "data": {
      "text/plain": [
       "0        1\n",
       "1        1\n",
       "2        1\n",
       "3        1\n",
       "4        1\n",
       "        ..\n",
       "23363    1\n",
       "23364    1\n",
       "23365    1\n",
       "23366    1\n",
       "23367    1\n",
       "Name: goodproduct, Length: 23368, dtype: int64"
      ]
     },
     "execution_count": 53,
     "metadata": {},
     "output_type": "execute_result"
    }
   ],
   "source": [
    "y"
   ]
  },
  {
   "cell_type": "code",
   "execution_count": 54,
   "id": "c9aabcf0",
   "metadata": {},
   "outputs": [
    {
     "data": {
      "text/plain": [
       "1    20876\n",
       "0     2492\n",
       "Name: goodproduct, dtype: int64"
      ]
     },
     "execution_count": 54,
     "metadata": {},
     "output_type": "execute_result"
    }
   ],
   "source": [
    "y.value_counts()"
   ]
  },
  {
   "cell_type": "markdown",
   "id": "8b29a960",
   "metadata": {},
   "source": [
    "# Regressor Model Building:"
   ]
  },
  {
   "cell_type": "markdown",
   "id": "80dd9064",
   "metadata": {},
   "source": [
    "# Logistic Regression:"
   ]
  },
  {
   "cell_type": "code",
   "execution_count": 55,
   "id": "3e424bbe",
   "metadata": {},
   "outputs": [],
   "source": [
    "from sklearn.model_selection import train_test_split\n",
    "from sklearn.linear_model import LogisticRegression\n",
    "\n",
    "\n",
    "lr=LogisticRegression()\n",
    "from sklearn.metrics import accuracy_score"
   ]
  },
  {
   "cell_type": "code",
   "execution_count": 7,
   "id": "07e83732",
   "metadata": {},
   "outputs": [
    {
     "name": "stdout",
     "output_type": "stream",
     "text": [
      "Collecting imblearn\n",
      "  Downloading imblearn-0.0-py2.py3-none-any.whl (1.9 kB)\n",
      "Collecting imbalanced-learn\n",
      "  Downloading imbalanced_learn-0.9.1-py3-none-any.whl (199 kB)\n",
      "     -------------------------------------- 199.3/199.3 kB 3.0 MB/s eta 0:00:00\n",
      "Requirement already satisfied: scikit-learn>=1.1.0 in c:\\users\\admin\\anaconda3\\envs\\virtual_workspace\\lib\\site-packages (from imbalanced-learn->imblearn) (1.1.2)\n",
      "Requirement already satisfied: numpy>=1.17.3 in c:\\users\\admin\\anaconda3\\envs\\virtual_workspace\\lib\\site-packages (from imbalanced-learn->imblearn) (1.23.2)\n",
      "Requirement already satisfied: joblib>=1.0.0 in c:\\users\\admin\\anaconda3\\envs\\virtual_workspace\\lib\\site-packages (from imbalanced-learn->imblearn) (1.1.0)\n",
      "Requirement already satisfied: scipy>=1.3.2 in c:\\users\\admin\\anaconda3\\envs\\virtual_workspace\\lib\\site-packages (from imbalanced-learn->imblearn) (1.9.1)\n",
      "Requirement already satisfied: threadpoolctl>=2.0.0 in c:\\users\\admin\\anaconda3\\envs\\virtual_workspace\\lib\\site-packages (from imbalanced-learn->imblearn) (3.1.0)\n",
      "Installing collected packages: imbalanced-learn, imblearn\n",
      "Successfully installed imbalanced-learn-0.9.1 imblearn-0.0\n",
      "Note: you may need to restart the kernel to use updated packages.\n"
     ]
    }
   ],
   "source": [
    "# pip install imblearn"
   ]
  },
  {
   "cell_type": "code",
   "execution_count": 56,
   "id": "653f02c9",
   "metadata": {},
   "outputs": [],
   "source": [
    "from imblearn.over_sampling import SMOTE"
   ]
  },
  {
   "cell_type": "code",
   "execution_count": 57,
   "id": "379649b7",
   "metadata": {},
   "outputs": [],
   "source": [
    "smt=SMOTE()\n",
    "x_train,y_train=smt.fit_resample(x,y)"
   ]
  },
  {
   "cell_type": "code",
   "execution_count": 58,
   "id": "0494276a",
   "metadata": {},
   "outputs": [
    {
     "data": {
      "text/plain": [
       "array([ 2492, 20876], dtype=int64)"
      ]
     },
     "execution_count": 58,
     "metadata": {},
     "output_type": "execute_result"
    }
   ],
   "source": [
    "np.bincount(y)"
   ]
  },
  {
   "cell_type": "code",
   "execution_count": 59,
   "id": "207c754f",
   "metadata": {},
   "outputs": [
    {
     "data": {
      "text/plain": [
       "1    20876\n",
       "0    20876\n",
       "Name: goodproduct, dtype: int64"
      ]
     },
     "execution_count": 59,
     "metadata": {},
     "output_type": "execute_result"
    }
   ],
   "source": [
    "y_train.value_counts()"
   ]
  },
  {
   "cell_type": "code",
   "execution_count": 61,
   "id": "5b90b7b9",
   "metadata": {},
   "outputs": [
    {
     "name": "stdout",
     "output_type": "stream",
     "text": [
      "At random state 99  The model performs very well\n",
      "At random_state:- 99\n",
      "Training accuracy_score is:- 93.53268428372739\n",
      "Testing accuracy_score is:- 93.47454000855798\n",
      "At random state 117  The model performs very well\n",
      "At random_state:- 117\n",
      "Training accuracy_score is:- 93.58082807317855\n",
      "Testing accuracy_score is:- 93.64569961489089\n",
      "At random state 268  The model performs very well\n",
      "At random_state:- 268\n",
      "Training accuracy_score is:- 93.60757462287364\n",
      "Testing accuracy_score is:- 93.64569961489089\n",
      "At random state 271  The model performs very well\n",
      "At random_state:- 271\n",
      "Training accuracy_score is:- 93.58617738311757\n",
      "Testing accuracy_score is:- 93.62430466409927\n",
      "At random state 274  The model performs very well\n",
      "At random_state:- 274\n",
      "Training accuracy_score is:- 93.67176634214186\n",
      "Testing accuracy_score is:- 93.68848951647412\n",
      "At random state 498  The model performs very well\n",
      "At random_state:- 498\n",
      "Training accuracy_score is:- 93.58082807317855\n",
      "Testing accuracy_score is:- 93.58151476251605\n"
     ]
    }
   ],
   "source": [
    "for i in range(0,500):\n",
    "    x_train,x_test,y_train,y_test=train_test_split(x,y,random_state=i,test_size=0.20)\n",
    "    lr.fit(x_train,y_train)\n",
    "    pred_train=lr.predict(x_train)\n",
    "    pred_test=lr.predict(x_test)\n",
    "    if round(accuracy_score(y_train,pred_train)*100,1)==round(accuracy_score(y_test,pred_test)*100,1):\n",
    "        print(\"At random state\",i,\" The model performs very well\")\n",
    "        print(\"At random_state:-\",i)\n",
    "        print(\"Training accuracy_score is:-\", accuracy_score(y_train,pred_train)*100)\n",
    "        print(\"Testing accuracy_score is:-\", accuracy_score(y_test,pred_test)*100)"
   ]
  },
  {
   "cell_type": "code",
   "execution_count": 62,
   "id": "2793630f",
   "metadata": {},
   "outputs": [],
   "source": [
    "x_train,x_test,y_train,y_test=train_test_split(x,y,random_state=274,test_size=0.20)"
   ]
  },
  {
   "cell_type": "code",
   "execution_count": 63,
   "id": "f3027ae1",
   "metadata": {},
   "outputs": [
    {
     "data": {
      "text/plain": [
       "(18694, 10000)"
      ]
     },
     "execution_count": 63,
     "metadata": {},
     "output_type": "execute_result"
    }
   ],
   "source": [
    "x_train.shape"
   ]
  },
  {
   "cell_type": "code",
   "execution_count": 64,
   "id": "f69ba72d",
   "metadata": {},
   "outputs": [
    {
     "data": {
      "text/plain": [
       "(18694,)"
      ]
     },
     "execution_count": 64,
     "metadata": {},
     "output_type": "execute_result"
    }
   ],
   "source": [
    "y_train.shape"
   ]
  },
  {
   "cell_type": "code",
   "execution_count": 65,
   "id": "e99bf86c",
   "metadata": {},
   "outputs": [
    {
     "data": {
      "text/plain": [
       "(4674, 10000)"
      ]
     },
     "execution_count": 65,
     "metadata": {},
     "output_type": "execute_result"
    }
   ],
   "source": [
    "x_test.shape"
   ]
  },
  {
   "cell_type": "code",
   "execution_count": 66,
   "id": "c0669f76",
   "metadata": {},
   "outputs": [
    {
     "data": {
      "text/plain": [
       "(4674,)"
      ]
     },
     "execution_count": 66,
     "metadata": {},
     "output_type": "execute_result"
    }
   ],
   "source": [
    "y_test.shape"
   ]
  },
  {
   "cell_type": "code",
   "execution_count": 67,
   "id": "5bd4e6b3",
   "metadata": {},
   "outputs": [
    {
     "data": {
      "text/plain": [
       "0.9283269148480958"
      ]
     },
     "execution_count": 67,
     "metadata": {},
     "output_type": "execute_result"
    }
   ],
   "source": [
    "x_train,x_test,y_train,y_test=train_test_split(x,y,random_state=49,test_size=0.20)\n",
    "lr=LogisticRegression()\n",
    "lr.fit(x_train,y_train)\n",
    "lr.score(x_train,y_train)\n",
    "\n",
    "pred_test=lr.predict(x_test)\n",
    "\n",
    "from sklearn.metrics import accuracy_score\n",
    "accuracy_score(y_test,pred_test)"
   ]
  },
  {
   "cell_type": "code",
   "execution_count": 68,
   "id": "fa527738",
   "metadata": {},
   "outputs": [
    {
     "name": "stdout",
     "output_type": "stream",
     "text": [
      "Error:\n",
      "Mean Absolute Error: 0.07167308515190415\n",
      "Mean Squared Error: 0.07167308515190415\n",
      "Root Mean Square Error: 0.26771829439151923\n"
     ]
    }
   ],
   "source": [
    "print('Error:')\n",
    "\n",
    "print('Mean Absolute Error:',mean_absolute_error(y_test,pred_test))\n",
    "print('Mean Squared Error:',mean_squared_error(y_test,pred_test))\n",
    "print('Root Mean Square Error:',np.sqrt(mean_squared_error(y_test,pred_test)))"
   ]
  },
  {
   "cell_type": "code",
   "execution_count": 69,
   "id": "2113c05c",
   "metadata": {},
   "outputs": [
    {
     "name": "stdout",
     "output_type": "stream",
     "text": [
      "              precision    recall  f1-score   support\n",
      "\n",
      "           0       0.79      0.41      0.54       480\n",
      "           1       0.94      0.99      0.96      4194\n",
      "\n",
      "    accuracy                           0.93      4674\n",
      "   macro avg       0.86      0.70      0.75      4674\n",
      "weighted avg       0.92      0.93      0.92      4674\n",
      "\n"
     ]
    }
   ],
   "source": [
    "from sklearn.metrics import classification_report\n",
    "print(classification_report(y_test,pred_test))"
   ]
  },
  {
   "cell_type": "code",
   "execution_count": 70,
   "id": "c7e518bd",
   "metadata": {},
   "outputs": [
    {
     "name": "stdout",
     "output_type": "stream",
     "text": [
      "At cv:- 2\n",
      "Cross validation score is :- 90.35861006504622\n",
      "accuracy_score is :- 92.83269148480959\n",
      "\n",
      "\n",
      "At cv:- 3\n",
      "Cross validation score is :- 89.16453554937668\n",
      "accuracy_score is :- 92.83269148480959\n",
      "\n",
      "\n",
      "At cv:- 4\n",
      "Cross validation score is :- 89.26737418692228\n",
      "accuracy_score is :- 92.83269148480959\n",
      "\n",
      "\n",
      "At cv:- 5\n",
      "Cross validation score is :- 89.65648490435821\n",
      "accuracy_score is :- 92.83269148480959\n",
      "\n",
      "\n",
      "At cv:- 6\n",
      "Cross validation score is :- 89.95177180301525\n",
      "accuracy_score is :- 92.83269148480959\n",
      "\n",
      "\n",
      "At cv:- 7\n",
      "Cross validation score is :- 89.8918513183071\n",
      "accuracy_score is :- 92.83269148480959\n",
      "\n",
      "\n",
      "At cv:- 8\n",
      "Cross validation score is :- 90.47843204382062\n",
      "accuracy_score is :- 92.83269148480959\n",
      "\n",
      "\n",
      "At cv:- 9\n",
      "Cross validation score is :- 90.5165818592654\n",
      "accuracy_score is :- 92.83269148480959\n",
      "\n",
      "\n"
     ]
    }
   ],
   "source": [
    "pred_lr=lr.predict(x_test)\n",
    "from sklearn.model_selection import cross_val_score\n",
    "lrs=accuracy_score (y_test,pred_lr)\n",
    "for j in range(2,10):\n",
    "    lsscore=cross_val_score(lr,x,y,cv=j)\n",
    "    lsc=lsscore.mean()\n",
    "    print(\"At cv:-\", j)\n",
    "    print(\"Cross validation score is :-\",lsc*100)\n",
    "    print(\"accuracy_score is :-\",lrs*100)\n",
    "    print(\"\\n\")"
   ]
  },
  {
   "cell_type": "code",
   "execution_count": 71,
   "id": "e07f2814",
   "metadata": {},
   "outputs": [
    {
     "name": "stdout",
     "output_type": "stream",
     "text": [
      "Cross validation score is :- 90.5165818592654\n",
      "accuracy_score is :- 92.83269148480959\n"
     ]
    }
   ],
   "source": [
    "lrscore=cross_val_score(lr,x,y,cv=9)\n",
    "print(\"Cross validation score is :-\",lsc*100)\n",
    "print(\"accuracy_score is :-\",lrs*100)"
   ]
  },
  {
   "cell_type": "code",
   "execution_count": 72,
   "id": "fd8060c6",
   "metadata": {},
   "outputs": [
    {
     "data": {
      "text/plain": [
       "92.83269148480959"
      ]
     },
     "execution_count": 72,
     "metadata": {},
     "output_type": "execute_result"
    }
   ],
   "source": [
    "lrs*100"
   ]
  },
  {
   "cell_type": "code",
   "execution_count": 73,
   "id": "646cd03c",
   "metadata": {},
   "outputs": [
    {
     "name": "stdout",
     "output_type": "stream",
     "text": [
      "[[ 199  281]\n",
      " [  54 4140]]\n",
      "0.9283269148480958\n",
      "              precision    recall  f1-score   support\n",
      "\n",
      "           0       0.79      0.41      0.54       480\n",
      "           1       0.94      0.99      0.96      4194\n",
      "\n",
      "    accuracy                           0.93      4674\n",
      "   macro avg       0.86      0.70      0.75      4674\n",
      "weighted avg       0.92      0.93      0.92      4674\n",
      "\n"
     ]
    }
   ],
   "source": [
    "from sklearn.metrics import accuracy_score,confusion_matrix,classification_report\n",
    "print(confusion_matrix(y_test,pred_test))\n",
    "print(accuracy_score(y_test,pred_test))\n",
    "print(classification_report(y_test,pred_test))"
   ]
  },
  {
   "cell_type": "code",
   "execution_count": 75,
   "id": "7c437377",
   "metadata": {},
   "outputs": [
    {
     "data": {
      "image/png": "[encoded data removed]",
      "text/plain": [
       "<Figure size 576x432 with 1 Axes>"
      ]
     },
     "metadata": {},
     "output_type": "display_data"
    }
   ],
   "source": [
    "plt.figure(figsize=(8,6))\n",
    "plt.scatter(x=y_test, y=pred_lr, color='r')\n",
    "plt.plot(y_test,y_test, color='b')\n",
    "plt.xlabel('Actual Rating',fontsize=14)\n",
    "plt.ylabel('Predicted Rating',fontsize=14)\n",
    "plt.title('Logistic Regression',fontsize=18)\n",
    "plt.show()"
   ]
  },
  {
   "cell_type": "markdown",
   "id": "05bb79c2",
   "metadata": {},
   "source": [
    "# 1. Ridge"
   ]
  },
  {
   "cell_type": "code",
   "execution_count": 109,
   "id": "1fb34961",
   "metadata": {},
   "outputs": [
    {
     "name": "stdout",
     "output_type": "stream",
     "text": [
      "{'alpha': 1, 'copy_X': True, 'fit_intercept': True, 'normalize': False, 'random_state': 0, 'tol': 0.001}\n"
     ]
    }
   ],
   "source": [
    "from sklearn.linear_model import RidgeClassifier\n",
    "\n",
    "parameters = {'alpha':[.0001, .001, .01, .1, 1],'fit_intercept':[True,False],'normalize':[True,False],'copy_X':[True,False],'tol':[0.001,0.01,0.1],'random_state':[0,1,2,3,4,5,6,7,8,9]}\n",
    "rd = RidgeClassifier()\n",
    "clf = GridSearchCV(rd,parameters)\n",
    "clf.fit(x_train,y_train)\n",
    "\n",
    "print(clf.best_params_)"
   ]
  },
  {
   "cell_type": "code",
   "execution_count": 77,
   "id": "147327bd",
   "metadata": {},
   "outputs": [
    {
     "name": "stdout",
     "output_type": "stream",
     "text": [
      "R2 Score: 23.6137935145446\n",
      "Cross Val Score: 88.53560424512152\n"
     ]
    }
   ],
   "source": [
    "from sklearn.linear_model import RidgeClassifier\n",
    "from sklearn.metrics import mean_squared_error,mean_absolute_error,r2_score\n",
    "\n",
    "rd = RidgeClassifier(alpha=1, copy_X= True, fit_intercept= True, normalize=False, random_state= 0, tol= 0.001)\n",
    "rd.fit(x_train,y_train)\n",
    "rd.score(x_train,y_train)\n",
    "pred_rd = rd.predict(x_test)\n",
    "\n",
    "rds = r2_score(y_test,pred_rd)\n",
    "print('R2 Score:',rds*100)\n",
    "\n",
    "rdscore = cross_val_score(rd,x,y,cv=8)\n",
    "rdc = rdscore.mean() \n",
    "print('Cross Val Score:',rdc*100)"
   ]
  },
  {
   "cell_type": "code",
   "execution_count": 78,
   "id": "e7c05a5f",
   "metadata": {},
   "outputs": [
    {
     "name": "stdout",
     "output_type": "stream",
     "text": [
      "Error:\n",
      "Mean Absolute Error: 0.07038938810440735\n",
      "Mean Squared Error: 0.07038938810440735\n",
      "Root Mean Square Error: 0.2653099849316029\n"
     ]
    }
   ],
   "source": [
    "print('Error:')\n",
    "\n",
    "print('Mean Absolute Error:',mean_absolute_error(y_test,pred_rd))\n",
    "print('Mean Squared Error:',mean_squared_error(y_test,pred_rd))\n",
    "print('Root Mean Square Error:',np.sqrt(mean_squared_error(y_test,pred_rd)))"
   ]
  },
  {
   "cell_type": "code",
   "execution_count": 79,
   "id": "d2a02d12",
   "metadata": {},
   "outputs": [
    {
     "name": "stdout",
     "output_type": "stream",
     "text": [
      "0.9296106118955927\n",
      "[[ 204  276]\n",
      " [  53 4141]]\n",
      "              precision    recall  f1-score   support\n",
      "\n",
      "           0       0.79      0.42      0.55       480\n",
      "           1       0.94      0.99      0.96      4194\n",
      "\n",
      "    accuracy                           0.93      4674\n",
      "   macro avg       0.87      0.71      0.76      4674\n",
      "weighted avg       0.92      0.93      0.92      4674\n",
      "\n"
     ]
    }
   ],
   "source": [
    "print(accuracy_score(y_test,pred_rd))\n",
    "print(confusion_matrix(y_test,pred_rd))\n",
    "print(classification_report(y_test,pred_rd))"
   ]
  },
  {
   "cell_type": "code",
   "execution_count": 80,
   "id": "11d84887",
   "metadata": {},
   "outputs": [
    {
     "data": {
      "image/png": "[encoded data removed]",
      "text/plain": [
       "<Figure size 576x432 with 1 Axes>"
      ]
     },
     "metadata": {},
     "output_type": "display_data"
    }
   ],
   "source": [
    "plt.figure(figsize=(8,6))\n",
    "plt.scatter(x=y_test, y=pred_rd, color='r')\n",
    "plt.plot(y_test,y_test, color='b')\n",
    "plt.xlabel('Actual Rating',fontsize=14)\n",
    "plt.ylabel('Predicted Rating',fontsize=14)\n",
    "plt.title('Ridge Regression',fontsize=18)\n",
    "plt.show()"
   ]
  },
  {
   "cell_type": "markdown",
   "id": "ea8d8ebe",
   "metadata": {},
   "source": [
    "\n",
    "# DecisionTreeClassifier"
   ]
  },
  {
   "cell_type": "code",
   "execution_count": 127,
   "id": "8d8f3f0e",
   "metadata": {},
   "outputs": [
    {
     "name": "stdout",
     "output_type": "stream",
     "text": [
      "{'criterion': 'entropy', 'max_features': 'auto', 'splitter': 'best'}\n"
     ]
    }
   ],
   "source": [
    "from sklearn.tree import DecisionTreeClassifier\n",
    "\n",
    "parameters = {'criterion':['gini', 'entropy'], 'splitter':['best', 'random'],'max_features':['auto', 'sqrt', 'log2']}\n",
    "dt =DecisionTreeClassifier()\n",
    "clf = GridSearchCV(dt,parameters)\n",
    "clf.fit(x_train,y_train)\n",
    "\n",
    "print(clf.best_params_)"
   ]
  },
  {
   "cell_type": "code",
   "execution_count": 81,
   "id": "b4b68828",
   "metadata": {},
   "outputs": [
    {
     "name": "stdout",
     "output_type": "stream",
     "text": [
      "R2 Score: 2.25351692894612\n",
      "Cross Val Score: 89.34856904715114\n"
     ]
    }
   ],
   "source": [
    "dt = DecisionTreeClassifier(criterion='entropy', splitter='best',max_features = 'auto')\n",
    "dt.fit(x_train,y_train)\n",
    "dt.score(x_train,y_train)\n",
    "pred_decision = dt.predict(x_test)\n",
    "\n",
    "dts = r2_score(y_test,pred_decision)\n",
    "print('R2 Score:',dts*100)\n",
    "\n",
    "dtscore = cross_val_score(dt,x,y,cv=38)\n",
    "dtc = dtscore.mean() \n",
    "print('Cross Val Score:',dtc*100)"
   ]
  },
  {
   "cell_type": "code",
   "execution_count": 82,
   "id": "1ed31824",
   "metadata": {},
   "outputs": [
    {
     "name": "stdout",
     "output_type": "stream",
     "text": [
      "Error:\n",
      "Mean Absolute Error: 0.09007274283269148\n",
      "Mean Squared Error: 0.09007274283269148\n",
      "Root Mean Square Error: 0.3001212135666046\n"
     ]
    }
   ],
   "source": [
    "print('Error:')\n",
    "\n",
    "print('Mean Absolute Error:',mean_absolute_error(y_test,pred_decision))\n",
    "print('Mean Squared Error:',mean_squared_error(y_test,pred_decision))\n",
    "print('Root Mean Square Error:',np.sqrt(mean_squared_error(y_test,pred_decision)))"
   ]
  },
  {
   "cell_type": "code",
   "execution_count": 83,
   "id": "78b75534",
   "metadata": {},
   "outputs": [
    {
     "name": "stdout",
     "output_type": "stream",
     "text": [
      "0.9099272571673085\n",
      "[[ 241  239]\n",
      " [ 182 4012]]\n",
      "              precision    recall  f1-score   support\n",
      "\n",
      "           0       0.57      0.50      0.53       480\n",
      "           1       0.94      0.96      0.95      4194\n",
      "\n",
      "    accuracy                           0.91      4674\n",
      "   macro avg       0.76      0.73      0.74      4674\n",
      "weighted avg       0.91      0.91      0.91      4674\n",
      "\n"
     ]
    }
   ],
   "source": [
    "print(accuracy_score(y_test,pred_decision))\n",
    "print(confusion_matrix(y_test,pred_decision))\n",
    "print(classification_report(y_test,pred_decision))"
   ]
  },
  {
   "cell_type": "code",
   "execution_count": 84,
   "id": "08f6ed80",
   "metadata": {},
   "outputs": [
    {
     "data": {
      "image/png": "[encoded data removed]",
      "text/plain": [
       "<Figure size 576x432 with 1 Axes>"
      ]
     },
     "metadata": {},
     "output_type": "display_data"
    }
   ],
   "source": [
    "plt.figure(figsize=(8,6))\n",
    "plt.scatter(x=y_test, y=pred_decision, color='r')\n",
    "plt.plot(y_test,y_test, color='b')\n",
    "plt.xlabel('Actual Rating',fontsize=14)\n",
    "plt.ylabel('Predicted Rating',fontsize=14)\n",
    "plt.title('Decision Tree Classifier',fontsize=18)\n",
    "plt.show()"
   ]
  },
  {
   "cell_type": "markdown",
   "id": "4ad84b9b",
   "metadata": {},
   "source": [
    "# Random Forest Classifier"
   ]
  },
  {
   "cell_type": "code",
   "execution_count": 85,
   "id": "1448ac13",
   "metadata": {},
   "outputs": [
    {
     "name": "stdout",
     "output_type": "stream",
     "text": [
      "Training accuracy is 0.9861987803573339\n",
      "Test accuracy is 0.9313222079589217\n"
     ]
    }
   ],
   "source": [
    "RF = RandomForestClassifier()\n",
    "\n",
    "RF.fit(x_train, y_train)\n",
    "y_pred_train = RF.predict(x_train)\n",
    "print('Training accuracy is {}'.format(accuracy_score(y_train, y_pred_train)))\n",
    "y_pred_rfc = RF.predict(x_test)\n",
    "print('Test accuracy is {}'.format(accuracy_score(y_test,y_pred_rfc)))"
   ]
  },
  {
   "cell_type": "code",
   "execution_count": 86,
   "id": "350eb057",
   "metadata": {},
   "outputs": [
    {
     "name": "stdout",
     "output_type": "stream",
     "text": [
      "[[ 224  256]\n",
      " [  65 4129]]\n",
      "              precision    recall  f1-score   support\n",
      "\n",
      "           0       0.78      0.47      0.58       480\n",
      "           1       0.94      0.98      0.96      4194\n",
      "\n",
      "    accuracy                           0.93      4674\n",
      "   macro avg       0.86      0.73      0.77      4674\n",
      "weighted avg       0.92      0.93      0.92      4674\n",
      "\n",
      "0.9313222079589217\n"
     ]
    }
   ],
   "source": [
    "print(confusion_matrix(y_test,y_pred_rfc))\n",
    "print(classification_report(y_test,y_pred_rfc))\n",
    "print(accuracy_score(y_test,y_pred_rfc))"
   ]
  },
  {
   "cell_type": "code",
   "execution_count": 87,
   "id": "0eb17787",
   "metadata": {},
   "outputs": [
    {
     "name": "stdout",
     "output_type": "stream",
     "text": [
      "Error:\n",
      "Mean Absolute Error: 0.06867779204107831\n",
      "Mean Squared Error: 0.06867779204107831\n",
      "Root Mean Square Error: 0.2620644806933559\n"
     ]
    }
   ],
   "source": [
    "print('Error:')\n",
    "\n",
    "print('Mean Absolute Error:',mean_absolute_error(y_test,y_pred_rfc))\n",
    "print('Mean Squared Error:',mean_squared_error(y_test,y_pred_rfc))\n",
    "print('Root Mean Square Error:',np.sqrt(mean_squared_error(y_test,y_pred_rfc)))"
   ]
  },
  {
   "cell_type": "code",
   "execution_count": 88,
   "id": "222a1aa1",
   "metadata": {},
   "outputs": [
    {
     "data": {
      "image/png": "[encoded data removed]",
      "text/plain": [
       "<Figure size 576x432 with 1 Axes>"
      ]
     },
     "metadata": {},
     "output_type": "display_data"
    }
   ],
   "source": [
    "plt.figure(figsize=(8,6))\n",
    "plt.scatter(x=y_test, y=y_pred_rfc, color='r')\n",
    "plt.plot(y_test,y_test, color='b')\n",
    "plt.xlabel('Actual Rating',fontsize=14)\n",
    "plt.ylabel('Predicted rating',fontsize=14)\n",
    "plt.title('RandomForestClassifier',fontsize=18)\n",
    "plt.show()"
   ]
  },
  {
   "cell_type": "markdown",
   "id": "bec048f8",
   "metadata": {},
   "source": [
    "# xgboost"
   ]
  },
  {
   "cell_type": "code",
   "execution_count": 89,
   "id": "2a50e00d",
   "metadata": {},
   "outputs": [
    {
     "name": "stdout",
     "output_type": "stream",
     "text": [
      "Training accuracy is 0.9485396383866481\n",
      "Test accuracy is 0.9338896020539152\n"
     ]
    }
   ],
   "source": [
    "import xgboost\n",
    "xgb = xgboost.XGBClassifier(eval_metric='mlogloss')\n",
    "xgb.fit(x_train, y_train)\n",
    "y_pred_train = xgb.predict(x_train)\n",
    "print('Training accuracy is {}'.format(accuracy_score(y_train, y_pred_train)))\n",
    "y_pred_xgb = xgb.predict(x_test)\n",
    "print('Test accuracy is {}'.format(accuracy_score(y_test,y_pred_xgb)))"
   ]
  },
  {
   "cell_type": "code",
   "execution_count": 90,
   "id": "f4546041",
   "metadata": {},
   "outputs": [
    {
     "name": "stdout",
     "output_type": "stream",
     "text": [
      "Error:\n",
      "Mean Absolute Error: 0.06611039794608473\n",
      "Mean Squared Error: 0.06611039794608473\n",
      "Root Mean Square Error: 0.25711942350994166\n"
     ]
    }
   ],
   "source": [
    "print('Error:')\n",
    "\n",
    "print('Mean Absolute Error:',mean_absolute_error(y_test,y_pred_xgb))\n",
    "print('Mean Squared Error:',mean_squared_error(y_test,y_pred_xgb))\n",
    "print('Root Mean Square Error:',np.sqrt(mean_squared_error(y_test,y_pred_xgb)))"
   ]
  },
  {
   "cell_type": "code",
   "execution_count": 91,
   "id": "4ed282ef",
   "metadata": {},
   "outputs": [
    {
     "name": "stdout",
     "output_type": "stream",
     "text": [
      "[[ 230  250]\n",
      " [  59 4135]]\n",
      "              precision    recall  f1-score   support\n",
      "\n",
      "           0       0.80      0.48      0.60       480\n",
      "           1       0.94      0.99      0.96      4194\n",
      "\n",
      "    accuracy                           0.93      4674\n",
      "   macro avg       0.87      0.73      0.78      4674\n",
      "weighted avg       0.93      0.93      0.93      4674\n",
      "\n",
      "0.9338896020539152\n"
     ]
    }
   ],
   "source": [
    "print(confusion_matrix(y_test,y_pred_xgb))\n",
    "print(classification_report(y_test,y_pred_xgb))\n",
    "print(accuracy_score(y_test,y_pred_xgb))"
   ]
  },
  {
   "cell_type": "code",
   "execution_count": 92,
   "id": "0b714963",
   "metadata": {},
   "outputs": [
    {
     "data": {
      "image/png": "[encoded data removed]",
      "text/plain": [
       "<Figure size 576x432 with 1 Axes>"
      ]
     },
     "metadata": {},
     "output_type": "display_data"
    }
   ],
   "source": [
    "plt.figure(figsize=(8,6))\n",
    "plt.scatter(x=y_test, y=y_pred_xgb, color='r')\n",
    "plt.plot(y_test,y_pred_xgb, color='b')\n",
    "plt.xlabel('Actual Rating',fontsize=14)\n",
    "plt.ylabel('Predicted Rating',fontsize=14)\n",
    "plt.title('xgboost',fontsize=18)\n",
    "plt.show()"
   ]
  },
  {
   "cell_type": "markdown",
   "id": "06390e79",
   "metadata": {},
   "source": [
    "# AdaBoostClassifier"
   ]
  },
  {
   "cell_type": "code",
   "execution_count": 93,
   "id": "b297adcd",
   "metadata": {},
   "outputs": [
    {
     "name": "stdout",
     "output_type": "stream",
     "text": [
      "Training accuracy is 0.9311008879854499\n",
      "Test accuracy is 0.9238339751818571\n"
     ]
    }
   ],
   "source": [
    "ada=AdaBoostClassifier(n_estimators=100)\n",
    "ada.fit(x_train, y_train)\n",
    "y_pred_train = ada.predict(x_train)\n",
    "print('Training accuracy is {}'.format(accuracy_score(y_train, y_pred_train)))\n",
    "y_pred_ada = ada.predict(x_test)\n",
    "print('Test accuracy is {}'.format(accuracy_score(y_test,y_pred_ada)))"
   ]
  },
  {
   "cell_type": "code",
   "execution_count": 94,
   "id": "563115d1",
   "metadata": {},
   "outputs": [
    {
     "name": "stdout",
     "output_type": "stream",
     "text": [
      "Error:\n",
      "Mean Absolute Error: 0.07616602481814291\n",
      "Mean Squared Error: 0.07616602481814291\n",
      "Root Mean Square Error: 0.27598192842674124\n"
     ]
    }
   ],
   "source": [
    "print('Error:')\n",
    "\n",
    "print('Mean Absolute Error:',mean_absolute_error(y_test,y_pred_ada))\n",
    "print('Mean Squared Error:',mean_squared_error(y_test,y_pred_ada))\n",
    "print('Root Mean Square Error:',np.sqrt(mean_squared_error(y_test,y_pred_ada)))"
   ]
  },
  {
   "cell_type": "code",
   "execution_count": 95,
   "id": "01207e24",
   "metadata": {},
   "outputs": [
    {
     "name": "stdout",
     "output_type": "stream",
     "text": [
      "[[ 210  270]\n",
      " [  86 4108]]\n",
      "              precision    recall  f1-score   support\n",
      "\n",
      "           0       0.71      0.44      0.54       480\n",
      "           1       0.94      0.98      0.96      4194\n",
      "\n",
      "    accuracy                           0.92      4674\n",
      "   macro avg       0.82      0.71      0.75      4674\n",
      "weighted avg       0.91      0.92      0.92      4674\n",
      "\n",
      "0.9238339751818571\n"
     ]
    }
   ],
   "source": [
    "print(confusion_matrix(y_test,y_pred_ada))\n",
    "print(classification_report(y_test,y_pred_ada))\n",
    "print(accuracy_score(y_test,y_pred_ada))"
   ]
  },
  {
   "cell_type": "code",
   "execution_count": 97,
   "id": "5b63838a",
   "metadata": {},
   "outputs": [
    {
     "data": {
      "image/png": "[encoded data removed]",
      "text/plain": [
       "<Figure size 576x432 with 1 Axes>"
      ]
     },
     "metadata": {},
     "output_type": "display_data"
    }
   ],
   "source": [
    "plt.figure(figsize=(8,6))\n",
    "plt.scatter(x=y_test, y=y_pred_ada, color='r')\n",
    "plt.plot(y_test,y_test, color='b')\n",
    "plt.xlabel('Actual Rating',fontsize=14)\n",
    "plt.ylabel('Predicted Rating',fontsize=14)\n",
    "plt.title('AdaBoostClassifier',fontsize=18)\n",
    "plt.show()"
   ]
  },
  {
   "cell_type": "markdown",
   "id": "72d461ad",
   "metadata": {},
   "source": [
    "# KNeighborsClassifier"
   ]
  },
  {
   "cell_type": "code",
   "execution_count": 105,
   "id": "99f2d9d4",
   "metadata": {},
   "outputs": [
    {
     "name": "stdout",
     "output_type": "stream",
     "text": [
      "Training accuracy is 0.9126457686958382\n",
      "Test accuracy is 0.9107830551989731\n"
     ]
    }
   ],
   "source": [
    "knn=KNeighborsClassifier(n_neighbors=9)\n",
    "knn.fit(x_train, y_train)\n",
    "y_pred_train = knn.predict(x_train)\n",
    "print('Training accuracy is {}'.format(accuracy_score(y_train, y_pred_train)))\n",
    "y_pred_knn = knn.predict(x_test)\n",
    "print('Test accuracy is {}'.format(accuracy_score(y_test,y_pred_knn)))"
   ]
  },
  {
   "cell_type": "code",
   "execution_count": 106,
   "id": "e9dd3fdd",
   "metadata": {},
   "outputs": [
    {
     "name": "stdout",
     "output_type": "stream",
     "text": [
      "Error:\n",
      "Mean Absolute Error: 0.08921694480102696\n",
      "Mean Squared Error: 0.08921694480102696\n",
      "Root Mean Square Error: 0.2986920568093952\n"
     ]
    }
   ],
   "source": [
    "print('Error:')\n",
    "\n",
    "print('Mean Absolute Error:',mean_absolute_error(y_test,y_pred_knn))\n",
    "print('Mean Squared Error:',mean_squared_error(y_test,y_pred_knn))\n",
    "print('Root Mean Square Error:',np.sqrt(mean_squared_error(y_test,y_pred_knn)))"
   ]
  },
  {
   "cell_type": "code",
   "execution_count": 107,
   "id": "f0d5abb3",
   "metadata": {},
   "outputs": [
    {
     "name": "stdout",
     "output_type": "stream",
     "text": [
      "[[  90  390]\n",
      " [  27 4167]]\n",
      "              precision    recall  f1-score   support\n",
      "\n",
      "           0       0.77      0.19      0.30       480\n",
      "           1       0.91      0.99      0.95      4194\n",
      "\n",
      "    accuracy                           0.91      4674\n",
      "   macro avg       0.84      0.59      0.63      4674\n",
      "weighted avg       0.90      0.91      0.89      4674\n",
      "\n",
      "0.9107830551989731\n"
     ]
    }
   ],
   "source": [
    "print(confusion_matrix(y_test,y_pred_knn))\n",
    "print(classification_report(y_test,y_pred_knn))\n",
    "print(accuracy_score(y_test,y_pred_knn))"
   ]
  },
  {
   "cell_type": "code",
   "execution_count": 128,
   "id": "b5c9992b",
   "metadata": {},
   "outputs": [
    {
     "data": {
      "image/png": "[encoded data removed]",
      "text/plain": [
       "<Figure size 576x432 with 1 Axes>"
      ]
     },
     "metadata": {},
     "output_type": "display_data"
    }
   ],
   "source": [
    "plt.figure(figsize=(8,6))\n",
    "plt.scatter(x=y_test, y=y_pred_knn, color='r')\n",
    "plt.plot(y_test,y_test, color='b')\n",
    "plt.xlabel('Actual Rating',fontsize=14)\n",
    "plt.ylabel('Predicted Rating',fontsize=14)\n",
    "plt.title('KNeighborsClassifier',fontsize=18)\n",
    "plt.show()"
   ]
  },
  {
   "cell_type": "markdown",
   "id": "20a57b94",
   "metadata": {},
   "source": [
    "# Support Vector Classifier"
   ]
  },
  {
   "cell_type": "markdown",
   "id": "626f158c",
   "metadata": {},
   "source": [
    "# List of accuracy score of different classification models"
   ]
  },
  {
   "cell_type": "code",
   "execution_count": 108,
   "id": "43ff400d",
   "metadata": {},
   "outputs": [
    {
     "name": "stdout",
     "output_type": "stream",
     "text": [
      "logistic Regression:- 0.9283269148480958\n",
      "Ridge classifier:- 0.9296106118955927\n",
      "Dicision Tree Classifier:- 0.9099272571673085\n",
      "Random Forest classifier:- 0.9313222079589217\n",
      "xgboost:- 0.9338896020539152\n",
      "AdaBoostClassifier:- 0.9238339751818571\n",
      "KNeighborsClassifier:- 0.9107830551989731\n"
     ]
    }
   ],
   "source": [
    "print(\"logistic Regression:-\",accuracy_score(y_test,pred_lr))\n",
    "print(\"Ridge classifier:-\",accuracy_score(y_test,pred_rd))\n",
    "print(\"Dicision Tree Classifier:-\",accuracy_score(y_test,pred_decision))\n",
    "print(\"Random Forest classifier:-\",accuracy_score(y_test,y_pred_rfc))\n",
    "print(\"xgboost:-\",accuracy_score(y_test,y_pred_xgb))\n",
    "print(\"AdaBoostClassifier:-\",accuracy_score(y_test,y_pred_ada))\n",
    "print(\"KNeighborsClassifier:-\",accuracy_score(y_test,y_pred_knn))\n"
   ]
  },
  {
   "cell_type": "markdown",
   "id": "be4771e6",
   "metadata": {},
   "source": [
    "# Plotting Auc-Roc curve..with XGBOOST  prediction.."
   ]
  },
  {
   "cell_type": "code",
   "execution_count": 140,
   "id": "781a480e",
   "metadata": {},
   "outputs": [
    {
     "data": {
      "image/png": "[encoded data removed]",
      "text/plain": [
       "<Figure size 432x288 with 1 Axes>"
      ]
     },
     "metadata": {},
     "output_type": "display_data"
    }
   ],
   "source": [
    "#Plotting the graph which tells us about the area under curve , more the area under curve more will be the better prediction\n",
    "\n",
    "from sklearn.metrics import roc_curve,auc\n",
    "    \n",
    "fpr,tpr,threshold=roc_curve(y_pred_xgb,y_test)\n",
    "roc_auc=auc(fpr,tpr)\n",
    "plt.figure()\n",
    "plt.plot(fpr,tpr,color='darkorange',lw=10,label='Roc curve (area=%0.1f)'% roc_auc)\n",
    "plt.plot([0,1],[0,1],color='navy',lw=10,linestyle='--')\n",
    "plt.xlim([0.0,1.0])\n",
    "plt.ylim([0.0,1.05])\n",
    "plt.xlabel('False Positive Rate')\n",
    "plt.ylabel('True Positive Rate')\n",
    "plt.title('Receiver operating characteristic')\n",
    "plt.legend(loc=\"lower right\")\n",
    "plt.show()"
   ]
  },
  {
   "cell_type": "markdown",
   "id": "37ba616e",
   "metadata": {},
   "source": [
    "# Model is performing good :"
   ]
  },
  {
   "cell_type": "markdown",
   "id": "2ccc203c",
   "metadata": {},
   "source": [
    "# Conclusion:"
   ]
  },
  {
   "cell_type": "code",
   "execution_count": 110,
   "id": "1227b1fa",
   "metadata": {},
   "outputs": [
    {
     "data": {
      "text/plain": [
       "array([1, 1, 1, ..., 1, 1, 0], dtype=int64)"
      ]
     },
     "execution_count": 110,
     "metadata": {},
     "output_type": "execute_result"
    }
   ],
   "source": [
    "import numpy as np\n",
    "a=np.array(y_test)\n",
    "a"
   ]
  },
  {
   "cell_type": "code",
   "execution_count": 111,
   "id": "2f56c042",
   "metadata": {},
   "outputs": [
    {
     "data": {
      "text/plain": [
       "(4674,)"
      ]
     },
     "execution_count": 111,
     "metadata": {},
     "output_type": "execute_result"
    }
   ],
   "source": [
    "y_test.shape"
   ]
  },
  {
   "cell_type": "code",
   "execution_count": 112,
   "id": "b628a824",
   "metadata": {},
   "outputs": [
    {
     "data": {
      "text/plain": [
       "array([1, 1, 1, ..., 1, 1, 0], dtype=int64)"
      ]
     },
     "execution_count": 112,
     "metadata": {},
     "output_type": "execute_result"
    }
   ],
   "source": [
    "predicted=np.array(y_pred_xgb)\n",
    "predicted"
   ]
  },
  {
   "cell_type": "code",
   "execution_count": 113,
   "id": "e9de54e8",
   "metadata": {},
   "outputs": [
    {
     "name": "stdout",
     "output_type": "stream",
     "text": [
      "      original  predicted\n",
      "0            1          1\n",
      "1            1          1\n",
      "2            1          1\n",
      "3            1          1\n",
      "4            1          1\n",
      "...        ...        ...\n",
      "4669         1          1\n",
      "4670         1          1\n",
      "4671         1          1\n",
      "4672         1          1\n",
      "4673         0          0\n",
      "\n",
      "[4674 rows x 2 columns]\n",
      " 1 denotes a goodreview while 0 denotes a badreview\n"
     ]
    }
   ],
   "source": [
    "df_com=pd.DataFrame({\"original\":a,\"predicted\":predicted}, index= range(len(a)))\n",
    "print(df_com)\n",
    "print(\" 1 denotes a goodreview while 0 denotes a badreview\")"
   ]
  },
  {
   "cell_type": "code",
   "execution_count": 114,
   "id": "9471e885",
   "metadata": {},
   "outputs": [
    {
     "data": {
      "text/html": [
       "<div>\n",
       "<style scoped>\n",
       "    .dataframe tbody tr th:only-of-type {\n",
       "        vertical-align: middle;\n",
       "    }\n",
       "\n",
       "    .dataframe tbody tr th {\n",
       "        vertical-align: top;\n",
       "    }\n",
       "\n",
       "    .dataframe thead th {\n",
       "        text-align: right;\n",
       "    }\n",
       "</style>\n",
       "<table border=\"1\" class=\"dataframe\">\n",
       "  <thead>\n",
       "    <tr style=\"text-align: right;\">\n",
       "      <th></th>\n",
       "      <th>original</th>\n",
       "      <th>predicted</th>\n",
       "    </tr>\n",
       "  </thead>\n",
       "  <tbody>\n",
       "    <tr>\n",
       "      <th>2066</th>\n",
       "      <td>1</td>\n",
       "      <td>1</td>\n",
       "    </tr>\n",
       "    <tr>\n",
       "      <th>1241</th>\n",
       "      <td>1</td>\n",
       "      <td>1</td>\n",
       "    </tr>\n",
       "    <tr>\n",
       "      <th>400</th>\n",
       "      <td>1</td>\n",
       "      <td>1</td>\n",
       "    </tr>\n",
       "    <tr>\n",
       "      <th>1290</th>\n",
       "      <td>1</td>\n",
       "      <td>1</td>\n",
       "    </tr>\n",
       "    <tr>\n",
       "      <th>2167</th>\n",
       "      <td>0</td>\n",
       "      <td>0</td>\n",
       "    </tr>\n",
       "    <tr>\n",
       "      <th>785</th>\n",
       "      <td>1</td>\n",
       "      <td>1</td>\n",
       "    </tr>\n",
       "    <tr>\n",
       "      <th>367</th>\n",
       "      <td>1</td>\n",
       "      <td>0</td>\n",
       "    </tr>\n",
       "    <tr>\n",
       "      <th>4276</th>\n",
       "      <td>1</td>\n",
       "      <td>1</td>\n",
       "    </tr>\n",
       "    <tr>\n",
       "      <th>1670</th>\n",
       "      <td>1</td>\n",
       "      <td>1</td>\n",
       "    </tr>\n",
       "    <tr>\n",
       "      <th>3139</th>\n",
       "      <td>1</td>\n",
       "      <td>1</td>\n",
       "    </tr>\n",
       "  </tbody>\n",
       "</table>\n",
       "</div>"
      ],
      "text/plain": [
       "      original  predicted\n",
       "2066         1          1\n",
       "1241         1          1\n",
       "400          1          1\n",
       "1290         1          1\n",
       "2167         0          0\n",
       "785          1          1\n",
       "367          1          0\n",
       "4276         1          1\n",
       "1670         1          1\n",
       "3139         1          1"
      ]
     },
     "execution_count": 114,
     "metadata": {},
     "output_type": "execute_result"
    }
   ],
   "source": [
    "df_com.sample(10)"
   ]
  },
  {
   "cell_type": "markdown",
   "id": "6b0bd7e1",
   "metadata": {},
   "source": [
    "# Selecting the best model"
   ]
  },
  {
   "cell_type": "markdown",
   "id": "28038cac",
   "metadata": {},
   "source": [
    "# The best model is XGBOOST as Accuracy score is best from above tested models."
   ]
  },
  {
   "cell_type": "code",
   "execution_count": 116,
   "id": "e0c0bdb7",
   "metadata": {},
   "outputs": [
    {
     "name": "stdout",
     "output_type": "stream",
     "text": [
      "Accuracy Score:- 93.38896020539153\n"
     ]
    }
   ],
   "source": [
    "print(\"Accuracy Score:-\",(accuracy_score(y_test,y_pred_xgb)*100))"
   ]
  },
  {
   "cell_type": "markdown",
   "id": "f70e5d91",
   "metadata": {},
   "source": [
    "# we can safe our model using picle library for deployment purpose"
   ]
  },
  {
   "cell_type": "code",
   "execution_count": null,
   "id": "32cb6e3b",
   "metadata": {},
   "outputs": [],
   "source": [
    "import pickle\n",
    "filename = 'RATINGS-PREDICTION-PROJECT'\n",
    "pickle.dump(xgb, open(filename, 'wb'))"
   ]
  },
  {
   "cell_type": "code",
   "execution_count": 8,
   "id": "32ffbdab",
   "metadata": {},
   "outputs": [
    {
     "name": "stdout",
     "output_type": "stream",
     "text": [
      "Collecting eli5\n",
      "  Downloading eli5-0.13.0.tar.gz (216 kB)\n",
      "     -------------------------------------- 216.2/216.2 kB 4.4 MB/s eta 0:00:00\n",
      "  Preparing metadata (setup.py): started\n",
      "  Preparing metadata (setup.py): finished with status 'done'\n",
      "Requirement already satisfied: attrs>17.1.0 in c:\\users\\admin\\anaconda3\\envs\\virtual_workspace\\lib\\site-packages (from eli5) (22.1.0)\n",
      "Requirement already satisfied: jinja2>=3.0.0 in c:\\users\\admin\\anaconda3\\envs\\virtual_workspace\\lib\\site-packages (from eli5) (3.1.2)\n",
      "Requirement already satisfied: numpy>=1.9.0 in c:\\users\\admin\\anaconda3\\envs\\virtual_workspace\\lib\\site-packages (from eli5) (1.23.2)\n",
      "Requirement already satisfied: scipy in c:\\users\\admin\\anaconda3\\envs\\virtual_workspace\\lib\\site-packages (from eli5) (1.9.1)\n",
      "Requirement already satisfied: six in c:\\users\\admin\\anaconda3\\envs\\virtual_workspace\\lib\\site-packages (from eli5) (1.16.0)\n",
      "Requirement already satisfied: scikit-learn>=0.20 in c:\\users\\admin\\anaconda3\\envs\\virtual_workspace\\lib\\site-packages (from eli5) (1.1.2)\n",
      "Collecting graphviz\n",
      "  Downloading graphviz-0.20.1-py3-none-any.whl (47 kB)\n",
      "     ---------------------------------------- 47.0/47.0 kB ? eta 0:00:00\n",
      "Collecting tabulate>=0.7.7\n",
      "  Downloading tabulate-0.8.10-py3-none-any.whl (29 kB)\n",
      "Requirement already satisfied: MarkupSafe>=2.0 in c:\\users\\admin\\anaconda3\\envs\\virtual_workspace\\lib\\site-packages (from jinja2>=3.0.0->eli5) (2.1.1)\n",
      "Requirement already satisfied: joblib>=1.0.0 in c:\\users\\admin\\anaconda3\\envs\\virtual_workspace\\lib\\site-packages (from scikit-learn>=0.20->eli5) (1.1.0)\n",
      "Requirement already satisfied: threadpoolctl>=2.0.0 in c:\\users\\admin\\anaconda3\\envs\\virtual_workspace\\lib\\site-packages (from scikit-learn>=0.20->eli5) (3.1.0)\n",
      "Building wheels for collected packages: eli5\n",
      "  Building wheel for eli5 (setup.py): started\n",
      "  Building wheel for eli5 (setup.py): finished with status 'done'\n",
      "  Created wheel for eli5: filename=eli5-0.13.0-py2.py3-none-any.whl size=107748 sha256=a8ff7390f17921b44231ca49c83e17c69b755e785ae145e939d6f05f37a04cea\n",
      "  Stored in directory: c:\\users\\admin\\appdata\\local\\pip\\cache\\wheels\\7b\\26\\a5\\8460416695a992a2966b41caa5338e5e7fcea98c9d032d055c\n",
      "Successfully built eli5\n",
      "Installing collected packages: tabulate, graphviz, eli5\n",
      "Successfully installed eli5-0.13.0 graphviz-0.20.1 tabulate-0.8.10\n",
      "Note: you may need to restart the kernel to use updated packages.\n"
     ]
    }
   ],
   "source": [
    "# pip install eli5"
   ]
  },
  {
   "cell_type": "code",
   "execution_count": 117,
   "id": "d98247f0",
   "metadata": {
    "scrolled": false
   },
   "outputs": [
    {
     "data": {
      "text/html": [
       "\n",
       "    <style>\n",
       "    table.eli5-weights tr:hover {\n",
       "        filter: brightness(85%);\n",
       "    }\n",
       "</style>\n",
       "\n",
       "\n",
       "\n",
       "    \n",
       "\n",
       "    \n",
       "\n",
       "    \n",
       "\n",
       "    \n",
       "\n",
       "    \n",
       "\n",
       "    \n",
       "\n",
       "\n",
       "    \n",
       "\n",
       "    \n",
       "\n",
       "    \n",
       "\n",
       "    \n",
       "\n",
       "    \n",
       "\n",
       "    \n",
       "\n",
       "\n",
       "    \n",
       "\n",
       "    \n",
       "\n",
       "    \n",
       "\n",
       "    \n",
       "\n",
       "    \n",
       "        <table class=\"eli5-weights eli5-feature-importances\" style=\"border-collapse: collapse; border: none; margin-top: 0em; table-layout: auto;\">\n",
       "    <thead>\n",
       "    <tr style=\"border: none;\">\n",
       "        <th style=\"padding: 0 1em 0 0.5em; text-align: right; border: none;\">Weight</th>\n",
       "        <th style=\"padding: 0 0.5em 0 0.5em; text-align: left; border: none;\">Feature</th>\n",
       "    </tr>\n",
       "    </thead>\n",
       "    <tbody>\n",
       "    \n",
       "        <tr style=\"background-color: hsl(120, 100.00%, 80.00%); border: none;\">\n",
       "            <td style=\"padding: 0 1em 0 0.5em; text-align: right; border: none;\">\n",
       "                0.0512\n",
       "                \n",
       "                    &plusmn; 0.0397\n",
       "                \n",
       "            </td>\n",
       "            <td style=\"padding: 0 0.5em 0 0.5em; text-align: left; border: none;\">\n",
       "                bad\n",
       "            </td>\n",
       "        </tr>\n",
       "    \n",
       "        <tr style=\"background-color: hsl(120, 100.00%, 82.40%); border: none;\">\n",
       "            <td style=\"padding: 0 1em 0 0.5em; text-align: right; border: none;\">\n",
       "                0.0426\n",
       "                \n",
       "                    &plusmn; 0.0328\n",
       "                \n",
       "            </td>\n",
       "            <td style=\"padding: 0 0.5em 0 0.5em; text-align: left; border: none;\">\n",
       "                worst\n",
       "            </td>\n",
       "        </tr>\n",
       "    \n",
       "        <tr style=\"background-color: hsl(120, 100.00%, 84.45%); border: none;\">\n",
       "            <td style=\"padding: 0 1em 0 0.5em; text-align: right; border: none;\">\n",
       "                0.0357\n",
       "                \n",
       "                    &plusmn; 0.0245\n",
       "                \n",
       "            </td>\n",
       "            <td style=\"padding: 0 0.5em 0 0.5em; text-align: left; border: none;\">\n",
       "                working\n",
       "            </td>\n",
       "        </tr>\n",
       "    \n",
       "        <tr style=\"background-color: hsl(120, 100.00%, 87.56%); border: none;\">\n",
       "            <td style=\"padding: 0 1em 0 0.5em; text-align: right; border: none;\">\n",
       "                0.0260\n",
       "                \n",
       "                    &plusmn; 0.0256\n",
       "                \n",
       "            </td>\n",
       "            <td style=\"padding: 0 0.5em 0 0.5em; text-align: left; border: none;\">\n",
       "                waste\n",
       "            </td>\n",
       "        </tr>\n",
       "    \n",
       "        <tr style=\"background-color: hsl(120, 100.00%, 89.28%); border: none;\">\n",
       "            <td style=\"padding: 0 1em 0 0.5em; text-align: right; border: none;\">\n",
       "                0.0210\n",
       "                \n",
       "                    &plusmn; 0.0119\n",
       "                \n",
       "            </td>\n",
       "            <td style=\"padding: 0 0.5em 0 0.5em; text-align: left; border: none;\">\n",
       "                good\n",
       "            </td>\n",
       "        </tr>\n",
       "    \n",
       "        <tr style=\"background-color: hsl(120, 100.00%, 89.68%); border: none;\">\n",
       "            <td style=\"padding: 0 1em 0 0.5em; text-align: right; border: none;\">\n",
       "                0.0199\n",
       "                \n",
       "                    &plusmn; 0.0162\n",
       "                \n",
       "            </td>\n",
       "            <td style=\"padding: 0 0.5em 0 0.5em; text-align: left; border: none;\">\n",
       "                poor\n",
       "            </td>\n",
       "        </tr>\n",
       "    \n",
       "        <tr style=\"background-color: hsl(120, 100.00%, 91.50%); border: none;\">\n",
       "            <td style=\"padding: 0 1em 0 0.5em; text-align: right; border: none;\">\n",
       "                0.0151\n",
       "                \n",
       "                    &plusmn; 0.0127\n",
       "                \n",
       "            </td>\n",
       "            <td style=\"padding: 0 0.5em 0 0.5em; text-align: left; border: none;\">\n",
       "                product\n",
       "            </td>\n",
       "        </tr>\n",
       "    \n",
       "        <tr style=\"background-color: hsl(120, 100.00%, 92.21%); border: none;\">\n",
       "            <td style=\"padding: 0 1em 0 0.5em; text-align: right; border: none;\">\n",
       "                0.0133\n",
       "                \n",
       "                    &plusmn; 0.0191\n",
       "                \n",
       "            </td>\n",
       "            <td style=\"padding: 0 0.5em 0 0.5em; text-align: left; border: none;\">\n",
       "                buy\n",
       "            </td>\n",
       "        </tr>\n",
       "    \n",
       "        <tr style=\"background-color: hsl(120, 100.00%, 92.51%); border: none;\">\n",
       "            <td style=\"padding: 0 1em 0 0.5em; text-align: right; border: none;\">\n",
       "                0.0126\n",
       "                \n",
       "                    &plusmn; 0.0180\n",
       "                \n",
       "            </td>\n",
       "            <td style=\"padding: 0 0.5em 0 0.5em; text-align: left; border: none;\">\n",
       "                properly\n",
       "            </td>\n",
       "        </tr>\n",
       "    \n",
       "        <tr style=\"background-color: hsl(120, 100.00%, 93.49%); border: none;\">\n",
       "            <td style=\"padding: 0 1em 0 0.5em; text-align: right; border: none;\">\n",
       "                0.0103\n",
       "                \n",
       "                    &plusmn; 0.0162\n",
       "                \n",
       "            </td>\n",
       "            <td style=\"padding: 0 0.5em 0 0.5em; text-align: left; border: none;\">\n",
       "                month\n",
       "            </td>\n",
       "        </tr>\n",
       "    \n",
       "        <tr style=\"background-color: hsl(120, 100.00%, 93.74%); border: none;\">\n",
       "            <td style=\"padding: 0 1em 0 0.5em; text-align: right; border: none;\">\n",
       "                0.0097\n",
       "                \n",
       "                    &plusmn; 0.0079\n",
       "                \n",
       "            </td>\n",
       "            <td style=\"padding: 0 0.5em 0 0.5em; text-align: left; border: none;\">\n",
       "                problem\n",
       "            </td>\n",
       "        </tr>\n",
       "    \n",
       "        <tr style=\"background-color: hsl(120, 100.00%, 93.99%); border: none;\">\n",
       "            <td style=\"padding: 0 1em 0 0.5em; text-align: right; border: none;\">\n",
       "                0.0092\n",
       "                \n",
       "                    &plusmn; 0.0093\n",
       "                \n",
       "            </td>\n",
       "            <td style=\"padding: 0 0.5em 0 0.5em; text-align: left; border: none;\">\n",
       "                nice\n",
       "            </td>\n",
       "        </tr>\n",
       "    \n",
       "        <tr style=\"background-color: hsl(120, 100.00%, 94.54%); border: none;\">\n",
       "            <td style=\"padding: 0 1em 0 0.5em; text-align: right; border: none;\">\n",
       "                0.0080\n",
       "                \n",
       "                    &plusmn; 0.0130\n",
       "                \n",
       "            </td>\n",
       "            <td style=\"padding: 0 0.5em 0 0.5em; text-align: left; border: none;\">\n",
       "                return\n",
       "            </td>\n",
       "        </tr>\n",
       "    \n",
       "        <tr style=\"background-color: hsl(120, 100.00%, 94.80%); border: none;\">\n",
       "            <td style=\"padding: 0 1em 0 0.5em; text-align: right; border: none;\">\n",
       "                0.0075\n",
       "                \n",
       "                    &plusmn; 0.0078\n",
       "                \n",
       "            </td>\n",
       "            <td style=\"padding: 0 0.5em 0 0.5em; text-align: left; border: none;\">\n",
       "                issue\n",
       "            </td>\n",
       "        </tr>\n",
       "    \n",
       "        <tr style=\"background-color: hsl(120, 100.00%, 94.82%); border: none;\">\n",
       "            <td style=\"padding: 0 1em 0 0.5em; text-align: right; border: none;\">\n",
       "                0.0074\n",
       "                \n",
       "                    &plusmn; 0.0062\n",
       "                \n",
       "            </td>\n",
       "            <td style=\"padding: 0 0.5em 0 0.5em; text-align: left; border: none;\">\n",
       "                quality\n",
       "            </td>\n",
       "        </tr>\n",
       "    \n",
       "        <tr style=\"background-color: hsl(120, 100.00%, 94.99%); border: none;\">\n",
       "            <td style=\"padding: 0 1em 0 0.5em; text-align: right; border: none;\">\n",
       "                0.0071\n",
       "                \n",
       "                    &plusmn; 0.0080\n",
       "                \n",
       "            </td>\n",
       "            <td style=\"padding: 0 0.5em 0 0.5em; text-align: left; border: none;\">\n",
       "                best\n",
       "            </td>\n",
       "        </tr>\n",
       "    \n",
       "        <tr style=\"background-color: hsl(120, 100.00%, 95.15%); border: none;\">\n",
       "            <td style=\"padding: 0 1em 0 0.5em; text-align: right; border: none;\">\n",
       "                0.0068\n",
       "                \n",
       "                    &plusmn; 0.0067\n",
       "                \n",
       "            </td>\n",
       "            <td style=\"padding: 0 0.5em 0 0.5em; text-align: left; border: none;\">\n",
       "                awesome\n",
       "            </td>\n",
       "        </tr>\n",
       "    \n",
       "        <tr style=\"background-color: hsl(120, 100.00%, 95.21%); border: none;\">\n",
       "            <td style=\"padding: 0 1em 0 0.5em; text-align: right; border: none;\">\n",
       "                0.0066\n",
       "                \n",
       "                    &plusmn; 0.0052\n",
       "                \n",
       "            </td>\n",
       "            <td style=\"padding: 0 0.5em 0 0.5em; text-align: left; border: none;\">\n",
       "                numbr\n",
       "            </td>\n",
       "        </tr>\n",
       "    \n",
       "        <tr style=\"background-color: hsl(120, 100.00%, 95.45%); border: none;\">\n",
       "            <td style=\"padding: 0 1em 0 0.5em; text-align: right; border: none;\">\n",
       "                0.0062\n",
       "                \n",
       "                    &plusmn; 0.0133\n",
       "                \n",
       "            </td>\n",
       "            <td style=\"padding: 0 0.5em 0 0.5em; text-align: left; border: none;\">\n",
       "                automatically\n",
       "            </td>\n",
       "        </tr>\n",
       "    \n",
       "        <tr style=\"background-color: hsl(120, 100.00%, 95.53%); border: none;\">\n",
       "            <td style=\"padding: 0 1em 0 0.5em; text-align: right; border: none;\">\n",
       "                0.0060\n",
       "                \n",
       "                    &plusmn; 0.0119\n",
       "                \n",
       "            </td>\n",
       "            <td style=\"padding: 0 0.5em 0 0.5em; text-align: left; border: none;\">\n",
       "                stopped\n",
       "            </td>\n",
       "        </tr>\n",
       "    \n",
       "        <tr style=\"background-color: hsl(120, 100.00%, 95.84%); border: none;\">\n",
       "            <td style=\"padding: 0 1em 0 0.5em; text-align: right; border: none;\">\n",
       "                0.0054\n",
       "                \n",
       "                    &plusmn; 0.0080\n",
       "                \n",
       "            </td>\n",
       "            <td style=\"padding: 0 0.5em 0 0.5em; text-align: left; border: none;\">\n",
       "                notification\n",
       "            </td>\n",
       "        </tr>\n",
       "    \n",
       "        <tr style=\"background-color: hsl(120, 100.00%, 95.91%); border: none;\">\n",
       "            <td style=\"padding: 0 1em 0 0.5em; text-align: right; border: none;\">\n",
       "                0.0053\n",
       "                \n",
       "                    &plusmn; 0.0040\n",
       "                \n",
       "            </td>\n",
       "            <td style=\"padding: 0 0.5em 0 0.5em; text-align: left; border: none;\">\n",
       "                damage\n",
       "            </td>\n",
       "        </tr>\n",
       "    \n",
       "        <tr style=\"background-color: hsl(120, 100.00%, 96.24%); border: none;\">\n",
       "            <td style=\"padding: 0 1em 0 0.5em; text-align: right; border: none;\">\n",
       "                0.0047\n",
       "                \n",
       "                    &plusmn; 0.0060\n",
       "                \n",
       "            </td>\n",
       "            <td style=\"padding: 0 0.5em 0 0.5em; text-align: left; border: none;\">\n",
       "                damaged\n",
       "            </td>\n",
       "        </tr>\n",
       "    \n",
       "        <tr style=\"background-color: hsl(120, 100.00%, 96.24%); border: none;\">\n",
       "            <td style=\"padding: 0 1em 0 0.5em; text-align: right; border: none;\">\n",
       "                0.0047\n",
       "                \n",
       "                    &plusmn; 0.0053\n",
       "                \n",
       "            </td>\n",
       "            <td style=\"padding: 0 0.5em 0 0.5em; text-align: left; border: none;\">\n",
       "                mic\n",
       "            </td>\n",
       "        </tr>\n",
       "    \n",
       "        <tr style=\"background-color: hsl(120, 100.00%, 96.24%); border: none;\">\n",
       "            <td style=\"padding: 0 1em 0 0.5em; text-align: right; border: none;\">\n",
       "                0.0047\n",
       "                \n",
       "                    &plusmn; 0.0209\n",
       "                \n",
       "            </td>\n",
       "            <td style=\"padding: 0 0.5em 0 0.5em; text-align: left; border: none;\">\n",
       "                amazon\n",
       "            </td>\n",
       "        </tr>\n",
       "    \n",
       "        <tr style=\"background-color: hsl(120, 100.00%, 96.25%); border: none;\">\n",
       "            <td style=\"padding: 0 1em 0 0.5em; text-align: right; border: none;\">\n",
       "                0.0047\n",
       "                \n",
       "                    &plusmn; 0.0201\n",
       "                \n",
       "            </td>\n",
       "            <td style=\"padding: 0 0.5em 0 0.5em; text-align: left; border: none;\">\n",
       "                dont\n",
       "            </td>\n",
       "        </tr>\n",
       "    \n",
       "        <tr style=\"background-color: hsl(120, 100.00%, 96.46%); border: none;\">\n",
       "            <td style=\"padding: 0 1em 0 0.5em; text-align: right; border: none;\">\n",
       "                0.0043\n",
       "                \n",
       "                    &plusmn; 0.0031\n",
       "                \n",
       "            </td>\n",
       "            <td style=\"padding: 0 0.5em 0 0.5em; text-align: left; border: none;\">\n",
       "                sound\n",
       "            </td>\n",
       "        </tr>\n",
       "    \n",
       "        <tr style=\"background-color: hsl(120, 100.00%, 96.46%); border: none;\">\n",
       "            <td style=\"padding: 0 1em 0 0.5em; text-align: right; border: none;\">\n",
       "                0.0043\n",
       "                \n",
       "                    &plusmn; 0.0085\n",
       "                \n",
       "            </td>\n",
       "            <td style=\"padding: 0 0.5em 0 0.5em; text-align: left; border: none;\">\n",
       "                disconnected\n",
       "            </td>\n",
       "        </tr>\n",
       "    \n",
       "        <tr style=\"background-color: hsl(120, 100.00%, 96.50%); border: none;\">\n",
       "            <td style=\"padding: 0 1em 0 0.5em; text-align: right; border: none;\">\n",
       "                0.0042\n",
       "                \n",
       "                    &plusmn; 0.0055\n",
       "                \n",
       "            </td>\n",
       "            <td style=\"padding: 0 0.5em 0 0.5em; text-align: left; border: none;\">\n",
       "                item\n",
       "            </td>\n",
       "        </tr>\n",
       "    \n",
       "        <tr style=\"background-color: hsl(120, 100.00%, 96.60%); border: none;\">\n",
       "            <td style=\"padding: 0 1em 0 0.5em; text-align: right; border: none;\">\n",
       "                0.0041\n",
       "                \n",
       "                    &plusmn; 0.0032\n",
       "                \n",
       "            </td>\n",
       "            <td style=\"padding: 0 0.5em 0 0.5em; text-align: left; border: none;\">\n",
       "                battery\n",
       "            </td>\n",
       "        </tr>\n",
       "    \n",
       "    \n",
       "        \n",
       "            <tr style=\"background-color: hsl(120, 100.00%, 96.60%); border: none;\">\n",
       "                <td colspan=\"2\" style=\"padding: 0 0.5em 0 0.5em; text-align: center; border: none; white-space: nowrap;\">\n",
       "                    <i>&hellip; 9970 more &hellip;</i>\n",
       "                </td>\n",
       "            </tr>\n",
       "        \n",
       "    \n",
       "    </tbody>\n",
       "</table>\n",
       "    \n",
       "\n",
       "    \n",
       "\n",
       "\n",
       "    \n",
       "\n",
       "    \n",
       "\n",
       "    \n",
       "\n",
       "    \n",
       "\n",
       "    \n",
       "\n",
       "    \n",
       "\n",
       "\n",
       "\n"
      ],
      "text/plain": [
       "<IPython.core.display.HTML object>"
      ]
     },
     "execution_count": 117,
     "metadata": {},
     "output_type": "execute_result"
    }
   ],
   "source": [
    "import eli5\n",
    "eli5.show_weights(RF,vec = tf_vec, top = 30)\n",
    "#random forest\n",
    "# will give you top 15 features or words  which makes a review worst"
   ]
  },
  {
   "cell_type": "code",
   "execution_count": 118,
   "id": "8df980d8",
   "metadata": {},
   "outputs": [
    {
     "data": {
      "text/html": [
       "\n",
       "    <style>\n",
       "    table.eli5-weights tr:hover {\n",
       "        filter: brightness(85%);\n",
       "    }\n",
       "</style>\n",
       "\n",
       "\n",
       "\n",
       "    \n",
       "\n",
       "    \n",
       "\n",
       "    \n",
       "\n",
       "    \n",
       "\n",
       "    \n",
       "\n",
       "    \n",
       "\n",
       "\n",
       "    \n",
       "\n",
       "    \n",
       "\n",
       "    \n",
       "\n",
       "    \n",
       "        \n",
       "\n",
       "    \n",
       "\n",
       "        \n",
       "            \n",
       "                \n",
       "                \n",
       "    \n",
       "        <p style=\"margin-bottom: 0.5em; margin-top: 0em\">\n",
       "            <b>\n",
       "    \n",
       "        y=1\n",
       "    \n",
       "</b>\n",
       "\n",
       "top features\n",
       "        </p>\n",
       "    \n",
       "    <table class=\"eli5-weights\"\n",
       "           style=\"border-collapse: collapse; border: none; margin-top: 0em; table-layout: auto; margin-bottom: 2em;\">\n",
       "        <thead>\n",
       "        <tr style=\"border: none;\">\n",
       "            \n",
       "                <th style=\"padding: 0 1em 0 0.5em; text-align: right; border: none;\" title=\"Feature weights. Note that weights do not account for feature value scales, so if feature values have different scales, features with highest weights might not be the most important.\">\n",
       "                    Weight<sup>?</sup>\n",
       "                </th>\n",
       "            \n",
       "            <th style=\"padding: 0 0.5em 0 0.5em; text-align: left; border: none;\">Feature</th>\n",
       "            \n",
       "        </tr>\n",
       "        </thead>\n",
       "        <tbody>\n",
       "        \n",
       "            <tr style=\"background-color: hsl(120, 100.00%, 80.00%); border: none;\">\n",
       "    <td style=\"padding: 0 1em 0 0.5em; text-align: right; border: none;\">\n",
       "        +4.787\n",
       "    </td>\n",
       "    <td style=\"padding: 0 0.5em 0 0.5em; text-align: left; border: none;\">\n",
       "        best\n",
       "    </td>\n",
       "    \n",
       "</tr>\n",
       "        \n",
       "            <tr style=\"background-color: hsl(120, 100.00%, 82.09%); border: none;\">\n",
       "    <td style=\"padding: 0 1em 0 0.5em; text-align: right; border: none;\">\n",
       "        +4.088\n",
       "    </td>\n",
       "    <td style=\"padding: 0 0.5em 0 0.5em; text-align: left; border: none;\">\n",
       "        awesome\n",
       "    </td>\n",
       "    \n",
       "</tr>\n",
       "        \n",
       "            <tr style=\"background-color: hsl(120, 100.00%, 82.56%); border: none;\">\n",
       "    <td style=\"padding: 0 1em 0 0.5em; text-align: right; border: none;\">\n",
       "        +3.936\n",
       "    </td>\n",
       "    <td style=\"padding: 0 0.5em 0 0.5em; text-align: left; border: none;\">\n",
       "        nice\n",
       "    </td>\n",
       "    \n",
       "</tr>\n",
       "        \n",
       "            <tr style=\"background-color: hsl(120, 100.00%, 83.33%); border: none;\">\n",
       "    <td style=\"padding: 0 1em 0 0.5em; text-align: right; border: none;\">\n",
       "        +3.690\n",
       "    </td>\n",
       "    <td style=\"padding: 0 0.5em 0 0.5em; text-align: left; border: none;\">\n",
       "        amazing\n",
       "    </td>\n",
       "    \n",
       "</tr>\n",
       "        \n",
       "            <tr style=\"background-color: hsl(120, 100.00%, 85.60%); border: none;\">\n",
       "    <td style=\"padding: 0 1em 0 0.5em; text-align: right; border: none;\">\n",
       "        +2.994\n",
       "    </td>\n",
       "    <td style=\"padding: 0 0.5em 0 0.5em; text-align: left; border: none;\">\n",
       "        value\n",
       "    </td>\n",
       "    \n",
       "</tr>\n",
       "        \n",
       "            <tr style=\"background-color: hsl(120, 100.00%, 85.63%); border: none;\">\n",
       "    <td style=\"padding: 0 1em 0 0.5em; text-align: right; border: none;\">\n",
       "        +2.985\n",
       "    </td>\n",
       "    <td style=\"padding: 0 0.5em 0 0.5em; text-align: left; border: none;\">\n",
       "        great\n",
       "    </td>\n",
       "    \n",
       "</tr>\n",
       "        \n",
       "            <tr style=\"background-color: hsl(120, 100.00%, 85.87%); border: none;\">\n",
       "    <td style=\"padding: 0 1em 0 0.5em; text-align: right; border: none;\">\n",
       "        +2.914\n",
       "    </td>\n",
       "    <td style=\"padding: 0 0.5em 0 0.5em; text-align: left; border: none;\">\n",
       "        super\n",
       "    </td>\n",
       "    \n",
       "</tr>\n",
       "        \n",
       "            <tr style=\"background-color: hsl(120, 100.00%, 86.11%); border: none;\">\n",
       "    <td style=\"padding: 0 1em 0 0.5em; text-align: right; border: none;\">\n",
       "        +2.844\n",
       "    </td>\n",
       "    <td style=\"padding: 0 0.5em 0 0.5em; text-align: left; border: none;\">\n",
       "        superb\n",
       "    </td>\n",
       "    \n",
       "</tr>\n",
       "        \n",
       "            <tr style=\"background-color: hsl(120, 100.00%, 86.14%); border: none;\">\n",
       "    <td style=\"padding: 0 1em 0 0.5em; text-align: right; border: none;\">\n",
       "        +2.835\n",
       "    </td>\n",
       "    <td style=\"padding: 0 0.5em 0 0.5em; text-align: left; border: none;\">\n",
       "        delivery\n",
       "    </td>\n",
       "    \n",
       "</tr>\n",
       "        \n",
       "            <tr style=\"background-color: hsl(120, 100.00%, 86.20%); border: none;\">\n",
       "    <td style=\"padding: 0 1em 0 0.5em; text-align: right; border: none;\">\n",
       "        +2.818\n",
       "    </td>\n",
       "    <td style=\"padding: 0 0.5em 0 0.5em; text-align: left; border: none;\">\n",
       "        love\n",
       "    </td>\n",
       "    \n",
       "</tr>\n",
       "        \n",
       "            <tr style=\"background-color: hsl(120, 100.00%, 86.84%); border: none;\">\n",
       "    <td style=\"padding: 0 1em 0 0.5em; text-align: right; border: none;\">\n",
       "        +2.632\n",
       "    </td>\n",
       "    <td style=\"padding: 0 0.5em 0 0.5em; text-align: left; border: none;\">\n",
       "        excellent\n",
       "    </td>\n",
       "    \n",
       "</tr>\n",
       "        \n",
       "            <tr style=\"background-color: hsl(120, 100.00%, 86.89%); border: none;\">\n",
       "    <td style=\"padding: 0 1em 0 0.5em; text-align: right; border: none;\">\n",
       "        +2.619\n",
       "    </td>\n",
       "    <td style=\"padding: 0 0.5em 0 0.5em; text-align: left; border: none;\">\n",
       "        good\n",
       "    </td>\n",
       "    \n",
       "</tr>\n",
       "        \n",
       "            <tr style=\"background-color: hsl(120, 100.00%, 87.08%); border: none;\">\n",
       "    <td style=\"padding: 0 1em 0 0.5em; text-align: right; border: none;\">\n",
       "        +2.564\n",
       "    </td>\n",
       "    <td style=\"padding: 0 0.5em 0 0.5em; text-align: left; border: none;\">\n",
       "        fast\n",
       "    </td>\n",
       "    \n",
       "</tr>\n",
       "        \n",
       "            <tr style=\"background-color: hsl(120, 100.00%, 87.12%); border: none;\">\n",
       "    <td style=\"padding: 0 1em 0 0.5em; text-align: right; border: none;\">\n",
       "        +2.552\n",
       "    </td>\n",
       "    <td style=\"padding: 0 0.5em 0 0.5em; text-align: left; border: none;\">\n",
       "        thanks\n",
       "    </td>\n",
       "    \n",
       "</tr>\n",
       "        \n",
       "            <tr style=\"background-color: hsl(120, 100.00%, 87.33%); border: none;\">\n",
       "    <td style=\"padding: 0 1em 0 0.5em; text-align: right; border: none;\">\n",
       "        +2.495\n",
       "    </td>\n",
       "    <td style=\"padding: 0 0.5em 0 0.5em; text-align: left; border: none;\">\n",
       "        superrrr\n",
       "    </td>\n",
       "    \n",
       "</tr>\n",
       "        \n",
       "            <tr style=\"background-color: hsl(120, 100.00%, 88.07%); border: none;\">\n",
       "    <td style=\"padding: 0 1em 0 0.5em; text-align: right; border: none;\">\n",
       "        +2.287\n",
       "    </td>\n",
       "    <td style=\"padding: 0 0.5em 0 0.5em; text-align: left; border: none;\">\n",
       "        thank\n",
       "    </td>\n",
       "    \n",
       "</tr>\n",
       "        \n",
       "        \n",
       "            <tr style=\"background-color: hsl(120, 100.00%, 88.07%); border: none;\">\n",
       "                <td colspan=\"2\" style=\"padding: 0 0.5em 0 0.5em; text-align: center; border: none; white-space: nowrap;\">\n",
       "                    <i>&hellip; 6642 more positive &hellip;</i>\n",
       "                </td>\n",
       "            </tr>\n",
       "        \n",
       "\n",
       "        \n",
       "            <tr style=\"background-color: hsl(0, 100.00%, 88.18%); border: none;\">\n",
       "                <td colspan=\"2\" style=\"padding: 0 0.5em 0 0.5em; text-align: center; border: none; white-space: nowrap;\">\n",
       "                    <i>&hellip; 2176 more negative &hellip;</i>\n",
       "                </td>\n",
       "            </tr>\n",
       "        \n",
       "        \n",
       "            <tr style=\"background-color: hsl(0, 100.00%, 88.18%); border: none;\">\n",
       "    <td style=\"padding: 0 1em 0 0.5em; text-align: right; border: none;\">\n",
       "        -2.257\n",
       "    </td>\n",
       "    <td style=\"padding: 0 0.5em 0 0.5em; text-align: left; border: none;\">\n",
       "        dont\n",
       "    </td>\n",
       "    \n",
       "</tr>\n",
       "        \n",
       "            <tr style=\"background-color: hsl(0, 100.00%, 88.08%); border: none;\">\n",
       "    <td style=\"padding: 0 1em 0 0.5em; text-align: right; border: none;\">\n",
       "        -2.286\n",
       "    </td>\n",
       "    <td style=\"padding: 0 0.5em 0 0.5em; text-align: left; border: none;\">\n",
       "        problem\n",
       "    </td>\n",
       "    \n",
       "</tr>\n",
       "        \n",
       "            <tr style=\"background-color: hsl(0, 100.00%, 87.87%); border: none;\">\n",
       "    <td style=\"padding: 0 1em 0 0.5em; text-align: right; border: none;\">\n",
       "        -2.343\n",
       "    </td>\n",
       "    <td style=\"padding: 0 0.5em 0 0.5em; text-align: left; border: none;\">\n",
       "        damage\n",
       "    </td>\n",
       "    \n",
       "</tr>\n",
       "        \n",
       "            <tr style=\"background-color: hsl(0, 100.00%, 87.74%); border: none;\">\n",
       "    <td style=\"padding: 0 1em 0 0.5em; text-align: right; border: none;\">\n",
       "        -2.378\n",
       "    </td>\n",
       "    <td style=\"padding: 0 0.5em 0 0.5em; text-align: left; border: none;\">\n",
       "        pathetic\n",
       "    </td>\n",
       "    \n",
       "</tr>\n",
       "        \n",
       "            <tr style=\"background-color: hsl(0, 100.00%, 87.35%); border: none;\">\n",
       "    <td style=\"padding: 0 1em 0 0.5em; text-align: right; border: none;\">\n",
       "        -2.488\n",
       "    </td>\n",
       "    <td style=\"padding: 0 0.5em 0 0.5em; text-align: left; border: none;\">\n",
       "        showing\n",
       "    </td>\n",
       "    \n",
       "</tr>\n",
       "        \n",
       "            <tr style=\"background-color: hsl(0, 100.00%, 87.27%); border: none;\">\n",
       "    <td style=\"padding: 0 1em 0 0.5em; text-align: right; border: none;\">\n",
       "        -2.510\n",
       "    </td>\n",
       "    <td style=\"padding: 0 0.5em 0 0.5em; text-align: left; border: none;\">\n",
       "        automatically\n",
       "    </td>\n",
       "    \n",
       "</tr>\n",
       "        \n",
       "            <tr style=\"background-color: hsl(0, 100.00%, 86.84%); border: none;\">\n",
       "    <td style=\"padding: 0 1em 0 0.5em; text-align: right; border: none;\">\n",
       "        -2.632\n",
       "    </td>\n",
       "    <td style=\"padding: 0 0.5em 0 0.5em; text-align: left; border: none;\">\n",
       "        properly\n",
       "    </td>\n",
       "    \n",
       "</tr>\n",
       "        \n",
       "            <tr style=\"background-color: hsl(0, 100.00%, 86.76%); border: none;\">\n",
       "    <td style=\"padding: 0 1em 0 0.5em; text-align: right; border: none;\">\n",
       "        -2.654\n",
       "    </td>\n",
       "    <td style=\"padding: 0 0.5em 0 0.5em; text-align: left; border: none;\">\n",
       "        notification\n",
       "    </td>\n",
       "    \n",
       "</tr>\n",
       "        \n",
       "            <tr style=\"background-color: hsl(0, 100.00%, 86.34%); border: none;\">\n",
       "    <td style=\"padding: 0 1em 0 0.5em; text-align: right; border: none;\">\n",
       "        -2.777\n",
       "    </td>\n",
       "    <td style=\"padding: 0 0.5em 0 0.5em; text-align: left; border: none;\">\n",
       "        month\n",
       "    </td>\n",
       "    \n",
       "</tr>\n",
       "        \n",
       "            <tr style=\"background-color: hsl(0, 100.00%, 85.63%); border: none;\">\n",
       "    <td style=\"padding: 0 1em 0 0.5em; text-align: right; border: none;\">\n",
       "        -2.985\n",
       "    </td>\n",
       "    <td style=\"padding: 0 0.5em 0 0.5em; text-align: left; border: none;\">\n",
       "        bad\n",
       "    </td>\n",
       "    \n",
       "</tr>\n",
       "        \n",
       "            <tr style=\"background-color: hsl(0, 100.00%, 84.59%); border: none;\">\n",
       "    <td style=\"padding: 0 1em 0 0.5em; text-align: right; border: none;\">\n",
       "        -3.300\n",
       "    </td>\n",
       "    <td style=\"padding: 0 0.5em 0 0.5em; text-align: left; border: none;\">\n",
       "        return\n",
       "    </td>\n",
       "    \n",
       "</tr>\n",
       "        \n",
       "            <tr style=\"background-color: hsl(0, 100.00%, 82.72%); border: none;\">\n",
       "    <td style=\"padding: 0 1em 0 0.5em; text-align: right; border: none;\">\n",
       "        -3.884\n",
       "    </td>\n",
       "    <td style=\"padding: 0 0.5em 0 0.5em; text-align: left; border: none;\">\n",
       "        poor\n",
       "    </td>\n",
       "    \n",
       "</tr>\n",
       "        \n",
       "            <tr style=\"background-color: hsl(0, 100.00%, 82.63%); border: none;\">\n",
       "    <td style=\"padding: 0 1em 0 0.5em; text-align: right; border: none;\">\n",
       "        -3.912\n",
       "    </td>\n",
       "    <td style=\"padding: 0 0.5em 0 0.5em; text-align: left; border: none;\">\n",
       "        waste\n",
       "    </td>\n",
       "    \n",
       "</tr>\n",
       "        \n",
       "            <tr style=\"background-color: hsl(0, 100.00%, 80.16%); border: none;\">\n",
       "    <td style=\"padding: 0 1em 0 0.5em; text-align: right; border: none;\">\n",
       "        -4.731\n",
       "    </td>\n",
       "    <td style=\"padding: 0 0.5em 0 0.5em; text-align: left; border: none;\">\n",
       "        worst\n",
       "    </td>\n",
       "    \n",
       "</tr>\n",
       "        \n",
       "\n",
       "        </tbody>\n",
       "    </table>\n",
       "\n",
       "            \n",
       "        \n",
       "\n",
       "        \n",
       "\n",
       "\n",
       "\n",
       "    \n",
       "\n",
       "    \n",
       "\n",
       "    \n",
       "\n",
       "    \n",
       "\n",
       "\n",
       "    \n",
       "\n",
       "    \n",
       "\n",
       "    \n",
       "\n",
       "    \n",
       "\n",
       "    \n",
       "\n",
       "    \n",
       "\n",
       "\n",
       "    \n",
       "\n",
       "    \n",
       "\n",
       "    \n",
       "\n",
       "    \n",
       "\n",
       "    \n",
       "\n",
       "    \n",
       "\n",
       "\n",
       "\n"
      ],
      "text/plain": [
       "<IPython.core.display.HTML object>"
      ]
     },
     "execution_count": 118,
     "metadata": {},
     "output_type": "execute_result"
    }
   ],
   "source": [
    "import eli5\n",
    "eli5.show_weights(lr,vec = tf_vec, top = 30)\n",
    "#logistic regression\n",
    "# will give you top 15 features or words  which makes a review worst or good"
   ]
  },
  {
   "cell_type": "code",
   "execution_count": 141,
   "id": "7076012b",
   "metadata": {},
   "outputs": [
    {
     "name": "stdout",
     "output_type": "stream",
     "text": [
      "  (0, 2079)\t0.4334823565550601\n",
      "  (0, 4167)\t0.2716342978434886\n",
      "  (0, 1994)\t0.4362398343099044\n",
      "  (0, 1618)\t0.3197145127206641\n",
      "  (0, 263)\t0.23147174582743407\n",
      "  (0, 8014)\t0.352030586093854\n",
      "  (0, 5308)\t0.34232770607850016\n",
      "  (0, 5550)\t0.3887059699781464\n",
      "  (1, 4904)\t0.18704232882874217\n",
      "  (1, 4598)\t0.28243238186770936\n",
      "  (1, 4386)\t0.18294305026662724\n",
      "  (1, 9482)\t0.3944846635590249\n",
      "  (1, 2250)\t0.19665293471682277\n",
      "  (1, 9474)\t0.31304324185293697\n",
      "  (1, 9609)\t0.16553641856989407\n",
      "  (1, 9077)\t0.3596147043153218\n",
      "  (1, 858)\t0.2448568273306495\n",
      "  (1, 2432)\t0.17593144662778856\n",
      "  (1, 946)\t0.18623432474882817\n",
      "  (1, 3629)\t0.16382929008154118\n",
      "  (1, 5035)\t0.3153503459394098\n",
      "  (1, 807)\t0.15095088687598054\n",
      "  (1, 1363)\t0.13920475024062248\n",
      "  (1, 607)\t0.12837901598828455\n",
      "  (1, 3744)\t0.1593006533513693\n",
      "  :\t:\n",
      "  (23362, 2103)\t0.2673173189930864\n",
      "  (23362, 9343)\t0.25671382780650703\n",
      "  (23362, 385)\t0.4229163360619986\n",
      "  (23362, 2093)\t0.18852741695945777\n",
      "  (23362, 5593)\t0.2610074789078121\n",
      "  (23362, 6781)\t0.10338662298487199\n",
      "  (23363, 3866)\t0.8181995752558251\n",
      "  (23363, 3629)\t0.3864027022004479\n",
      "  (23363, 6781)\t0.42572574127409707\n",
      "  (23364, 3629)\t1.0\n",
      "  (23365, 9388)\t0.815293210662001\n",
      "  (23365, 5335)\t0.32658946101441344\n",
      "  (23365, 2250)\t0.4064284808562499\n",
      "  (23365, 3629)\t0.1692954381369388\n",
      "  (23365, 6781)\t0.1865241249213183\n",
      "  (23366, 8191)\t0.7461870714552229\n",
      "  (23366, 7852)\t0.27490585659258227\n",
      "  (23366, 4134)\t0.3106014649209534\n",
      "  (23366, 3866)\t0.18937264014251187\n",
      "  (23366, 5593)\t0.12437883965727439\n",
      "  (23366, 9609)\t0.3614599098689842\n",
      "  (23366, 858)\t0.26733068016803907\n",
      "  (23366, 3629)\t0.08943306998298108\n",
      "  (23366, 6781)\t0.0985344041232191\n",
      "  (23367, 9385)\t1.0\n"
     ]
    }
   ],
   "source": [
    "test_data =tf_vec.fit_transform(df['Review'])\n",
    "print(test_data)"
   ]
  },
  {
   "cell_type": "code",
   "execution_count": 143,
   "id": "d4f370b2",
   "metadata": {},
   "outputs": [
    {
     "data": {
      "text/plain": [
       "array([1, 1, 1, ..., 1, 1, 1], dtype=int64)"
      ]
     },
     "execution_count": 143,
     "metadata": {},
     "output_type": "execute_result"
    }
   ],
   "source": [
    "prediction=xgb.predict(test_data)\n",
    "prediction"
   ]
  },
  {
   "cell_type": "markdown",
   "id": "300d2dfb",
   "metadata": {},
   "source": [
    "#     As we convert our classes into two categories greater or equal to 3 means          good review and denoted as 1 and less then 3 bad review                                      which is denoted as 0.\n",
    "#     For rating 5,4,3 predicted value is 1\n",
    "#     For rating 1,2 predicted value is 0"
   ]
  },
  {
   "cell_type": "code",
   "execution_count": 190,
   "id": "d5f5a917",
   "metadata": {},
   "outputs": [
    {
     "data": {
      "text/html": [
       "<div>\n",
       "<style scoped>\n",
       "    .dataframe tbody tr th:only-of-type {\n",
       "        vertical-align: middle;\n",
       "    }\n",
       "\n",
       "    .dataframe tbody tr th {\n",
       "        vertical-align: top;\n",
       "    }\n",
       "\n",
       "    .dataframe thead th {\n",
       "        text-align: right;\n",
       "    }\n",
       "</style>\n",
       "<table border=\"1\" class=\"dataframe\">\n",
       "  <thead>\n",
       "    <tr style=\"text-align: right;\">\n",
       "      <th></th>\n",
       "      <th>Original_Review</th>\n",
       "      <th>Original_Rating</th>\n",
       "      <th>Length</th>\n",
       "      <th>Clean_Length</th>\n",
       "      <th>tf_vef</th>\n",
       "      <th>predicted</th>\n",
       "    </tr>\n",
       "  </thead>\n",
       "  <tbody>\n",
       "    <tr>\n",
       "      <th>0</th>\n",
       "      <td>night mode simply amazing give clear crisp ima...</td>\n",
       "      <td>5</td>\n",
       "      <td>92</td>\n",
       "      <td>59</td>\n",
       "      <td>(0, 2079)\\t0.4334823565550601\\n  (0, 4167)\\t...</td>\n",
       "      <td>1</td>\n",
       "    </tr>\n",
       "    <tr>\n",
       "      <th>1</th>\n",
       "      <td>product fantastic great nay awesome camera.bat...</td>\n",
       "      <td>5</td>\n",
       "      <td>210</td>\n",
       "      <td>166</td>\n",
       "      <td>(0, 4904)\\t0.18704232882874217\\n  (0, 4598)\\...</td>\n",
       "      <td>1</td>\n",
       "    </tr>\n",
       "    <tr>\n",
       "      <th>2</th>\n",
       "      <td>switched android iphone transition really smoo...</td>\n",
       "      <td>5</td>\n",
       "      <td>503</td>\n",
       "      <td>392</td>\n",
       "      <td>(0, 7192)\\t0.09467788070921886\\n  (0, 2086)\\...</td>\n",
       "      <td>1</td>\n",
       "    </tr>\n",
       "    <tr>\n",
       "      <th>3</th>\n",
       "      <td>bought iphone numbr big billion day saved alot...</td>\n",
       "      <td>4</td>\n",
       "      <td>473</td>\n",
       "      <td>332</td>\n",
       "      <td>(0, 40)\\t0.1713360716518642\\n  (0, 2525)\\t0....</td>\n",
       "      <td>1</td>\n",
       "    </tr>\n",
       "    <tr>\n",
       "      <th>4</th>\n",
       "      <td>green colour charming pricelessno weight iphon...</td>\n",
       "      <td>5</td>\n",
       "      <td>359</td>\n",
       "      <td>338</td>\n",
       "      <td>(0, 4067)\\t0.11077343736056695\\n  (0, 4351)\\...</td>\n",
       "      <td>1</td>\n",
       "    </tr>\n",
       "    <tr>\n",
       "      <th>...</th>\n",
       "      <td>...</td>\n",
       "      <td>...</td>\n",
       "      <td>...</td>\n",
       "      <td>...</td>\n",
       "      <td>...</td>\n",
       "      <td>...</td>\n",
       "    </tr>\n",
       "    <tr>\n",
       "      <th>23363</th>\n",
       "      <td>good product happy</td>\n",
       "      <td>5</td>\n",
       "      <td>18</td>\n",
       "      <td>18</td>\n",
       "      <td>(0, 3866)\\t0.8181995752558251\\n  (0, 3629)\\t...</td>\n",
       "      <td>1</td>\n",
       "    </tr>\n",
       "    <tr>\n",
       "      <th>23364</th>\n",
       "      <td>good</td>\n",
       "      <td>5</td>\n",
       "      <td>4</td>\n",
       "      <td>4</td>\n",
       "      <td>(0, 3629)\\t1.0</td>\n",
       "      <td>1</td>\n",
       "    </tr>\n",
       "    <tr>\n",
       "      <th>23365</th>\n",
       "      <td>good design 👍 valueable product money 🤑💰</td>\n",
       "      <td>5</td>\n",
       "      <td>47</td>\n",
       "      <td>40</td>\n",
       "      <td>(0, 9388)\\t0.815293210662001\\n  (0, 5335)\\t0...</td>\n",
       "      <td>1</td>\n",
       "    </tr>\n",
       "    <tr>\n",
       "      <th>23366</th>\n",
       "      <td>sooo good product watch numbr series sooo beau...</td>\n",
       "      <td>5</td>\n",
       "      <td>71</td>\n",
       "      <td>72</td>\n",
       "      <td>(0, 8191)\\t0.7461870714552229\\n  (0, 7852)\\t...</td>\n",
       "      <td>1</td>\n",
       "    </tr>\n",
       "    <tr>\n",
       "      <th>23367</th>\n",
       "      <td>valuable</td>\n",
       "      <td>4</td>\n",
       "      <td>13</td>\n",
       "      <td>8</td>\n",
       "      <td>(0, 9385)\\t1.0</td>\n",
       "      <td>1</td>\n",
       "    </tr>\n",
       "  </tbody>\n",
       "</table>\n",
       "<p>23368 rows × 6 columns</p>\n",
       "</div>"
      ],
      "text/plain": [
       "                                         Original_Review  Original_Rating  \\\n",
       "0      night mode simply amazing give clear crisp ima...                5   \n",
       "1      product fantastic great nay awesome camera.bat...                5   \n",
       "2      switched android iphone transition really smoo...                5   \n",
       "3      bought iphone numbr big billion day saved alot...                4   \n",
       "4      green colour charming pricelessno weight iphon...                5   \n",
       "...                                                  ...              ...   \n",
       "23363                                 good product happy                5   \n",
       "23364                                               good                5   \n",
       "23365           good design 👍 valueable product money 🤑💰                5   \n",
       "23366  sooo good product watch numbr series sooo beau...                5   \n",
       "23367                                           valuable                4   \n",
       "\n",
       "       Length  Clean_Length  \\\n",
       "0          92            59   \n",
       "1         210           166   \n",
       "2         503           392   \n",
       "3         473           332   \n",
       "4         359           338   \n",
       "...       ...           ...   \n",
       "23363      18            18   \n",
       "23364       4             4   \n",
       "23365      47            40   \n",
       "23366      71            72   \n",
       "23367      13             8   \n",
       "\n",
       "                                                  tf_vef  predicted  \n",
       "0        (0, 2079)\\t0.4334823565550601\\n  (0, 4167)\\t...          1  \n",
       "1        (0, 4904)\\t0.18704232882874217\\n  (0, 4598)\\...          1  \n",
       "2        (0, 7192)\\t0.09467788070921886\\n  (0, 2086)\\...          1  \n",
       "3        (0, 40)\\t0.1713360716518642\\n  (0, 2525)\\t0....          1  \n",
       "4        (0, 4067)\\t0.11077343736056695\\n  (0, 4351)\\...          1  \n",
       "...                                                  ...        ...  \n",
       "23363    (0, 3866)\\t0.8181995752558251\\n  (0, 3629)\\t...          1  \n",
       "23364                                     (0, 3629)\\t1.0          1  \n",
       "23365    (0, 9388)\\t0.815293210662001\\n  (0, 5335)\\t0...          1  \n",
       "23366    (0, 8191)\\t0.7461870714552229\\n  (0, 7852)\\t...          1  \n",
       "23367                                     (0, 9385)\\t1.0          1  \n",
       "\n",
       "[23368 rows x 6 columns]"
      ]
     },
     "execution_count": 190,
     "metadata": {},
     "output_type": "execute_result"
    }
   ],
   "source": [
    "df_com=pd.DataFrame({\"Original_Review\":df['Review'],\"Original_Rating\":df['Rating'],\"Length\":df['Length'],\"Clean_Length\":df['clean_length'],\"tf_vef\":test_data,\"predicted\":prediction}, index= range(len(df['Review'])))\n",
    "df_com"
   ]
  },
  {
   "cell_type": "code",
   "execution_count": 186,
   "id": "bacac491",
   "metadata": {},
   "outputs": [
    {
     "data": {
      "text/html": [
       "<div>\n",
       "<style scoped>\n",
       "    .dataframe tbody tr th:only-of-type {\n",
       "        vertical-align: middle;\n",
       "    }\n",
       "\n",
       "    .dataframe tbody tr th {\n",
       "        vertical-align: top;\n",
       "    }\n",
       "\n",
       "    .dataframe thead th {\n",
       "        text-align: right;\n",
       "    }\n",
       "</style>\n",
       "<table border=\"1\" class=\"dataframe\">\n",
       "  <thead>\n",
       "    <tr style=\"text-align: right;\">\n",
       "      <th></th>\n",
       "      <th>original</th>\n",
       "      <th>Rating</th>\n",
       "      <th>Length</th>\n",
       "      <th>Clean_Length</th>\n",
       "      <th>tf_vef</th>\n",
       "      <th>predicted</th>\n",
       "    </tr>\n",
       "  </thead>\n",
       "  <tbody>\n",
       "    <tr>\n",
       "      <th>22340</th>\n",
       "      <td>good</td>\n",
       "      <td>3</td>\n",
       "      <td>4</td>\n",
       "      <td>4</td>\n",
       "      <td>(0, 3629)\\t1.0</td>\n",
       "      <td>1</td>\n",
       "    </tr>\n",
       "    <tr>\n",
       "      <th>14944</th>\n",
       "      <td>best monitor budget flipkart safety packaging ...</td>\n",
       "      <td>5</td>\n",
       "      <td>73</td>\n",
       "      <td>58</td>\n",
       "      <td>(0, 5369)\\t0.26699040348114866\\n  (0, 8994)\\...</td>\n",
       "      <td>1</td>\n",
       "    </tr>\n",
       "    <tr>\n",
       "      <th>9715</th>\n",
       "      <td>confused first, competition brand panasonic ph...</td>\n",
       "      <td>5</td>\n",
       "      <td>329</td>\n",
       "      <td>210</td>\n",
       "      <td>(0, 4772)\\t0.25827707049879134\\n  (0, 8604)\\...</td>\n",
       "      <td>1</td>\n",
       "    </tr>\n",
       "    <tr>\n",
       "      <th>17098</th>\n",
       "      <td>good quality</td>\n",
       "      <td>4</td>\n",
       "      <td>12</td>\n",
       "      <td>12</td>\n",
       "      <td>(0, 7033)\\t0.8194148209077731\\n  (0, 3629)\\t...</td>\n",
       "      <td>1</td>\n",
       "    </tr>\n",
       "    <tr>\n",
       "      <th>3206</th>\n",
       "      <td>numbr gb memory card missing......dont buy fli...</td>\n",
       "      <td>1</td>\n",
       "      <td>106</td>\n",
       "      <td>82</td>\n",
       "      <td>(0, 2530)\\t0.31330231437377776\\n  (0, 1419)\\...</td>\n",
       "      <td>0</td>\n",
       "    </tr>\n",
       "    <tr>\n",
       "      <th>5457</th>\n",
       "      <td>awsome cemara</td>\n",
       "      <td>5</td>\n",
       "      <td>13</td>\n",
       "      <td>13</td>\n",
       "      <td>(0, 1473)\\t0.8320519857106724\\n  (0, 655)\\t0...</td>\n",
       "      <td>1</td>\n",
       "    </tr>\n",
       "    <tr>\n",
       "      <th>2332</th>\n",
       "      <td>excellent product</td>\n",
       "      <td>5</td>\n",
       "      <td>17</td>\n",
       "      <td>17</td>\n",
       "      <td>(0, 2862)\\t0.8662136598071061\\n  (0, 6781)\\t...</td>\n",
       "      <td>1</td>\n",
       "    </tr>\n",
       "    <tr>\n",
       "      <th>18736</th>\n",
       "      <td>nice product using numbr day working good till...</td>\n",
       "      <td>4</td>\n",
       "      <td>112</td>\n",
       "      <td>83</td>\n",
       "      <td>(0, 5650)\\t0.503006107345831\\n  (0, 1826)\\t0...</td>\n",
       "      <td>1</td>\n",
       "    </tr>\n",
       "    <tr>\n",
       "      <th>9882</th>\n",
       "      <td>gooood</td>\n",
       "      <td>4</td>\n",
       "      <td>6</td>\n",
       "      <td>6</td>\n",
       "      <td>(0, 3713)\\t1.0</td>\n",
       "      <td>1</td>\n",
       "    </tr>\n",
       "    <tr>\n",
       "      <th>12394</th>\n",
       "      <td>good product</td>\n",
       "      <td>5</td>\n",
       "      <td>17</td>\n",
       "      <td>12</td>\n",
       "      <td>(0, 3629)\\t0.6720814862647795\\n  (0, 6781)\\t...</td>\n",
       "      <td>1</td>\n",
       "    </tr>\n",
       "    <tr>\n",
       "      <th>20038</th>\n",
       "      <td>best speed net work</td>\n",
       "      <td>5</td>\n",
       "      <td>23</td>\n",
       "      <td>19</td>\n",
       "      <td>(0, 5530)\\t0.7168996001134145\\n  (0, 9823)\\t...</td>\n",
       "      <td>1</td>\n",
       "    </tr>\n",
       "    <tr>\n",
       "      <th>17511</th>\n",
       "      <td>great product</td>\n",
       "      <td>5</td>\n",
       "      <td>13</td>\n",
       "      <td>13</td>\n",
       "      <td>(0, 3744)\\t0.8700679088833991\\n  (0, 6781)\\t...</td>\n",
       "      <td>1</td>\n",
       "    </tr>\n",
       "    <tr>\n",
       "      <th>18145</th>\n",
       "      <td>working</td>\n",
       "      <td>1</td>\n",
       "      <td>17</td>\n",
       "      <td>7</td>\n",
       "      <td>(0, 9829)\\t1.0</td>\n",
       "      <td>0</td>\n",
       "    </tr>\n",
       "    <tr>\n",
       "      <th>15445</th>\n",
       "      <td>best monitor budget range.</td>\n",
       "      <td>5</td>\n",
       "      <td>39</td>\n",
       "      <td>26</td>\n",
       "      <td>(0, 5369)\\t0.526892304877097\\n  (0, 1242)\\t0...</td>\n",
       "      <td>1</td>\n",
       "    </tr>\n",
       "    <tr>\n",
       "      <th>16993</th>\n",
       "      <td>good quality printer.. configuration wifi bit ...</td>\n",
       "      <td>5</td>\n",
       "      <td>73</td>\n",
       "      <td>66</td>\n",
       "      <td>(0, 9088)\\t0.5972468972085097\\n  (0, 6692)\\t...</td>\n",
       "      <td>1</td>\n",
       "    </tr>\n",
       "    <tr>\n",
       "      <th>19792</th>\n",
       "      <td>till working fine ....</td>\n",
       "      <td>2</td>\n",
       "      <td>26</td>\n",
       "      <td>22</td>\n",
       "      <td>(0, 8929)\\t0.6677611462796645\\n  (0, 9829)\\t...</td>\n",
       "      <td>1</td>\n",
       "    </tr>\n",
       "    <tr>\n",
       "      <th>11075</th>\n",
       "      <td>aewsome product</td>\n",
       "      <td>5</td>\n",
       "      <td>15</td>\n",
       "      <td>15</td>\n",
       "      <td>(0, 148)\\t0.9748139726508207\\n  (0, 6781)\\t0...</td>\n",
       "      <td>1</td>\n",
       "    </tr>\n",
       "    <tr>\n",
       "      <th>16256</th>\n",
       "      <td>display wawsome..if r looking display gaming e...</td>\n",
       "      <td>5</td>\n",
       "      <td>154</td>\n",
       "      <td>102</td>\n",
       "      <td>(0, 8029)\\t0.42052416673502085\\n  (0, 9651)\\...</td>\n",
       "      <td>1</td>\n",
       "    </tr>\n",
       "    <tr>\n",
       "      <th>18722</th>\n",
       "      <td>due made china.... taiwan product</td>\n",
       "      <td>1</td>\n",
       "      <td>48</td>\n",
       "      <td>33</td>\n",
       "      <td>(0, 8689)\\t0.767362877904462\\n  (0, 1557)\\t0...</td>\n",
       "      <td>1</td>\n",
       "    </tr>\n",
       "    <tr>\n",
       "      <th>14543</th>\n",
       "      <td>worst part monitor screen adjustable. service ...</td>\n",
       "      <td>1</td>\n",
       "      <td>75</td>\n",
       "      <td>55</td>\n",
       "      <td>(0, 5369)\\t0.31186133623527507\\n  (0, 112)\\t...</td>\n",
       "      <td>0</td>\n",
       "    </tr>\n",
       "    <tr>\n",
       "      <th>2816</th>\n",
       "      <td>numbr gb memory card missing......dont buy fli...</td>\n",
       "      <td>1</td>\n",
       "      <td>106</td>\n",
       "      <td>82</td>\n",
       "      <td>(0, 2530)\\t0.31330231437377776\\n  (0, 1419)\\...</td>\n",
       "      <td>0</td>\n",
       "    </tr>\n",
       "    <tr>\n",
       "      <th>2074</th>\n",
       "      <td>far good…!! genuine apple product complaint wh...</td>\n",
       "      <td>5</td>\n",
       "      <td>130</td>\n",
       "      <td>98</td>\n",
       "      <td>(0, 1278)\\t0.37372563446156976\\n  (0, 1770)\\...</td>\n",
       "      <td>1</td>\n",
       "    </tr>\n",
       "    <tr>\n",
       "      <th>14868</th>\n",
       "      <td>backlight bleeding problem...</td>\n",
       "      <td>3</td>\n",
       "      <td>29</td>\n",
       "      <td>29</td>\n",
       "      <td>(0, 679)\\t0.6432777228287675\\n  (0, 1043)\\t0...</td>\n",
       "      <td>0</td>\n",
       "    </tr>\n",
       "    <tr>\n",
       "      <th>14848</th>\n",
       "      <td>nice good quality</td>\n",
       "      <td>5</td>\n",
       "      <td>22</td>\n",
       "      <td>17</td>\n",
       "      <td>(0, 5540)\\t0.6279593305255743\\n  (0, 7033)\\t...</td>\n",
       "      <td>1</td>\n",
       "    </tr>\n",
       "    <tr>\n",
       "      <th>19680</th>\n",
       "      <td>awesome product. need router plz go one.</td>\n",
       "      <td>5</td>\n",
       "      <td>58</td>\n",
       "      <td>40</td>\n",
       "      <td>(0, 7569)\\t0.43206081344579444\\n  (0, 6497)\\...</td>\n",
       "      <td>1</td>\n",
       "    </tr>\n",
       "  </tbody>\n",
       "</table>\n",
       "</div>"
      ],
      "text/plain": [
       "                                                original  Rating  Length  \\\n",
       "22340                                               good       3       4   \n",
       "14944  best monitor budget flipkart safety packaging ...       5      73   \n",
       "9715   confused first, competition brand panasonic ph...       5     329   \n",
       "17098                                       good quality       4      12   \n",
       "3206   numbr gb memory card missing......dont buy fli...       1     106   \n",
       "5457                                       awsome cemara       5      13   \n",
       "2332                                   excellent product       5      17   \n",
       "18736  nice product using numbr day working good till...       4     112   \n",
       "9882                                              gooood       4       6   \n",
       "12394                                       good product       5      17   \n",
       "20038                                best speed net work       5      23   \n",
       "17511                                      great product       5      13   \n",
       "18145                                            working       1      17   \n",
       "15445                         best monitor budget range.       5      39   \n",
       "16993  good quality printer.. configuration wifi bit ...       5      73   \n",
       "19792                             till working fine ....       2      26   \n",
       "11075                                    aewsome product       5      15   \n",
       "16256  display wawsome..if r looking display gaming e...       5     154   \n",
       "18722                  due made china.... taiwan product       1      48   \n",
       "14543  worst part monitor screen adjustable. service ...       1      75   \n",
       "2816   numbr gb memory card missing......dont buy fli...       1     106   \n",
       "2074   far good…!! genuine apple product complaint wh...       5     130   \n",
       "14868                      backlight bleeding problem...       3      29   \n",
       "14848                                  nice good quality       5      22   \n",
       "19680           awesome product. need router plz go one.       5      58   \n",
       "\n",
       "       Clean_Length                                             tf_vef  \\\n",
       "22340             4                                     (0, 3629)\\t1.0   \n",
       "14944            58    (0, 5369)\\t0.26699040348114866\\n  (0, 8994)\\...   \n",
       "9715            210    (0, 4772)\\t0.25827707049879134\\n  (0, 8604)\\...   \n",
       "17098            12    (0, 7033)\\t0.8194148209077731\\n  (0, 3629)\\t...   \n",
       "3206             82    (0, 2530)\\t0.31330231437377776\\n  (0, 1419)\\...   \n",
       "5457             13    (0, 1473)\\t0.8320519857106724\\n  (0, 655)\\t0...   \n",
       "2332             17    (0, 2862)\\t0.8662136598071061\\n  (0, 6781)\\t...   \n",
       "18736            83    (0, 5650)\\t0.503006107345831\\n  (0, 1826)\\t0...   \n",
       "9882              6                                     (0, 3713)\\t1.0   \n",
       "12394            12    (0, 3629)\\t0.6720814862647795\\n  (0, 6781)\\t...   \n",
       "20038            19    (0, 5530)\\t0.7168996001134145\\n  (0, 9823)\\t...   \n",
       "17511            13    (0, 3744)\\t0.8700679088833991\\n  (0, 6781)\\t...   \n",
       "18145             7                                     (0, 9829)\\t1.0   \n",
       "15445            26    (0, 5369)\\t0.526892304877097\\n  (0, 1242)\\t0...   \n",
       "16993            66    (0, 9088)\\t0.5972468972085097\\n  (0, 6692)\\t...   \n",
       "19792            22    (0, 8929)\\t0.6677611462796645\\n  (0, 9829)\\t...   \n",
       "11075            15    (0, 148)\\t0.9748139726508207\\n  (0, 6781)\\t0...   \n",
       "16256           102    (0, 8029)\\t0.42052416673502085\\n  (0, 9651)\\...   \n",
       "18722            33    (0, 8689)\\t0.767362877904462\\n  (0, 1557)\\t0...   \n",
       "14543            55    (0, 5369)\\t0.31186133623527507\\n  (0, 112)\\t...   \n",
       "2816             82    (0, 2530)\\t0.31330231437377776\\n  (0, 1419)\\...   \n",
       "2074             98    (0, 1278)\\t0.37372563446156976\\n  (0, 1770)\\...   \n",
       "14868            29    (0, 679)\\t0.6432777228287675\\n  (0, 1043)\\t0...   \n",
       "14848            17    (0, 5540)\\t0.6279593305255743\\n  (0, 7033)\\t...   \n",
       "19680            40    (0, 7569)\\t0.43206081344579444\\n  (0, 6497)\\...   \n",
       "\n",
       "       predicted  \n",
       "22340          1  \n",
       "14944          1  \n",
       "9715           1  \n",
       "17098          1  \n",
       "3206           0  \n",
       "5457           1  \n",
       "2332           1  \n",
       "18736          1  \n",
       "9882           1  \n",
       "12394          1  \n",
       "20038          1  \n",
       "17511          1  \n",
       "18145          0  \n",
       "15445          1  \n",
       "16993          1  \n",
       "19792          1  \n",
       "11075          1  \n",
       "16256          1  \n",
       "18722          1  \n",
       "14543          0  \n",
       "2816           0  \n",
       "2074           1  \n",
       "14868          0  \n",
       "14848          1  \n",
       "19680          1  "
      ]
     },
     "execution_count": 186,
     "metadata": {},
     "output_type": "execute_result"
    }
   ],
   "source": [
    "df_com.sample(25)"
   ]
  },
  {
   "cell_type": "markdown",
   "id": "322f1f8b",
   "metadata": {},
   "source": [
    "Conclusion: As our model Accuracy is over 93% which is good in terms of initial model building.Xgboost is best from the rest."
   ]
  },
  {
   "cell_type": "code",
   "execution_count": null,
   "id": "7beffdf3",
   "metadata": {},
   "outputs": [],
   "source": []
  }
 ],
 "metadata": {
  "kernelspec": {
   "display_name": "Python 3.9.12 ('Virtual_workspace')",
   "language": "python",
   "name": "python3"
  },
  "language_info": {
   "codemirror_mode": {
    "name": "ipython",
    "version": 3
   },
   "file_extension": ".py",
   "mimetype": "text/x-python",
   "name": "python",
   "nbconvert_exporter": "python",
   "pygments_lexer": "ipython3",
   "version": "3.9.12"
  },
  "vscode": {
   "interpreter": {
    "hash": "75ffc4be0cd009277cbf0b5ad4db8f874e609d37e248da5016affae01a8cad50"
   }
  }
 },
 "nbformat": 4,
 "nbformat_minor": 5
}
