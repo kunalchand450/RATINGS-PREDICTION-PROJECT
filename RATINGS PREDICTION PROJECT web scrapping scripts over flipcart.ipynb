{
 "cells": [
  {
   "cell_type": "markdown",
   "id": "be9a982c",
   "metadata": {},
   "source": [
    "# 20000 ratings and reviews for  laptops, Phones, Headphones, smart watches, Professional Cameras, Printers, Monitors, Home theater, Router"
   ]
  },
  {
   "cell_type": "code",
   "execution_count": 2,
   "id": "1ce71295",
   "metadata": {},
   "outputs": [],
   "source": [
    "#lets now import all the required libraries\n",
    "import selenium\n",
    "import pandas as pd\n",
    "from selenium import webdriver\n",
    "import time\n",
    "from selenium.common.exceptions import NoSuchElementException   #Importing Exceptions\n",
    "\n",
    "import warnings\n",
    "warnings.filterwarnings('ignore')"
   ]
  },
  {
   "cell_type": "code",
   "execution_count": 3,
   "id": "d6fac9da",
   "metadata": {},
   "outputs": [],
   "source": [
    "import time\n",
    "from selenium.webdriver import Chrome\n",
    "from selenium.webdriver.common.by import By\n",
    "from selenium.webdriver.common.keys import Keys\n",
    "from selenium.webdriver.support.ui import WebDriverWait\n",
    "from selenium.webdriver.support import expected_conditions as EC"
   ]
  },
  {
   "cell_type": "code",
   "execution_count": 4,
   "id": "1289b08d",
   "metadata": {},
   "outputs": [],
   "source": [
    "from selenium import webdriver\n",
    "driver=webdriver.Chrome(\"chromedriver.exe\")"
   ]
  },
  {
   "cell_type": "markdown",
   "id": "aefb2f4d",
   "metadata": {},
   "source": [
    "# for Mobiles phones "
   ]
  },
  {
   "cell_type": "code",
   "execution_count": null,
   "id": "a3df4d85",
   "metadata": {},
   "outputs": [],
   "source": []
  },
  {
   "cell_type": "code",
   "execution_count": 190,
   "id": "483f717f",
   "metadata": {},
   "outputs": [],
   "source": [
    "url='https://www.flipkart.com/apple-iphone-12-black-64-gb/product-reviews/itma2559422bf7c7?pid=MOBFWBYZU5FWK2VP&lid=LSTMOBFWBYZU5FWK2VPUYA8BN&marketplace=FLIPKART&page=2'\n",
    "driver.get(url)"
   ]
  },
  {
   "cell_type": "code",
   "execution_count": null,
   "id": "bad83fef",
   "metadata": {},
   "outputs": [],
   "source": [
    "Review=[]\n",
    "Rating=[]"
   ]
  },
  {
   "cell_type": "code",
   "execution_count": 219,
   "id": "1c1cbdac",
   "metadata": {
    "scrolled": false
   },
   "outputs": [],
   "source": [
    "\n",
    "for i in range(1,10):\n",
    "    \n",
    "    rating=driver.find_elements_by_xpath('//div[@class=\"_3LWZlK _1BLPMq\" or @class=\"_3LWZlK _1rdVr6 _1BLPMq\" or @class=\"_3LWZlK _32lA32 _1BLPMq\"]')\n",
    "    for i in rating:\n",
    "        Rating.append(i.text.replace(\"\\n\",\"\"))\n",
    "    \n",
    "        \n",
    "        \n",
    "    review=driver.find_elements_by_xpath('//div[@class=\"t-ZTKy\"]')\n",
    "    for i in review:\n",
    "            Review.append(i.text.replace(\"\\n\",\"\"))\n",
    "    \n",
    "    \n",
    "    \n",
    "    nxt_button=driver.find_element_by_xpath('//a[@class=\"_1LKTO3\"][2]')\n",
    "    nxt_button.click()\n",
    "    \n",
    "    time.sleep(5)"
   ]
  },
  {
   "cell_type": "code",
   "execution_count": 220,
   "id": "2ef5063c",
   "metadata": {},
   "outputs": [
    {
     "data": {
      "text/plain": [
       "2449"
      ]
     },
     "execution_count": 220,
     "metadata": {},
     "output_type": "execute_result"
    }
   ],
   "source": [
    "len(Review)\n"
   ]
  },
  {
   "cell_type": "code",
   "execution_count": 221,
   "id": "8079bcb0",
   "metadata": {},
   "outputs": [
    {
     "data": {
      "text/plain": [
       "2449"
      ]
     },
     "execution_count": 221,
     "metadata": {},
     "output_type": "execute_result"
    }
   ],
   "source": [
    "len(Rating)"
   ]
  },
  {
   "cell_type": "code",
   "execution_count": 222,
   "id": "c06c4996",
   "metadata": {},
   "outputs": [
    {
     "data": {
      "text/html": [
       "<div>\n",
       "<style scoped>\n",
       "    .dataframe tbody tr th:only-of-type {\n",
       "        vertical-align: middle;\n",
       "    }\n",
       "\n",
       "    .dataframe tbody tr th {\n",
       "        vertical-align: top;\n",
       "    }\n",
       "\n",
       "    .dataframe thead th {\n",
       "        text-align: right;\n",
       "    }\n",
       "</style>\n",
       "<table border=\"1\" class=\"dataframe\">\n",
       "  <thead>\n",
       "    <tr style=\"text-align: right;\">\n",
       "      <th></th>\n",
       "      <th>Review</th>\n",
       "      <th>Rating</th>\n",
       "    </tr>\n",
       "  </thead>\n",
       "  <tbody>\n",
       "    <tr>\n",
       "      <th>0</th>\n",
       "      <td>Night mode is simply amazing and give you a cl...</td>\n",
       "      <td>5</td>\n",
       "    </tr>\n",
       "    <tr>\n",
       "      <th>1</th>\n",
       "      <td>The Product is fantastic with great nay awesom...</td>\n",
       "      <td>5</td>\n",
       "    </tr>\n",
       "    <tr>\n",
       "      <th>2</th>\n",
       "      <td>Switched from Android to iPhone and this trans...</td>\n",
       "      <td>5</td>\n",
       "    </tr>\n",
       "    <tr>\n",
       "      <th>3</th>\n",
       "      <td>I bought this iphone 12 in big billion days an...</td>\n",
       "      <td>4</td>\n",
       "    </tr>\n",
       "    <tr>\n",
       "      <th>4</th>\n",
       "      <td>Green colour is charming and pricelessNo weigh...</td>\n",
       "      <td>5</td>\n",
       "    </tr>\n",
       "    <tr>\n",
       "      <th>...</th>\n",
       "      <td>...</td>\n",
       "      <td>...</td>\n",
       "    </tr>\n",
       "    <tr>\n",
       "      <th>2444</th>\n",
       "      <td>Great</td>\n",
       "      <td>5</td>\n",
       "    </tr>\n",
       "    <tr>\n",
       "      <th>2445</th>\n",
       "      <td>Super</td>\n",
       "      <td>5</td>\n",
       "    </tr>\n",
       "    <tr>\n",
       "      <th>2446</th>\n",
       "      <td>Very premium designExtremely good camera53k</td>\n",
       "      <td>5</td>\n",
       "    </tr>\n",
       "    <tr>\n",
       "      <th>2447</th>\n",
       "      <td>Value of money ✅✅✅✅</td>\n",
       "      <td>3</td>\n",
       "    </tr>\n",
       "    <tr>\n",
       "      <th>2448</th>\n",
       "      <td>Full Value for money product.</td>\n",
       "      <td>5</td>\n",
       "    </tr>\n",
       "  </tbody>\n",
       "</table>\n",
       "<p>2449 rows × 2 columns</p>\n",
       "</div>"
      ],
      "text/plain": [
       "                                                 Review Rating\n",
       "0     Night mode is simply amazing and give you a cl...      5\n",
       "1     The Product is fantastic with great nay awesom...      5\n",
       "2     Switched from Android to iPhone and this trans...      5\n",
       "3     I bought this iphone 12 in big billion days an...      4\n",
       "4     Green colour is charming and pricelessNo weigh...      5\n",
       "...                                                 ...    ...\n",
       "2444                                              Great      5\n",
       "2445                                              Super      5\n",
       "2446        Very premium designExtremely good camera53k      5\n",
       "2447                                Value of money ✅✅✅✅      3\n",
       "2448                      Full Value for money product.      5\n",
       "\n",
       "[2449 rows x 2 columns]"
      ]
     },
     "execution_count": 222,
     "metadata": {},
     "output_type": "execute_result"
    }
   ],
   "source": [
    "import pandas as pd\n",
    "df3=pd.DataFrame({})\n",
    "df3['Review']=Review\n",
    "df3['Rating']=Rating\n",
    "df3"
   ]
  },
  {
   "cell_type": "code",
   "execution_count": 223,
   "id": "81bb55a3",
   "metadata": {},
   "outputs": [
    {
     "name": "stdout",
     "output_type": "stream",
     "text": [
      "DataFrame10 is written to Excel File successfully.\n"
     ]
    }
   ],
   "source": [
    "# writing to Excel\n",
    "datatoexcel10 = pd.ExcelWriter('df3.xlsx')\n",
    "# write DataFrame to excel\n",
    "df3.to_excel(datatoexcel10)\n",
    "# save the excel\n",
    "datatoexcel10.save()\n",
    "print('DataFrame10 is written to Excel File successfully.')"
   ]
  },
  {
   "cell_type": "markdown",
   "id": "a3b86ac5",
   "metadata": {},
   "source": [
    "# for laptops"
   ]
  },
  {
   "cell_type": "code",
   "execution_count": 287,
   "id": "c3f451e9",
   "metadata": {},
   "outputs": [],
   "source": [
    "from selenium import webdriver\n",
    "driver=webdriver.Chrome(\"chromedriver.exe\")"
   ]
  },
  {
   "cell_type": "code",
   "execution_count": 332,
   "id": "830dba50",
   "metadata": {},
   "outputs": [],
   "source": [
    "url='https://www.flipkart.com/apple-macbook-air-m1-8-gb-256-gb-ssd-mac-os-big-sur-mgnd3hn-a/product-reviews/itma8a9681af6907?pid=COMFXEKM3S5BFS2G&lid=LSTCOMFXEKM3S5BFS2GMUIOWS&marketplace=FLIPKART&page=2'\n",
    "driver.get(url)"
   ]
  },
  {
   "cell_type": "code",
   "execution_count": 294,
   "id": "72802002",
   "metadata": {},
   "outputs": [],
   "source": [
    "#ReviewL=[]\n",
    "#RatingL=[]"
   ]
  },
  {
   "cell_type": "code",
   "execution_count": 333,
   "id": "637155fa",
   "metadata": {},
   "outputs": [
    {
     "ename": "NoSuchElementException",
     "evalue": "Message: no such element: Unable to locate element: {\"method\":\"xpath\",\"selector\":\"//a[@class=\"_1LKTO3\"][2]\"}\n  (Session info: chrome=96.0.4664.110)\nStacktrace:\nBacktrace:\n\tOrdinal0 [0x00E46903+2517251]\n\tOrdinal0 [0x00DDF8E1+2095329]\n\tOrdinal0 [0x00CE2848+1058888]\n\tOrdinal0 [0x00D0D448+1233992]\n\tOrdinal0 [0x00D0D63B+1234491]\n\tOrdinal0 [0x00D37812+1406994]\n\tOrdinal0 [0x00D2650A+1336586]\n\tOrdinal0 [0x00D35BBF+1399743]\n\tOrdinal0 [0x00D2639B+1336219]\n\tOrdinal0 [0x00D027A7+1189799]\n\tOrdinal0 [0x00D03609+1193481]\n\tGetHandleVerifier [0x00FD5904+1577972]\n\tGetHandleVerifier [0x01080B97+2279047]\n\tGetHandleVerifier [0x00ED6D09+534521]\n\tGetHandleVerifier [0x00ED5DB9+530601]\n\tOrdinal0 [0x00DE4FF9+2117625]\n\tOrdinal0 [0x00DE98A8+2136232]\n\tOrdinal0 [0x00DE99E2+2136546]\n\tOrdinal0 [0x00DF3541+2176321]\n\tBaseThreadInitThunk [0x76CAFA29+25]\n\tRtlGetAppContainerNamedObjectPath [0x778B7A9E+286]\n\tRtlGetAppContainerNamedObjectPath [0x778B7A6E+238]\n",
     "output_type": "error",
     "traceback": [
      "\u001b[1;31m---------------------------------------------------------------------------\u001b[0m",
      "\u001b[1;31mNoSuchElementException\u001b[0m                    Traceback (most recent call last)",
      "\u001b[1;32m~\\AppData\\Local\\Temp/ipykernel_14424/3543724487.py\u001b[0m in \u001b[0;36m<module>\u001b[1;34m\u001b[0m\n\u001b[0;32m     13\u001b[0m \u001b[1;33m\u001b[0m\u001b[0m\n\u001b[0;32m     14\u001b[0m \u001b[1;33m\u001b[0m\u001b[0m\n\u001b[1;32m---> 15\u001b[1;33m     \u001b[0mnxt_button\u001b[0m\u001b[1;33m=\u001b[0m\u001b[0mdriver\u001b[0m\u001b[1;33m.\u001b[0m\u001b[0mfind_element_by_xpath\u001b[0m\u001b[1;33m(\u001b[0m\u001b[1;34m'//a[@class=\"_1LKTO3\"][2]'\u001b[0m\u001b[1;33m)\u001b[0m\u001b[1;33m\u001b[0m\u001b[1;33m\u001b[0m\u001b[0m\n\u001b[0m\u001b[0;32m     16\u001b[0m     \u001b[0mnxt_button\u001b[0m\u001b[1;33m.\u001b[0m\u001b[0mclick\u001b[0m\u001b[1;33m(\u001b[0m\u001b[1;33m)\u001b[0m\u001b[1;33m\u001b[0m\u001b[1;33m\u001b[0m\u001b[0m\n\u001b[0;32m     17\u001b[0m \u001b[1;33m\u001b[0m\u001b[0m\n",
      "\u001b[1;32m~\\anaconda3\\lib\\site-packages\\selenium\\webdriver\\remote\\webdriver.py\u001b[0m in \u001b[0;36mfind_element_by_xpath\u001b[1;34m(self, xpath)\u001b[0m\n\u001b[0;32m    518\u001b[0m             \u001b[0mstacklevel\u001b[0m\u001b[1;33m=\u001b[0m\u001b[1;36m2\u001b[0m\u001b[1;33m,\u001b[0m\u001b[1;33m\u001b[0m\u001b[1;33m\u001b[0m\u001b[0m\n\u001b[0;32m    519\u001b[0m         )\n\u001b[1;32m--> 520\u001b[1;33m         \u001b[1;32mreturn\u001b[0m \u001b[0mself\u001b[0m\u001b[1;33m.\u001b[0m\u001b[0mfind_element\u001b[0m\u001b[1;33m(\u001b[0m\u001b[0mby\u001b[0m\u001b[1;33m=\u001b[0m\u001b[0mBy\u001b[0m\u001b[1;33m.\u001b[0m\u001b[0mXPATH\u001b[0m\u001b[1;33m,\u001b[0m \u001b[0mvalue\u001b[0m\u001b[1;33m=\u001b[0m\u001b[0mxpath\u001b[0m\u001b[1;33m)\u001b[0m\u001b[1;33m\u001b[0m\u001b[1;33m\u001b[0m\u001b[0m\n\u001b[0m\u001b[0;32m    521\u001b[0m \u001b[1;33m\u001b[0m\u001b[0m\n\u001b[0;32m    522\u001b[0m     \u001b[1;32mdef\u001b[0m \u001b[0mfind_elements_by_xpath\u001b[0m\u001b[1;33m(\u001b[0m\u001b[0mself\u001b[0m\u001b[1;33m,\u001b[0m \u001b[0mxpath\u001b[0m\u001b[1;33m)\u001b[0m \u001b[1;33m->\u001b[0m \u001b[0mWebElement\u001b[0m\u001b[1;33m:\u001b[0m\u001b[1;33m\u001b[0m\u001b[1;33m\u001b[0m\u001b[0m\n",
      "\u001b[1;32m~\\anaconda3\\lib\\site-packages\\selenium\\webdriver\\remote\\webdriver.py\u001b[0m in \u001b[0;36mfind_element\u001b[1;34m(self, by, value)\u001b[0m\n\u001b[0;32m   1242\u001b[0m             \u001b[0mvalue\u001b[0m \u001b[1;33m=\u001b[0m \u001b[1;34m'[name=\"%s\"]'\u001b[0m \u001b[1;33m%\u001b[0m \u001b[0mvalue\u001b[0m\u001b[1;33m\u001b[0m\u001b[1;33m\u001b[0m\u001b[0m\n\u001b[0;32m   1243\u001b[0m \u001b[1;33m\u001b[0m\u001b[0m\n\u001b[1;32m-> 1244\u001b[1;33m         return self.execute(Command.FIND_ELEMENT, {\n\u001b[0m\u001b[0;32m   1245\u001b[0m             \u001b[1;34m'using'\u001b[0m\u001b[1;33m:\u001b[0m \u001b[0mby\u001b[0m\u001b[1;33m,\u001b[0m\u001b[1;33m\u001b[0m\u001b[1;33m\u001b[0m\u001b[0m\n\u001b[0;32m   1246\u001b[0m             'value': value})['value']\n",
      "\u001b[1;32m~\\anaconda3\\lib\\site-packages\\selenium\\webdriver\\remote\\webdriver.py\u001b[0m in \u001b[0;36mexecute\u001b[1;34m(self, driver_command, params)\u001b[0m\n\u001b[0;32m    422\u001b[0m         \u001b[0mresponse\u001b[0m \u001b[1;33m=\u001b[0m \u001b[0mself\u001b[0m\u001b[1;33m.\u001b[0m\u001b[0mcommand_executor\u001b[0m\u001b[1;33m.\u001b[0m\u001b[0mexecute\u001b[0m\u001b[1;33m(\u001b[0m\u001b[0mdriver_command\u001b[0m\u001b[1;33m,\u001b[0m \u001b[0mparams\u001b[0m\u001b[1;33m)\u001b[0m\u001b[1;33m\u001b[0m\u001b[1;33m\u001b[0m\u001b[0m\n\u001b[0;32m    423\u001b[0m         \u001b[1;32mif\u001b[0m \u001b[0mresponse\u001b[0m\u001b[1;33m:\u001b[0m\u001b[1;33m\u001b[0m\u001b[1;33m\u001b[0m\u001b[0m\n\u001b[1;32m--> 424\u001b[1;33m             \u001b[0mself\u001b[0m\u001b[1;33m.\u001b[0m\u001b[0merror_handler\u001b[0m\u001b[1;33m.\u001b[0m\u001b[0mcheck_response\u001b[0m\u001b[1;33m(\u001b[0m\u001b[0mresponse\u001b[0m\u001b[1;33m)\u001b[0m\u001b[1;33m\u001b[0m\u001b[1;33m\u001b[0m\u001b[0m\n\u001b[0m\u001b[0;32m    425\u001b[0m             response['value'] = self._unwrap_value(\n\u001b[0;32m    426\u001b[0m                 response.get('value', None))\n",
      "\u001b[1;32m~\\anaconda3\\lib\\site-packages\\selenium\\webdriver\\remote\\errorhandler.py\u001b[0m in \u001b[0;36mcheck_response\u001b[1;34m(self, response)\u001b[0m\n\u001b[0;32m    245\u001b[0m                 \u001b[0malert_text\u001b[0m \u001b[1;33m=\u001b[0m \u001b[0mvalue\u001b[0m\u001b[1;33m[\u001b[0m\u001b[1;34m'alert'\u001b[0m\u001b[1;33m]\u001b[0m\u001b[1;33m.\u001b[0m\u001b[0mget\u001b[0m\u001b[1;33m(\u001b[0m\u001b[1;34m'text'\u001b[0m\u001b[1;33m)\u001b[0m\u001b[1;33m\u001b[0m\u001b[1;33m\u001b[0m\u001b[0m\n\u001b[0;32m    246\u001b[0m             \u001b[1;32mraise\u001b[0m \u001b[0mexception_class\u001b[0m\u001b[1;33m(\u001b[0m\u001b[0mmessage\u001b[0m\u001b[1;33m,\u001b[0m \u001b[0mscreen\u001b[0m\u001b[1;33m,\u001b[0m \u001b[0mstacktrace\u001b[0m\u001b[1;33m,\u001b[0m \u001b[0malert_text\u001b[0m\u001b[1;33m)\u001b[0m  \u001b[1;31m# type: ignore[call-arg]  # mypy is not smart enough here\u001b[0m\u001b[1;33m\u001b[0m\u001b[1;33m\u001b[0m\u001b[0m\n\u001b[1;32m--> 247\u001b[1;33m         \u001b[1;32mraise\u001b[0m \u001b[0mexception_class\u001b[0m\u001b[1;33m(\u001b[0m\u001b[0mmessage\u001b[0m\u001b[1;33m,\u001b[0m \u001b[0mscreen\u001b[0m\u001b[1;33m,\u001b[0m \u001b[0mstacktrace\u001b[0m\u001b[1;33m)\u001b[0m\u001b[1;33m\u001b[0m\u001b[1;33m\u001b[0m\u001b[0m\n\u001b[0m\u001b[0;32m    248\u001b[0m \u001b[1;33m\u001b[0m\u001b[0m\n\u001b[0;32m    249\u001b[0m     \u001b[1;32mdef\u001b[0m \u001b[0m_value_or_default\u001b[0m\u001b[1;33m(\u001b[0m\u001b[0mself\u001b[0m\u001b[1;33m,\u001b[0m \u001b[0mobj\u001b[0m\u001b[1;33m:\u001b[0m \u001b[0mMapping\u001b[0m\u001b[1;33m[\u001b[0m\u001b[0m_KT\u001b[0m\u001b[1;33m,\u001b[0m \u001b[0m_VT\u001b[0m\u001b[1;33m]\u001b[0m\u001b[1;33m,\u001b[0m \u001b[0mkey\u001b[0m\u001b[1;33m:\u001b[0m \u001b[0m_KT\u001b[0m\u001b[1;33m,\u001b[0m \u001b[0mdefault\u001b[0m\u001b[1;33m:\u001b[0m \u001b[0m_VT\u001b[0m\u001b[1;33m)\u001b[0m \u001b[1;33m->\u001b[0m \u001b[0m_VT\u001b[0m\u001b[1;33m:\u001b[0m\u001b[1;33m\u001b[0m\u001b[1;33m\u001b[0m\u001b[0m\n",
      "\u001b[1;31mNoSuchElementException\u001b[0m: Message: no such element: Unable to locate element: {\"method\":\"xpath\",\"selector\":\"//a[@class=\"_1LKTO3\"][2]\"}\n  (Session info: chrome=96.0.4664.110)\nStacktrace:\nBacktrace:\n\tOrdinal0 [0x00E46903+2517251]\n\tOrdinal0 [0x00DDF8E1+2095329]\n\tOrdinal0 [0x00CE2848+1058888]\n\tOrdinal0 [0x00D0D448+1233992]\n\tOrdinal0 [0x00D0D63B+1234491]\n\tOrdinal0 [0x00D37812+1406994]\n\tOrdinal0 [0x00D2650A+1336586]\n\tOrdinal0 [0x00D35BBF+1399743]\n\tOrdinal0 [0x00D2639B+1336219]\n\tOrdinal0 [0x00D027A7+1189799]\n\tOrdinal0 [0x00D03609+1193481]\n\tGetHandleVerifier [0x00FD5904+1577972]\n\tGetHandleVerifier [0x01080B97+2279047]\n\tGetHandleVerifier [0x00ED6D09+534521]\n\tGetHandleVerifier [0x00ED5DB9+530601]\n\tOrdinal0 [0x00DE4FF9+2117625]\n\tOrdinal0 [0x00DE98A8+2136232]\n\tOrdinal0 [0x00DE99E2+2136546]\n\tOrdinal0 [0x00DF3541+2176321]\n\tBaseThreadInitThunk [0x76CAFA29+25]\n\tRtlGetAppContainerNamedObjectPath [0x778B7A9E+286]\n\tRtlGetAppContainerNamedObjectPath [0x778B7A6E+238]\n"
     ]
    }
   ],
   "source": [
    "for i in range(1,58):\n",
    "    \n",
    "    rating=driver.find_elements_by_xpath('//div[@class=\"_3LWZlK _1BLPMq\" or @class=\"_3LWZlK _1rdVr6 _1BLPMq\" or @class=\"_3LWZlK _32lA32 _1BLPMq\"]')\n",
    "    for i in rating:\n",
    "        RatingL.append(i.text.replace(\"\\n\",\"\"))\n",
    "    \n",
    "        \n",
    "        \n",
    "    review=driver.find_elements_by_xpath('//div[@class=\"t-ZTKy\"]')\n",
    "    for i in review:\n",
    "            ReviewL.append(i.text.replace(\"\\n\",\"\"))\n",
    "    \n",
    "    \n",
    "    \n",
    "    nxt_button=driver.find_element_by_xpath('//a[@class=\"_1LKTO3\"][2]')\n",
    "    nxt_button.click()\n",
    "    \n",
    "    time.sleep(5)"
   ]
  },
  {
   "cell_type": "code",
   "execution_count": 334,
   "id": "0cab1d3e",
   "metadata": {},
   "outputs": [
    {
     "name": "stdout",
     "output_type": "stream",
     "text": [
      "2402\n",
      "2402\n"
     ]
    }
   ],
   "source": [
    "print(len(ReviewL))\n",
    "print(len(RatingL))"
   ]
  },
  {
   "cell_type": "code",
   "execution_count": null,
   "id": "8d61f33e",
   "metadata": {},
   "outputs": [],
   "source": []
  },
  {
   "cell_type": "code",
   "execution_count": 335,
   "id": "27a281a8",
   "metadata": {},
   "outputs": [
    {
     "data": {
      "text/html": [
       "<div>\n",
       "<style scoped>\n",
       "    .dataframe tbody tr th:only-of-type {\n",
       "        vertical-align: middle;\n",
       "    }\n",
       "\n",
       "    .dataframe tbody tr th {\n",
       "        vertical-align: top;\n",
       "    }\n",
       "\n",
       "    .dataframe thead th {\n",
       "        text-align: right;\n",
       "    }\n",
       "</style>\n",
       "<table border=\"1\" class=\"dataframe\">\n",
       "  <thead>\n",
       "    <tr style=\"text-align: right;\">\n",
       "      <th></th>\n",
       "      <th>ReviewL</th>\n",
       "      <th>RatingL</th>\n",
       "    </tr>\n",
       "  </thead>\n",
       "  <tbody>\n",
       "    <tr>\n",
       "      <th>0</th>\n",
       "      <td>Nice product</td>\n",
       "      <td>5</td>\n",
       "    </tr>\n",
       "    <tr>\n",
       "      <th>1</th>\n",
       "      <td>Good product</td>\n",
       "      <td>5</td>\n",
       "    </tr>\n",
       "    <tr>\n",
       "      <th>2</th>\n",
       "      <td>Product is good but price too high and ssd 256...</td>\n",
       "      <td>4</td>\n",
       "    </tr>\n",
       "    <tr>\n",
       "      <th>3</th>\n",
       "      <td>Its Budget Friendly. And good .</td>\n",
       "      <td>4</td>\n",
       "    </tr>\n",
       "    <tr>\n",
       "      <th>4</th>\n",
       "      <td>Good</td>\n",
       "      <td>4</td>\n",
       "    </tr>\n",
       "    <tr>\n",
       "      <th>...</th>\n",
       "      <td>...</td>\n",
       "      <td>...</td>\n",
       "    </tr>\n",
       "    <tr>\n",
       "      <th>2397</th>\n",
       "      <td>Very good laptop for doing any productive work...</td>\n",
       "      <td>5</td>\n",
       "    </tr>\n",
       "    <tr>\n",
       "      <th>2398</th>\n",
       "      <td>The best laptop you can buy for this price.</td>\n",
       "      <td>5</td>\n",
       "    </tr>\n",
       "    <tr>\n",
       "      <th>2399</th>\n",
       "      <td>Couldn’t add image but trust me on this,its a ...</td>\n",
       "      <td>5</td>\n",
       "    </tr>\n",
       "    <tr>\n",
       "      <th>2400</th>\n",
       "      <td>Worth... One small thing I was interested in s...</td>\n",
       "      <td>5</td>\n",
       "    </tr>\n",
       "    <tr>\n",
       "      <th>2401</th>\n",
       "      <td>Very good laptop</td>\n",
       "      <td>5</td>\n",
       "    </tr>\n",
       "  </tbody>\n",
       "</table>\n",
       "<p>2402 rows × 2 columns</p>\n",
       "</div>"
      ],
      "text/plain": [
       "                                                ReviewL RatingL\n",
       "0                                          Nice product       5\n",
       "1                                          Good product       5\n",
       "2     Product is good but price too high and ssd 256...       4\n",
       "3                       Its Budget Friendly. And good .       4\n",
       "4                                                  Good       4\n",
       "...                                                 ...     ...\n",
       "2397  Very good laptop for doing any productive work...       5\n",
       "2398        The best laptop you can buy for this price.       5\n",
       "2399  Couldn’t add image but trust me on this,its a ...       5\n",
       "2400  Worth... One small thing I was interested in s...       5\n",
       "2401                                   Very good laptop       5\n",
       "\n",
       "[2402 rows x 2 columns]"
      ]
     },
     "execution_count": 335,
     "metadata": {},
     "output_type": "execute_result"
    }
   ],
   "source": [
    "import pandas as pd\n",
    "dfL=pd.DataFrame({})\n",
    "dfL['ReviewL']=ReviewL\n",
    "dfL['RatingL']=RatingL\n",
    "dfL"
   ]
  },
  {
   "cell_type": "code",
   "execution_count": 336,
   "id": "f54dbd90",
   "metadata": {},
   "outputs": [
    {
     "name": "stdout",
     "output_type": "stream",
     "text": [
      "dfl is written to Excel File successfully.\n"
     ]
    }
   ],
   "source": [
    "# writing to Excel\n",
    "datatoexcel20 = pd.ExcelWriter('dfL.xlsx')\n",
    "# write DataFrame to excel\n",
    "dfL.to_excel(datatoexcel20)\n",
    "# save the excel\n",
    "datatoexcel20.save()\n",
    "print('dfl is written to Excel File successfully.')"
   ]
  },
  {
   "cell_type": "markdown",
   "id": "7c682e7a",
   "metadata": {},
   "source": [
    "# for headphones"
   ]
  },
  {
   "cell_type": "code",
   "execution_count": 337,
   "id": "9ea9abfc",
   "metadata": {},
   "outputs": [],
   "source": [
    "from selenium import webdriver\n",
    "driver=webdriver.Chrome(\"chromedriver.exe\")"
   ]
  },
  {
   "cell_type": "code",
   "execution_count": 371,
   "id": "afa5743b",
   "metadata": {},
   "outputs": [],
   "source": [
    "url='https://www.flipkart.com/boat-airdopes-131-bluetooth-headset/product-reviews/itmf76c6f983fbca?pid=ACCFSDGXX3S6DVBG&lid=LSTACCFSDGXX3S6DVBGSRHQQR&marketplace=FLIPKART&page=2'\n",
    "driver.get(url)"
   ]
  },
  {
   "cell_type": "code",
   "execution_count": 364,
   "id": "8493bc65",
   "metadata": {},
   "outputs": [],
   "source": [
    "ReviewH=[]\n",
    "RatingH=[]"
   ]
  },
  {
   "cell_type": "code",
   "execution_count": 376,
   "id": "c0031815",
   "metadata": {},
   "outputs": [],
   "source": [
    "for i in range(1,15):\n",
    "    \n",
    "    rating=driver.find_elements_by_xpath('//div[@class=\"_3LWZlK _1BLPMq\" or @class=\"_3LWZlK _1rdVr6 _1BLPMq\" or @class=\"_3LWZlK _32lA32 _1BLPMq\"]')\n",
    "    for i in rating:\n",
    "        RatingH.append(i.text.replace(\"\\n\",\"\"))\n",
    "    \n",
    "        \n",
    "        \n",
    "    review=driver.find_elements_by_xpath('//div[@class=\"t-ZTKy\"]')\n",
    "    for i in review:\n",
    "            ReviewH.append(i.text.replace(\"\\n\",\"\"))\n",
    "    \n",
    "    \n",
    "    \n",
    "    nxt_button=driver.find_element_by_xpath('//a[@class=\"_1LKTO3\"][2]')\n",
    "    nxt_button.click()\n",
    "    \n",
    "    time.sleep(2)"
   ]
  },
  {
   "cell_type": "code",
   "execution_count": 377,
   "id": "346c3af9",
   "metadata": {},
   "outputs": [
    {
     "name": "stdout",
     "output_type": "stream",
     "text": [
      "2238\n",
      "2238\n"
     ]
    }
   ],
   "source": [
    "print(len(ReviewH))\n",
    "print(len(RatingH))"
   ]
  },
  {
   "cell_type": "code",
   "execution_count": null,
   "id": "cf079aff",
   "metadata": {},
   "outputs": [],
   "source": []
  },
  {
   "cell_type": "code",
   "execution_count": 378,
   "id": "49f93ed0",
   "metadata": {},
   "outputs": [
    {
     "data": {
      "text/html": [
       "<div>\n",
       "<style scoped>\n",
       "    .dataframe tbody tr th:only-of-type {\n",
       "        vertical-align: middle;\n",
       "    }\n",
       "\n",
       "    .dataframe tbody tr th {\n",
       "        vertical-align: top;\n",
       "    }\n",
       "\n",
       "    .dataframe thead th {\n",
       "        text-align: right;\n",
       "    }\n",
       "</style>\n",
       "<table border=\"1\" class=\"dataframe\">\n",
       "  <thead>\n",
       "    <tr style=\"text-align: right;\">\n",
       "      <th></th>\n",
       "      <th>ReviewH</th>\n",
       "      <th>RatingH</th>\n",
       "    </tr>\n",
       "  </thead>\n",
       "  <tbody>\n",
       "    <tr>\n",
       "      <th>0</th>\n",
       "      <td>For the first time, I am posting a review, jus...</td>\n",
       "      <td>5</td>\n",
       "    </tr>\n",
       "    <tr>\n",
       "      <th>1</th>\n",
       "      <td>Wowwww it's amezing bluetooth nice look, nice ...</td>\n",
       "      <td>5</td>\n",
       "    </tr>\n",
       "    <tr>\n",
       "      <th>2</th>\n",
       "      <td>It's a very good product ... I'm so happy with...</td>\n",
       "      <td>5</td>\n",
       "    </tr>\n",
       "    <tr>\n",
       "      <th>3</th>\n",
       "      <td>Very great product at this price I will assure...</td>\n",
       "      <td>5</td>\n",
       "    </tr>\n",
       "    <tr>\n",
       "      <th>4</th>\n",
       "      <td>First of all the Delivery boy is a good guy. N...</td>\n",
       "      <td>4</td>\n",
       "    </tr>\n",
       "    <tr>\n",
       "      <th>...</th>\n",
       "      <td>...</td>\n",
       "      <td>...</td>\n",
       "    </tr>\n",
       "    <tr>\n",
       "      <th>2233</th>\n",
       "      <td>That's a great productNice sound quality &amp; bas...</td>\n",
       "      <td>5</td>\n",
       "    </tr>\n",
       "    <tr>\n",
       "      <th>2234</th>\n",
       "      <td>Good product very nice sound quality good</td>\n",
       "      <td>5</td>\n",
       "    </tr>\n",
       "    <tr>\n",
       "      <th>2235</th>\n",
       "      <td>This Airdopes good in this range of price but ...</td>\n",
       "      <td>3</td>\n",
       "    </tr>\n",
       "    <tr>\n",
       "      <th>2236</th>\n",
       "      <td>Works really nice, worth for the price.</td>\n",
       "      <td>4</td>\n",
       "    </tr>\n",
       "    <tr>\n",
       "      <th>2237</th>\n",
       "      <td>Bass is not bad but not great but this is a bu...</td>\n",
       "      <td>5</td>\n",
       "    </tr>\n",
       "  </tbody>\n",
       "</table>\n",
       "<p>2238 rows × 2 columns</p>\n",
       "</div>"
      ],
      "text/plain": [
       "                                                ReviewH RatingH\n",
       "0     For the first time, I am posting a review, jus...       5\n",
       "1     Wowwww it's amezing bluetooth nice look, nice ...       5\n",
       "2     It's a very good product ... I'm so happy with...       5\n",
       "3     Very great product at this price I will assure...       5\n",
       "4     First of all the Delivery boy is a good guy. N...       4\n",
       "...                                                 ...     ...\n",
       "2233  That's a great productNice sound quality & bas...       5\n",
       "2234          Good product very nice sound quality good       5\n",
       "2235  This Airdopes good in this range of price but ...       3\n",
       "2236            Works really nice, worth for the price.       4\n",
       "2237  Bass is not bad but not great but this is a bu...       5\n",
       "\n",
       "[2238 rows x 2 columns]"
      ]
     },
     "execution_count": 378,
     "metadata": {},
     "output_type": "execute_result"
    }
   ],
   "source": [
    "import pandas as pd\n",
    "dfH=pd.DataFrame({})\n",
    "dfH['ReviewH']=ReviewH\n",
    "dfH['RatingH']=RatingH\n",
    "dfH"
   ]
  },
  {
   "cell_type": "code",
   "execution_count": 379,
   "id": "186c4128",
   "metadata": {},
   "outputs": [
    {
     "name": "stdout",
     "output_type": "stream",
     "text": [
      "dfH is written to Excel File successfully.\n"
     ]
    }
   ],
   "source": [
    "# writing to Excel\n",
    "datatoexcel30 = pd.ExcelWriter('dfH.xlsx')\n",
    "# write DataFrame to excel\n",
    "dfH.to_excel(datatoexcel30)\n",
    "# save the excel\n",
    "datatoexcel30.save()\n",
    "print('dfH is written to Excel File successfully.')"
   ]
  },
  {
   "cell_type": "code",
   "execution_count": null,
   "id": "fde56d84",
   "metadata": {},
   "outputs": [],
   "source": []
  },
  {
   "cell_type": "markdown",
   "id": "72ce2f91",
   "metadata": {},
   "source": [
    "# smart watches"
   ]
  },
  {
   "cell_type": "code",
   "execution_count": 380,
   "id": "b84cee2e",
   "metadata": {},
   "outputs": [],
   "source": [
    "from selenium import webdriver\n",
    "driver=webdriver.Chrome(\"chromedriver.exe\")"
   ]
  },
  {
   "cell_type": "code",
   "execution_count": 389,
   "id": "ca753c86",
   "metadata": {},
   "outputs": [],
   "source": [
    "url='https://www.flipkart.com/apple-watch-series-3-gps-mtf02hn-a-38-mm-space-grey-aluminium-case-black-sport-band/product-reviews/itmc50d68ba8ca0c?pid=SMWF94AYYE5HXTGY&lid=LSTSMWF94AYYE5HXTGYF8W2C3&marketplace=FLIPKART&page=2'\n",
    "driver.get(url)"
   ]
  },
  {
   "cell_type": "code",
   "execution_count": 382,
   "id": "88918b9f",
   "metadata": {},
   "outputs": [],
   "source": [
    "#Reviewsw=[]\n",
    "#Ratingsw=[]"
   ]
  },
  {
   "cell_type": "code",
   "execution_count": 393,
   "id": "ed6a898f",
   "metadata": {},
   "outputs": [
    {
     "ename": "ElementClickInterceptedException",
     "evalue": "Message: element click intercepted: Element <a class=\"_1LKTO3\" href=\"/apple-watch-series-3-gps-mtf02hn-a-38-mm-space-grey-aluminium-case-black-sport-band/product-reviews/itmc50d68ba8ca0c?pid=SMWF94AYYE5HXTGY&amp;lid=LSTSMWF94AYYE5HXTGYF8W2C3&amp;marketplace=FLIPKART&amp;page=87\">...</a> is not clickable at point (1104, 634). Other element would receive the click: <div class=\"_2uz0vJ\">...</div>\n  (Session info: chrome=96.0.4664.110)\nStacktrace:\nBacktrace:\n\tOrdinal0 [0x00E46903+2517251]\n\tOrdinal0 [0x00DDF8E1+2095329]\n\tOrdinal0 [0x00CE2848+1058888]\n\tOrdinal0 [0x00D13509+1258761]\n\tOrdinal0 [0x00D11868+1251432]\n\tOrdinal0 [0x00D0F65D+1242717]\n\tOrdinal0 [0x00D0E4A8+1238184]\n\tOrdinal0 [0x00D04037+1196087]\n\tOrdinal0 [0x00D264D3+1336531]\n\tOrdinal0 [0x00D03A36+1194550]\n\tOrdinal0 [0x00D265BA+1336762]\n\tOrdinal0 [0x00D35BBF+1399743]\n\tOrdinal0 [0x00D2639B+1336219]\n\tOrdinal0 [0x00D027A7+1189799]\n\tOrdinal0 [0x00D03609+1193481]\n\tGetHandleVerifier [0x00FD5904+1577972]\n\tGetHandleVerifier [0x01080B97+2279047]\n\tGetHandleVerifier [0x00ED6D09+534521]\n\tGetHandleVerifier [0x00ED5DB9+530601]\n\tOrdinal0 [0x00DE4FF9+2117625]\n\tOrdinal0 [0x00DE98A8+2136232]\n\tOrdinal0 [0x00DE99E2+2136546]\n\tOrdinal0 [0x00DF3541+2176321]\n\tBaseThreadInitThunk [0x76CAFA29+25]\n\tRtlGetAppContainerNamedObjectPath [0x778B7A9E+286]\n\tRtlGetAppContainerNamedObjectPath [0x778B7A6E+238]\n",
     "output_type": "error",
     "traceback": [
      "\u001b[1;31m---------------------------------------------------------------------------\u001b[0m",
      "\u001b[1;31mElementClickInterceptedException\u001b[0m          Traceback (most recent call last)",
      "\u001b[1;32m~\\AppData\\Local\\Temp/ipykernel_14424/82334525.py\u001b[0m in \u001b[0;36m<module>\u001b[1;34m\u001b[0m\n\u001b[0;32m     14\u001b[0m \u001b[1;33m\u001b[0m\u001b[0m\n\u001b[0;32m     15\u001b[0m     \u001b[0mnxt_button\u001b[0m\u001b[1;33m=\u001b[0m\u001b[0mdriver\u001b[0m\u001b[1;33m.\u001b[0m\u001b[0mfind_element_by_xpath\u001b[0m\u001b[1;33m(\u001b[0m\u001b[1;34m'//a[@class=\"_1LKTO3\"][2]'\u001b[0m\u001b[1;33m)\u001b[0m\u001b[1;33m\u001b[0m\u001b[1;33m\u001b[0m\u001b[0m\n\u001b[1;32m---> 16\u001b[1;33m     \u001b[0mnxt_button\u001b[0m\u001b[1;33m.\u001b[0m\u001b[0mclick\u001b[0m\u001b[1;33m(\u001b[0m\u001b[1;33m)\u001b[0m\u001b[1;33m\u001b[0m\u001b[1;33m\u001b[0m\u001b[0m\n\u001b[0m\u001b[0;32m     17\u001b[0m \u001b[1;33m\u001b[0m\u001b[0m\n\u001b[0;32m     18\u001b[0m     \u001b[0mtime\u001b[0m\u001b[1;33m.\u001b[0m\u001b[0msleep\u001b[0m\u001b[1;33m(\u001b[0m\u001b[1;36m1\u001b[0m\u001b[1;33m)\u001b[0m\u001b[1;33m\u001b[0m\u001b[1;33m\u001b[0m\u001b[0m\n",
      "\u001b[1;32m~\\anaconda3\\lib\\site-packages\\selenium\\webdriver\\remote\\webelement.py\u001b[0m in \u001b[0;36mclick\u001b[1;34m(self)\u001b[0m\n\u001b[0;32m     79\u001b[0m     \u001b[1;32mdef\u001b[0m \u001b[0mclick\u001b[0m\u001b[1;33m(\u001b[0m\u001b[0mself\u001b[0m\u001b[1;33m)\u001b[0m \u001b[1;33m->\u001b[0m \u001b[1;32mNone\u001b[0m\u001b[1;33m:\u001b[0m\u001b[1;33m\u001b[0m\u001b[1;33m\u001b[0m\u001b[0m\n\u001b[0;32m     80\u001b[0m         \u001b[1;34m\"\"\"Clicks the element.\"\"\"\u001b[0m\u001b[1;33m\u001b[0m\u001b[1;33m\u001b[0m\u001b[0m\n\u001b[1;32m---> 81\u001b[1;33m         \u001b[0mself\u001b[0m\u001b[1;33m.\u001b[0m\u001b[0m_execute\u001b[0m\u001b[1;33m(\u001b[0m\u001b[0mCommand\u001b[0m\u001b[1;33m.\u001b[0m\u001b[0mCLICK_ELEMENT\u001b[0m\u001b[1;33m)\u001b[0m\u001b[1;33m\u001b[0m\u001b[1;33m\u001b[0m\u001b[0m\n\u001b[0m\u001b[0;32m     82\u001b[0m \u001b[1;33m\u001b[0m\u001b[0m\n\u001b[0;32m     83\u001b[0m     \u001b[1;32mdef\u001b[0m \u001b[0msubmit\u001b[0m\u001b[1;33m(\u001b[0m\u001b[0mself\u001b[0m\u001b[1;33m)\u001b[0m\u001b[1;33m:\u001b[0m\u001b[1;33m\u001b[0m\u001b[1;33m\u001b[0m\u001b[0m\n",
      "\u001b[1;32m~\\anaconda3\\lib\\site-packages\\selenium\\webdriver\\remote\\webelement.py\u001b[0m in \u001b[0;36m_execute\u001b[1;34m(self, command, params)\u001b[0m\n\u001b[0;32m    708\u001b[0m             \u001b[0mparams\u001b[0m \u001b[1;33m=\u001b[0m \u001b[1;33m{\u001b[0m\u001b[1;33m}\u001b[0m\u001b[1;33m\u001b[0m\u001b[1;33m\u001b[0m\u001b[0m\n\u001b[0;32m    709\u001b[0m         \u001b[0mparams\u001b[0m\u001b[1;33m[\u001b[0m\u001b[1;34m'id'\u001b[0m\u001b[1;33m]\u001b[0m \u001b[1;33m=\u001b[0m \u001b[0mself\u001b[0m\u001b[1;33m.\u001b[0m\u001b[0m_id\u001b[0m\u001b[1;33m\u001b[0m\u001b[1;33m\u001b[0m\u001b[0m\n\u001b[1;32m--> 710\u001b[1;33m         \u001b[1;32mreturn\u001b[0m \u001b[0mself\u001b[0m\u001b[1;33m.\u001b[0m\u001b[0m_parent\u001b[0m\u001b[1;33m.\u001b[0m\u001b[0mexecute\u001b[0m\u001b[1;33m(\u001b[0m\u001b[0mcommand\u001b[0m\u001b[1;33m,\u001b[0m \u001b[0mparams\u001b[0m\u001b[1;33m)\u001b[0m\u001b[1;33m\u001b[0m\u001b[1;33m\u001b[0m\u001b[0m\n\u001b[0m\u001b[0;32m    711\u001b[0m \u001b[1;33m\u001b[0m\u001b[0m\n\u001b[0;32m    712\u001b[0m     \u001b[1;32mdef\u001b[0m \u001b[0mfind_element\u001b[0m\u001b[1;33m(\u001b[0m\u001b[0mself\u001b[0m\u001b[1;33m,\u001b[0m \u001b[0mby\u001b[0m\u001b[1;33m=\u001b[0m\u001b[0mBy\u001b[0m\u001b[1;33m.\u001b[0m\u001b[0mID\u001b[0m\u001b[1;33m,\u001b[0m \u001b[0mvalue\u001b[0m\u001b[1;33m=\u001b[0m\u001b[1;32mNone\u001b[0m\u001b[1;33m)\u001b[0m\u001b[1;33m:\u001b[0m\u001b[1;33m\u001b[0m\u001b[1;33m\u001b[0m\u001b[0m\n",
      "\u001b[1;32m~\\anaconda3\\lib\\site-packages\\selenium\\webdriver\\remote\\webdriver.py\u001b[0m in \u001b[0;36mexecute\u001b[1;34m(self, driver_command, params)\u001b[0m\n\u001b[0;32m    422\u001b[0m         \u001b[0mresponse\u001b[0m \u001b[1;33m=\u001b[0m \u001b[0mself\u001b[0m\u001b[1;33m.\u001b[0m\u001b[0mcommand_executor\u001b[0m\u001b[1;33m.\u001b[0m\u001b[0mexecute\u001b[0m\u001b[1;33m(\u001b[0m\u001b[0mdriver_command\u001b[0m\u001b[1;33m,\u001b[0m \u001b[0mparams\u001b[0m\u001b[1;33m)\u001b[0m\u001b[1;33m\u001b[0m\u001b[1;33m\u001b[0m\u001b[0m\n\u001b[0;32m    423\u001b[0m         \u001b[1;32mif\u001b[0m \u001b[0mresponse\u001b[0m\u001b[1;33m:\u001b[0m\u001b[1;33m\u001b[0m\u001b[1;33m\u001b[0m\u001b[0m\n\u001b[1;32m--> 424\u001b[1;33m             \u001b[0mself\u001b[0m\u001b[1;33m.\u001b[0m\u001b[0merror_handler\u001b[0m\u001b[1;33m.\u001b[0m\u001b[0mcheck_response\u001b[0m\u001b[1;33m(\u001b[0m\u001b[0mresponse\u001b[0m\u001b[1;33m)\u001b[0m\u001b[1;33m\u001b[0m\u001b[1;33m\u001b[0m\u001b[0m\n\u001b[0m\u001b[0;32m    425\u001b[0m             response['value'] = self._unwrap_value(\n\u001b[0;32m    426\u001b[0m                 response.get('value', None))\n",
      "\u001b[1;32m~\\anaconda3\\lib\\site-packages\\selenium\\webdriver\\remote\\errorhandler.py\u001b[0m in \u001b[0;36mcheck_response\u001b[1;34m(self, response)\u001b[0m\n\u001b[0;32m    245\u001b[0m                 \u001b[0malert_text\u001b[0m \u001b[1;33m=\u001b[0m \u001b[0mvalue\u001b[0m\u001b[1;33m[\u001b[0m\u001b[1;34m'alert'\u001b[0m\u001b[1;33m]\u001b[0m\u001b[1;33m.\u001b[0m\u001b[0mget\u001b[0m\u001b[1;33m(\u001b[0m\u001b[1;34m'text'\u001b[0m\u001b[1;33m)\u001b[0m\u001b[1;33m\u001b[0m\u001b[1;33m\u001b[0m\u001b[0m\n\u001b[0;32m    246\u001b[0m             \u001b[1;32mraise\u001b[0m \u001b[0mexception_class\u001b[0m\u001b[1;33m(\u001b[0m\u001b[0mmessage\u001b[0m\u001b[1;33m,\u001b[0m \u001b[0mscreen\u001b[0m\u001b[1;33m,\u001b[0m \u001b[0mstacktrace\u001b[0m\u001b[1;33m,\u001b[0m \u001b[0malert_text\u001b[0m\u001b[1;33m)\u001b[0m  \u001b[1;31m# type: ignore[call-arg]  # mypy is not smart enough here\u001b[0m\u001b[1;33m\u001b[0m\u001b[1;33m\u001b[0m\u001b[0m\n\u001b[1;32m--> 247\u001b[1;33m         \u001b[1;32mraise\u001b[0m \u001b[0mexception_class\u001b[0m\u001b[1;33m(\u001b[0m\u001b[0mmessage\u001b[0m\u001b[1;33m,\u001b[0m \u001b[0mscreen\u001b[0m\u001b[1;33m,\u001b[0m \u001b[0mstacktrace\u001b[0m\u001b[1;33m)\u001b[0m\u001b[1;33m\u001b[0m\u001b[1;33m\u001b[0m\u001b[0m\n\u001b[0m\u001b[0;32m    248\u001b[0m \u001b[1;33m\u001b[0m\u001b[0m\n\u001b[0;32m    249\u001b[0m     \u001b[1;32mdef\u001b[0m \u001b[0m_value_or_default\u001b[0m\u001b[1;33m(\u001b[0m\u001b[0mself\u001b[0m\u001b[1;33m,\u001b[0m \u001b[0mobj\u001b[0m\u001b[1;33m:\u001b[0m \u001b[0mMapping\u001b[0m\u001b[1;33m[\u001b[0m\u001b[0m_KT\u001b[0m\u001b[1;33m,\u001b[0m \u001b[0m_VT\u001b[0m\u001b[1;33m]\u001b[0m\u001b[1;33m,\u001b[0m \u001b[0mkey\u001b[0m\u001b[1;33m:\u001b[0m \u001b[0m_KT\u001b[0m\u001b[1;33m,\u001b[0m \u001b[0mdefault\u001b[0m\u001b[1;33m:\u001b[0m \u001b[0m_VT\u001b[0m\u001b[1;33m)\u001b[0m \u001b[1;33m->\u001b[0m \u001b[0m_VT\u001b[0m\u001b[1;33m:\u001b[0m\u001b[1;33m\u001b[0m\u001b[1;33m\u001b[0m\u001b[0m\n",
      "\u001b[1;31mElementClickInterceptedException\u001b[0m: Message: element click intercepted: Element <a class=\"_1LKTO3\" href=\"/apple-watch-series-3-gps-mtf02hn-a-38-mm-space-grey-aluminium-case-black-sport-band/product-reviews/itmc50d68ba8ca0c?pid=SMWF94AYYE5HXTGY&amp;lid=LSTSMWF94AYYE5HXTGYF8W2C3&amp;marketplace=FLIPKART&amp;page=87\">...</a> is not clickable at point (1104, 634). Other element would receive the click: <div class=\"_2uz0vJ\">...</div>\n  (Session info: chrome=96.0.4664.110)\nStacktrace:\nBacktrace:\n\tOrdinal0 [0x00E46903+2517251]\n\tOrdinal0 [0x00DDF8E1+2095329]\n\tOrdinal0 [0x00CE2848+1058888]\n\tOrdinal0 [0x00D13509+1258761]\n\tOrdinal0 [0x00D11868+1251432]\n\tOrdinal0 [0x00D0F65D+1242717]\n\tOrdinal0 [0x00D0E4A8+1238184]\n\tOrdinal0 [0x00D04037+1196087]\n\tOrdinal0 [0x00D264D3+1336531]\n\tOrdinal0 [0x00D03A36+1194550]\n\tOrdinal0 [0x00D265BA+1336762]\n\tOrdinal0 [0x00D35BBF+1399743]\n\tOrdinal0 [0x00D2639B+1336219]\n\tOrdinal0 [0x00D027A7+1189799]\n\tOrdinal0 [0x00D03609+1193481]\n\tGetHandleVerifier [0x00FD5904+1577972]\n\tGetHandleVerifier [0x01080B97+2279047]\n\tGetHandleVerifier [0x00ED6D09+534521]\n\tGetHandleVerifier [0x00ED5DB9+530601]\n\tOrdinal0 [0x00DE4FF9+2117625]\n\tOrdinal0 [0x00DE98A8+2136232]\n\tOrdinal0 [0x00DE99E2+2136546]\n\tOrdinal0 [0x00DF3541+2176321]\n\tBaseThreadInitThunk [0x76CAFA29+25]\n\tRtlGetAppContainerNamedObjectPath [0x778B7A9E+286]\n\tRtlGetAppContainerNamedObjectPath [0x778B7A6E+238]\n"
     ]
    }
   ],
   "source": [
    "for i in range(1,50):\n",
    "    \n",
    "    rating=driver.find_elements_by_xpath('//div[@class=\"_3LWZlK _1BLPMq\" or @class=\"_3LWZlK _1rdVr6 _1BLPMq\" or @class=\"_3LWZlK _32lA32 _1BLPMq\"]')\n",
    "    for i in rating:\n",
    "        Ratingsw.append(i.text.replace(\"\\n\",\"\"))\n",
    "    \n",
    "        \n",
    "        \n",
    "    review=driver.find_elements_by_xpath('//div[@class=\"t-ZTKy\"]')\n",
    "    for i in review:\n",
    "            Reviewsw.append(i.text.replace(\"\\n\",\"\"))\n",
    "    \n",
    "    \n",
    "    \n",
    "    nxt_button=driver.find_element_by_xpath('//a[@class=\"_1LKTO3\"][2]')\n",
    "    nxt_button.click()\n",
    "    \n",
    "    time.sleep(1)"
   ]
  },
  {
   "cell_type": "code",
   "execution_count": 394,
   "id": "f2547eed",
   "metadata": {},
   "outputs": [
    {
     "name": "stdout",
     "output_type": "stream",
     "text": [
      "2433\n",
      "2433\n"
     ]
    }
   ],
   "source": [
    "print(len(Reviewsw))\n",
    "print(len(Ratingsw))"
   ]
  },
  {
   "cell_type": "code",
   "execution_count": 395,
   "id": "c3257889",
   "metadata": {},
   "outputs": [
    {
     "data": {
      "text/html": [
       "<div>\n",
       "<style scoped>\n",
       "    .dataframe tbody tr th:only-of-type {\n",
       "        vertical-align: middle;\n",
       "    }\n",
       "\n",
       "    .dataframe tbody tr th {\n",
       "        vertical-align: top;\n",
       "    }\n",
       "\n",
       "    .dataframe thead th {\n",
       "        text-align: right;\n",
       "    }\n",
       "</style>\n",
       "<table border=\"1\" class=\"dataframe\">\n",
       "  <thead>\n",
       "    <tr style=\"text-align: right;\">\n",
       "      <th></th>\n",
       "      <th>Reviewsw</th>\n",
       "      <th>Ratingsw</th>\n",
       "    </tr>\n",
       "  </thead>\n",
       "  <tbody>\n",
       "    <tr>\n",
       "      <th>0</th>\n",
       "      <td>Very nice product this watch is amazing I'm ve...</td>\n",
       "      <td>5</td>\n",
       "    </tr>\n",
       "    <tr>\n",
       "      <th>1</th>\n",
       "      <td>It was a Xmas gift for my fiance. And she love...</td>\n",
       "      <td>4</td>\n",
       "    </tr>\n",
       "    <tr>\n",
       "      <th>2</th>\n",
       "      <td>Delivery was super fast(Ordered yesterday got ...</td>\n",
       "      <td>4</td>\n",
       "    </tr>\n",
       "    <tr>\n",
       "      <th>3</th>\n",
       "      <td>Go for it.I don't believe in any reviews until...</td>\n",
       "      <td>4</td>\n",
       "    </tr>\n",
       "    <tr>\n",
       "      <th>4</th>\n",
       "      <td>Looks niceBattery backup is good (8-9 days aft...</td>\n",
       "      <td>4</td>\n",
       "    </tr>\n",
       "    <tr>\n",
       "      <th>...</th>\n",
       "      <td>...</td>\n",
       "      <td>...</td>\n",
       "    </tr>\n",
       "    <tr>\n",
       "      <th>2428</th>\n",
       "      <td>Good Product Happy</td>\n",
       "      <td>5</td>\n",
       "    </tr>\n",
       "    <tr>\n",
       "      <th>2429</th>\n",
       "      <td>Good</td>\n",
       "      <td>5</td>\n",
       "    </tr>\n",
       "    <tr>\n",
       "      <th>2430</th>\n",
       "      <td>It's good design 👍 Valueable product &amp; money 🤑💰</td>\n",
       "      <td>5</td>\n",
       "    </tr>\n",
       "    <tr>\n",
       "      <th>2431</th>\n",
       "      <td>Sooo good product watch 3 series is sooo beaut...</td>\n",
       "      <td>5</td>\n",
       "    </tr>\n",
       "    <tr>\n",
       "      <th>2432</th>\n",
       "      <td>More valuable</td>\n",
       "      <td>4</td>\n",
       "    </tr>\n",
       "  </tbody>\n",
       "</table>\n",
       "<p>2433 rows × 2 columns</p>\n",
       "</div>"
      ],
      "text/plain": [
       "                                               Reviewsw Ratingsw\n",
       "0     Very nice product this watch is amazing I'm ve...        5\n",
       "1     It was a Xmas gift for my fiance. And she love...        4\n",
       "2     Delivery was super fast(Ordered yesterday got ...        4\n",
       "3     Go for it.I don't believe in any reviews until...        4\n",
       "4     Looks niceBattery backup is good (8-9 days aft...        4\n",
       "...                                                 ...      ...\n",
       "2428                                 Good Product Happy        5\n",
       "2429                                               Good        5\n",
       "2430    It's good design 👍 Valueable product & money 🤑💰        5\n",
       "2431  Sooo good product watch 3 series is sooo beaut...        5\n",
       "2432                                      More valuable        4\n",
       "\n",
       "[2433 rows x 2 columns]"
      ]
     },
     "execution_count": 395,
     "metadata": {},
     "output_type": "execute_result"
    }
   ],
   "source": [
    "import pandas as pd\n",
    "dfsw=pd.DataFrame({})\n",
    "dfsw['Reviewsw']=Reviewsw\n",
    "dfsw['Ratingsw']=Ratingsw\n",
    "dfsw"
   ]
  },
  {
   "cell_type": "code",
   "execution_count": 396,
   "id": "b8179ed4",
   "metadata": {},
   "outputs": [
    {
     "name": "stdout",
     "output_type": "stream",
     "text": [
      "dfsw is written to Excel File successfully.\n"
     ]
    }
   ],
   "source": [
    "# writing to Excel\n",
    "datatoexcel40 = pd.ExcelWriter('dfsw.xlsx')\n",
    "# write DataFrame to excel\n",
    "dfsw.to_excel(datatoexcel40)\n",
    "# save the excel\n",
    "datatoexcel40.save()\n",
    "print('dfsw is written to Excel File successfully.')"
   ]
  },
  {
   "cell_type": "markdown",
   "id": "57e25368",
   "metadata": {},
   "source": [
    "# Professional Cameras"
   ]
  },
  {
   "cell_type": "code",
   "execution_count": 463,
   "id": "6dab8b5a",
   "metadata": {},
   "outputs": [],
   "source": [
    "from selenium import webdriver\n",
    "driver=webdriver.Chrome(\"chromedriver.exe\")"
   ]
  },
  {
   "cell_type": "code",
   "execution_count": 475,
   "id": "82359593",
   "metadata": {},
   "outputs": [],
   "source": [
    "url='https://www.flipkart.com/canon-eos-1500d-dslr-camera-body-18-55-mm-ii-lens/product-reviews/itm033175ceb4ddd?pid=DLLFAEWE22ZAERXG&lid=LSTDLLFAEWE22ZAERXGWBJCOR&marketplace=FLIPKART&page=2'\n",
    "driver.get(url)"
   ]
  },
  {
   "cell_type": "code",
   "execution_count": 476,
   "id": "5ef3dbde",
   "metadata": {},
   "outputs": [],
   "source": [
    "Reviewsc=[]\n",
    "Ratingsc=[]"
   ]
  },
  {
   "cell_type": "code",
   "execution_count": 480,
   "id": "d1ff09af",
   "metadata": {},
   "outputs": [],
   "source": [
    "for i in range(1,50):\n",
    "    \n",
    "    rating=driver.find_elements_by_xpath('//div[@class=\"_3LWZlK _1BLPMq\" or @class=\"_3LWZlK _1rdVr6 _1BLPMq\" or @class=\"_3LWZlK _32lA32 _1BLPMq\"]')\n",
    "    for i in rating:\n",
    "        Ratingsc.append(i.text.replace(\"\\n\",\"\"))\n",
    "    \n",
    "        \n",
    "        \n",
    "    review=driver.find_elements_by_xpath('//div[@class=\"t-ZTKy\"]')\n",
    "    for i in review:\n",
    "            Reviewsc.append(i.text.replace(\"\\n\",\"\"))\n",
    "    \n",
    "    \n",
    "    \n",
    "    nxt_button=driver.find_element_by_xpath('//a[@class=\"_1LKTO3\"][2]')\n",
    "    nxt_button.click()\n",
    "    \n",
    "    time.sleep(1)"
   ]
  },
  {
   "cell_type": "code",
   "execution_count": 481,
   "id": "3baee78d",
   "metadata": {},
   "outputs": [
    {
     "name": "stdout",
     "output_type": "stream",
     "text": [
      "969\n",
      "969\n"
     ]
    }
   ],
   "source": [
    "print(len(Reviewsc))\n",
    "print(len(Ratingsc))"
   ]
  },
  {
   "cell_type": "code",
   "execution_count": 482,
   "id": "50384031",
   "metadata": {},
   "outputs": [
    {
     "data": {
      "text/html": [
       "<div>\n",
       "<style scoped>\n",
       "    .dataframe tbody tr th:only-of-type {\n",
       "        vertical-align: middle;\n",
       "    }\n",
       "\n",
       "    .dataframe tbody tr th {\n",
       "        vertical-align: top;\n",
       "    }\n",
       "\n",
       "    .dataframe thead th {\n",
       "        text-align: right;\n",
       "    }\n",
       "</style>\n",
       "<table border=\"1\" class=\"dataframe\">\n",
       "  <thead>\n",
       "    <tr style=\"text-align: right;\">\n",
       "      <th></th>\n",
       "      <th>Reviewsc</th>\n",
       "      <th>Ratingsc</th>\n",
       "    </tr>\n",
       "  </thead>\n",
       "  <tbody>\n",
       "    <tr>\n",
       "      <th>0</th>\n",
       "      <td>one of the best bigginers cam...very handy and...</td>\n",
       "      <td>5</td>\n",
       "    </tr>\n",
       "    <tr>\n",
       "      <th>1</th>\n",
       "      <td>Loved the Product... But the only thing I does...</td>\n",
       "      <td>5</td>\n",
       "    </tr>\n",
       "    <tr>\n",
       "      <th>2</th>\n",
       "      <td>Super cameravery nice quality photosI loved it...</td>\n",
       "      <td>5</td>\n",
       "    </tr>\n",
       "    <tr>\n",
       "      <th>3</th>\n",
       "      <td>Believe me it's just wooowww. As a beginner ea...</td>\n",
       "      <td>5</td>\n",
       "    </tr>\n",
       "    <tr>\n",
       "      <th>4</th>\n",
       "      <td>Its the best DSLR for beginners at such a low ...</td>\n",
       "      <td>5</td>\n",
       "    </tr>\n",
       "    <tr>\n",
       "      <th>...</th>\n",
       "      <td>...</td>\n",
       "      <td>...</td>\n",
       "    </tr>\n",
       "    <tr>\n",
       "      <th>964</th>\n",
       "      <td>Nyc camera</td>\n",
       "      <td>5</td>\n",
       "    </tr>\n",
       "    <tr>\n",
       "      <th>965</th>\n",
       "      <td>Excellent delivery of package. Well in time. S...</td>\n",
       "      <td>5</td>\n",
       "    </tr>\n",
       "    <tr>\n",
       "      <th>966</th>\n",
       "      <td>Good</td>\n",
       "      <td>5</td>\n",
       "    </tr>\n",
       "    <tr>\n",
       "      <th>967</th>\n",
       "      <td>Nice cam for beginners</td>\n",
       "      <td>5</td>\n",
       "    </tr>\n",
       "    <tr>\n",
       "      <th>968</th>\n",
       "      <td>Good one</td>\n",
       "      <td>5</td>\n",
       "    </tr>\n",
       "  </tbody>\n",
       "</table>\n",
       "<p>969 rows × 2 columns</p>\n",
       "</div>"
      ],
      "text/plain": [
       "                                              Reviewsc Ratingsc\n",
       "0    one of the best bigginers cam...very handy and...        5\n",
       "1    Loved the Product... But the only thing I does...        5\n",
       "2    Super cameravery nice quality photosI loved it...        5\n",
       "3    Believe me it's just wooowww. As a beginner ea...        5\n",
       "4    Its the best DSLR for beginners at such a low ...        5\n",
       "..                                                 ...      ...\n",
       "964                                         Nyc camera        5\n",
       "965  Excellent delivery of package. Well in time. S...        5\n",
       "966                                               Good        5\n",
       "967                             Nice cam for beginners        5\n",
       "968                                           Good one        5\n",
       "\n",
       "[969 rows x 2 columns]"
      ]
     },
     "execution_count": 482,
     "metadata": {},
     "output_type": "execute_result"
    }
   ],
   "source": [
    "import pandas as pd\n",
    "dfc2=pd.DataFrame({})\n",
    "dfc2['Reviewsc']=Reviewsc\n",
    "dfc2['Ratingsc']=Ratingsc\n",
    "dfc2"
   ]
  },
  {
   "cell_type": "code",
   "execution_count": 483,
   "id": "af6dc741",
   "metadata": {},
   "outputs": [
    {
     "name": "stdout",
     "output_type": "stream",
     "text": [
      "dfc2 is written to Excel File successfully.\n"
     ]
    }
   ],
   "source": [
    "# writing to Excel\n",
    "datatoexcel50 = pd.ExcelWriter('dfc2.xlsx')\n",
    "# write DataFrame to excel\n",
    "dfc2.to_excel(datatoexcel50)\n",
    "# save the excel\n",
    "datatoexcel50.save()\n",
    "print('dfc2 is written to Excel File successfully.')"
   ]
  },
  {
   "cell_type": "markdown",
   "id": "eff85007",
   "metadata": {},
   "source": [
    "# Printers"
   ]
  },
  {
   "cell_type": "code",
   "execution_count": 425,
   "id": "4669dda9",
   "metadata": {},
   "outputs": [],
   "source": [
    "from selenium import webdriver\n",
    "driver=webdriver.Chrome(\"chromedriver.exe\")"
   ]
  },
  {
   "cell_type": "code",
   "execution_count": 426,
   "id": "c140154c",
   "metadata": {},
   "outputs": [],
   "source": [
    "url='https://www.flipkart.com/epson-l3151-multi-function-wifi-color-printer-color-page-cost-18-paise-black-7-borderless-printing/product-reviews/itmfgufgmaxmhbww?pid=PRNFGUFGHEZEFGGD&lid=LSTPRNFGUFGHEZEFGGDVYAH5G&marketplace=FLIPKART&page=2'\n",
    "driver.get(url)"
   ]
  },
  {
   "cell_type": "code",
   "execution_count": 427,
   "id": "5bf4d7d7",
   "metadata": {},
   "outputs": [],
   "source": [
    "Reviewsp=[]\n",
    "Ratingsp=[]"
   ]
  },
  {
   "cell_type": "code",
   "execution_count": 432,
   "id": "f36fb6f9",
   "metadata": {},
   "outputs": [
    {
     "ename": "KeyboardInterrupt",
     "evalue": "",
     "output_type": "error",
     "traceback": [
      "\u001b[1;31m---------------------------------------------------------------------------\u001b[0m",
      "\u001b[1;31mKeyboardInterrupt\u001b[0m                         Traceback (most recent call last)",
      "\u001b[1;32m~\\AppData\\Local\\Temp/ipykernel_14424/2737833203.py\u001b[0m in \u001b[0;36m<module>\u001b[1;34m\u001b[0m\n\u001b[0;32m     16\u001b[0m     \u001b[0mnxt_button\u001b[0m\u001b[1;33m.\u001b[0m\u001b[0mclick\u001b[0m\u001b[1;33m(\u001b[0m\u001b[1;33m)\u001b[0m\u001b[1;33m\u001b[0m\u001b[1;33m\u001b[0m\u001b[0m\n\u001b[0;32m     17\u001b[0m \u001b[1;33m\u001b[0m\u001b[0m\n\u001b[1;32m---> 18\u001b[1;33m     \u001b[0mtime\u001b[0m\u001b[1;33m.\u001b[0m\u001b[0msleep\u001b[0m\u001b[1;33m(\u001b[0m\u001b[1;36m2\u001b[0m\u001b[1;33m)\u001b[0m\u001b[1;33m\u001b[0m\u001b[1;33m\u001b[0m\u001b[0m\n\u001b[0m",
      "\u001b[1;31mKeyboardInterrupt\u001b[0m: "
     ]
    }
   ],
   "source": [
    "for i in range(1,170):\n",
    "    \n",
    "    rating=driver.find_elements_by_xpath('//div[@class=\"_3LWZlK _1BLPMq\" or @class=\"_3LWZlK _1rdVr6 _1BLPMq\" or @class=\"_3LWZlK _32lA32 _1BLPMq\"]')\n",
    "    for i in rating:\n",
    "        Ratingsp.append(i.text.replace(\"\\n\",\"\"))\n",
    "    \n",
    "        \n",
    "        \n",
    "    review=driver.find_elements_by_xpath('//div[@class=\"t-ZTKy\"]')\n",
    "    for i in review:\n",
    "            Reviewsp.append(i.text.replace(\"\\n\",\"\"))\n",
    "    \n",
    "    \n",
    "    \n",
    "    nxt_button=driver.find_element_by_xpath('//a[@class=\"_1LKTO3\"][2]')\n",
    "    nxt_button.click()\n",
    "    \n",
    "    time.sleep(2)"
   ]
  },
  {
   "cell_type": "code",
   "execution_count": 431,
   "id": "9016945c",
   "metadata": {},
   "outputs": [
    {
     "name": "stdout",
     "output_type": "stream",
     "text": [
      "2190\n",
      "2190\n"
     ]
    }
   ],
   "source": [
    "print(len(Reviewsp))\n",
    "print(len(Ratingsp))"
   ]
  },
  {
   "cell_type": "code",
   "execution_count": null,
   "id": "06d0ad2c",
   "metadata": {},
   "outputs": [],
   "source": []
  },
  {
   "cell_type": "code",
   "execution_count": 433,
   "id": "9e73de34",
   "metadata": {},
   "outputs": [
    {
     "data": {
      "text/html": [
       "<div>\n",
       "<style scoped>\n",
       "    .dataframe tbody tr th:only-of-type {\n",
       "        vertical-align: middle;\n",
       "    }\n",
       "\n",
       "    .dataframe tbody tr th {\n",
       "        vertical-align: top;\n",
       "    }\n",
       "\n",
       "    .dataframe thead th {\n",
       "        text-align: right;\n",
       "    }\n",
       "</style>\n",
       "<table border=\"1\" class=\"dataframe\">\n",
       "  <thead>\n",
       "    <tr style=\"text-align: right;\">\n",
       "      <th></th>\n",
       "      <th>Reviewsp</th>\n",
       "      <th>Ratingsp</th>\n",
       "    </tr>\n",
       "  </thead>\n",
       "  <tbody>\n",
       "    <tr>\n",
       "      <th>2210</th>\n",
       "      <td>quality product from Epson.</td>\n",
       "      <td>4</td>\n",
       "    </tr>\n",
       "    <tr>\n",
       "      <th>2211</th>\n",
       "      <td>working good ..</td>\n",
       "      <td>5</td>\n",
       "    </tr>\n",
       "    <tr>\n",
       "      <th>2212</th>\n",
       "      <td>Excellent product</td>\n",
       "      <td>5</td>\n",
       "    </tr>\n",
       "    <tr>\n",
       "      <th>2213</th>\n",
       "      <td>amazing</td>\n",
       "      <td>5</td>\n",
       "    </tr>\n",
       "    <tr>\n",
       "      <th>2214</th>\n",
       "      <td>it is very good it prints the paper very quickly</td>\n",
       "      <td>5</td>\n",
       "    </tr>\n",
       "    <tr>\n",
       "      <th>2215</th>\n",
       "      <td>toooo gud product</td>\n",
       "      <td>4</td>\n",
       "    </tr>\n",
       "    <tr>\n",
       "      <th>2216</th>\n",
       "      <td>working !</td>\n",
       "      <td>4</td>\n",
       "    </tr>\n",
       "    <tr>\n",
       "      <th>2217</th>\n",
       "      <td>Excellent</td>\n",
       "      <td>5</td>\n",
       "    </tr>\n",
       "    <tr>\n",
       "      <th>2218</th>\n",
       "      <td>it is not working</td>\n",
       "      <td>1</td>\n",
       "    </tr>\n",
       "    <tr>\n",
       "      <th>2219</th>\n",
       "      <td>good product</td>\n",
       "      <td>5</td>\n",
       "    </tr>\n",
       "    <tr>\n",
       "      <th>2220</th>\n",
       "      <td>quality product from Epson.</td>\n",
       "      <td>4</td>\n",
       "    </tr>\n",
       "    <tr>\n",
       "      <th>2221</th>\n",
       "      <td>working good ..</td>\n",
       "      <td>5</td>\n",
       "    </tr>\n",
       "    <tr>\n",
       "      <th>2222</th>\n",
       "      <td>Excellent product</td>\n",
       "      <td>5</td>\n",
       "    </tr>\n",
       "    <tr>\n",
       "      <th>2223</th>\n",
       "      <td>amazing</td>\n",
       "      <td>5</td>\n",
       "    </tr>\n",
       "    <tr>\n",
       "      <th>2224</th>\n",
       "      <td>it is very good it prints the paper very quickly</td>\n",
       "      <td>5</td>\n",
       "    </tr>\n",
       "    <tr>\n",
       "      <th>2225</th>\n",
       "      <td>toooo gud product</td>\n",
       "      <td>4</td>\n",
       "    </tr>\n",
       "    <tr>\n",
       "      <th>2226</th>\n",
       "      <td>working !</td>\n",
       "      <td>4</td>\n",
       "    </tr>\n",
       "    <tr>\n",
       "      <th>2227</th>\n",
       "      <td>Excellent</td>\n",
       "      <td>5</td>\n",
       "    </tr>\n",
       "    <tr>\n",
       "      <th>2228</th>\n",
       "      <td>it is not working</td>\n",
       "      <td>1</td>\n",
       "    </tr>\n",
       "    <tr>\n",
       "      <th>2229</th>\n",
       "      <td>good product</td>\n",
       "      <td>5</td>\n",
       "    </tr>\n",
       "  </tbody>\n",
       "</table>\n",
       "</div>"
      ],
      "text/plain": [
       "                                              Reviewsp Ratingsp\n",
       "2210                       quality product from Epson.        4\n",
       "2211                                   working good ..        5\n",
       "2212                                 Excellent product        5\n",
       "2213                                           amazing        5\n",
       "2214  it is very good it prints the paper very quickly        5\n",
       "2215                                 toooo gud product        4\n",
       "2216                                         working !        4\n",
       "2217                                         Excellent        5\n",
       "2218                                 it is not working        1\n",
       "2219                                      good product        5\n",
       "2220                       quality product from Epson.        4\n",
       "2221                                   working good ..        5\n",
       "2222                                 Excellent product        5\n",
       "2223                                           amazing        5\n",
       "2224  it is very good it prints the paper very quickly        5\n",
       "2225                                 toooo gud product        4\n",
       "2226                                         working !        4\n",
       "2227                                         Excellent        5\n",
       "2228                                 it is not working        1\n",
       "2229                                      good product        5"
      ]
     },
     "execution_count": 433,
     "metadata": {},
     "output_type": "execute_result"
    }
   ],
   "source": [
    "import pandas as pd\n",
    "dfp=pd.DataFrame({})\n",
    "dfp['Reviewsp']=Reviewsp\n",
    "dfp['Ratingsp']=Ratingsp\n",
    "dfp.tail(20)"
   ]
  },
  {
   "cell_type": "code",
   "execution_count": 434,
   "id": "530930da",
   "metadata": {},
   "outputs": [
    {
     "name": "stdout",
     "output_type": "stream",
     "text": [
      "dfp is written to Excel File successfully.\n"
     ]
    }
   ],
   "source": [
    "# writing to Excel\n",
    "datatoexcel40 = pd.ExcelWriter('dfp.xlsx')\n",
    "# write DataFrame to excel\n",
    "dfp.to_excel(datatoexcel40)\n",
    "# save the excel\n",
    "datatoexcel40.save()\n",
    "print('dfp is written to Excel File successfully.')"
   ]
  },
  {
   "cell_type": "code",
   "execution_count": null,
   "id": "ed0adfc3",
   "metadata": {},
   "outputs": [],
   "source": []
  },
  {
   "cell_type": "markdown",
   "id": "cd068d51",
   "metadata": {},
   "source": [
    "# Monitors"
   ]
  },
  {
   "cell_type": "code",
   "execution_count": 435,
   "id": "1e908a13",
   "metadata": {},
   "outputs": [],
   "source": [
    "from selenium import webdriver\n",
    "driver=webdriver.Chrome(\"chromedriver.exe\")"
   ]
  },
  {
   "cell_type": "code",
   "execution_count": 455,
   "id": "642fdf9c",
   "metadata": {},
   "outputs": [],
   "source": [
    "url='https://www.flipkart.com/dell-24-inch-full-hd-ips-panel-monitor-s2421hn/product-reviews/itm5cbe77f77137a?pid=MONGYDFQTN8ZTEHG&lid=LSTMONGYDFQTN8ZTEHGTIQE5I&marketplace=FLIPKART&page=2'\n",
    "driver.get(url)"
   ]
  },
  {
   "cell_type": "code",
   "execution_count": 444,
   "id": "bc3fd8e6",
   "metadata": {},
   "outputs": [],
   "source": [
    "Reviewsm=[]\n",
    "Ratingsm=[]"
   ]
  },
  {
   "cell_type": "code",
   "execution_count": 459,
   "id": "4cebad14",
   "metadata": {},
   "outputs": [
    {
     "ename": "NoSuchElementException",
     "evalue": "Message: no such element: Unable to locate element: {\"method\":\"xpath\",\"selector\":\"//a[@class=\"_1LKTO3\"][2]\"}\n  (Session info: chrome=96.0.4664.110)\nStacktrace:\nBacktrace:\n\tOrdinal0 [0x00E46903+2517251]\n\tOrdinal0 [0x00DDF8E1+2095329]\n\tOrdinal0 [0x00CE2848+1058888]\n\tOrdinal0 [0x00D0D448+1233992]\n\tOrdinal0 [0x00D0D63B+1234491]\n\tOrdinal0 [0x00D37812+1406994]\n\tOrdinal0 [0x00D2650A+1336586]\n\tOrdinal0 [0x00D35BBF+1399743]\n\tOrdinal0 [0x00D2639B+1336219]\n\tOrdinal0 [0x00D027A7+1189799]\n\tOrdinal0 [0x00D03609+1193481]\n\tGetHandleVerifier [0x00FD5904+1577972]\n\tGetHandleVerifier [0x01080B97+2279047]\n\tGetHandleVerifier [0x00ED6D09+534521]\n\tGetHandleVerifier [0x00ED5DB9+530601]\n\tOrdinal0 [0x00DE4FF9+2117625]\n\tOrdinal0 [0x00DE98A8+2136232]\n\tOrdinal0 [0x00DE99E2+2136546]\n\tOrdinal0 [0x00DF3541+2176321]\n\tBaseThreadInitThunk [0x76CAFA29+25]\n\tRtlGetAppContainerNamedObjectPath [0x778B7A9E+286]\n\tRtlGetAppContainerNamedObjectPath [0x778B7A6E+238]\n",
     "output_type": "error",
     "traceback": [
      "\u001b[1;31m---------------------------------------------------------------------------\u001b[0m",
      "\u001b[1;31mNoSuchElementException\u001b[0m                    Traceback (most recent call last)",
      "\u001b[1;32m~\\AppData\\Local\\Temp/ipykernel_14424/3141051587.py\u001b[0m in \u001b[0;36m<module>\u001b[1;34m\u001b[0m\n\u001b[0;32m     13\u001b[0m \u001b[1;33m\u001b[0m\u001b[0m\n\u001b[0;32m     14\u001b[0m \u001b[1;33m\u001b[0m\u001b[0m\n\u001b[1;32m---> 15\u001b[1;33m     \u001b[0mnxt_button\u001b[0m\u001b[1;33m=\u001b[0m\u001b[0mdriver\u001b[0m\u001b[1;33m.\u001b[0m\u001b[0mfind_element_by_xpath\u001b[0m\u001b[1;33m(\u001b[0m\u001b[1;34m'//a[@class=\"_1LKTO3\"][2]'\u001b[0m\u001b[1;33m)\u001b[0m\u001b[1;33m\u001b[0m\u001b[1;33m\u001b[0m\u001b[0m\n\u001b[0m\u001b[0;32m     16\u001b[0m     \u001b[0mnxt_button\u001b[0m\u001b[1;33m.\u001b[0m\u001b[0mclick\u001b[0m\u001b[1;33m(\u001b[0m\u001b[1;33m)\u001b[0m\u001b[1;33m\u001b[0m\u001b[1;33m\u001b[0m\u001b[0m\n\u001b[0;32m     17\u001b[0m \u001b[1;33m\u001b[0m\u001b[0m\n",
      "\u001b[1;32m~\\anaconda3\\lib\\site-packages\\selenium\\webdriver\\remote\\webdriver.py\u001b[0m in \u001b[0;36mfind_element_by_xpath\u001b[1;34m(self, xpath)\u001b[0m\n\u001b[0;32m    518\u001b[0m             \u001b[0mstacklevel\u001b[0m\u001b[1;33m=\u001b[0m\u001b[1;36m2\u001b[0m\u001b[1;33m,\u001b[0m\u001b[1;33m\u001b[0m\u001b[1;33m\u001b[0m\u001b[0m\n\u001b[0;32m    519\u001b[0m         )\n\u001b[1;32m--> 520\u001b[1;33m         \u001b[1;32mreturn\u001b[0m \u001b[0mself\u001b[0m\u001b[1;33m.\u001b[0m\u001b[0mfind_element\u001b[0m\u001b[1;33m(\u001b[0m\u001b[0mby\u001b[0m\u001b[1;33m=\u001b[0m\u001b[0mBy\u001b[0m\u001b[1;33m.\u001b[0m\u001b[0mXPATH\u001b[0m\u001b[1;33m,\u001b[0m \u001b[0mvalue\u001b[0m\u001b[1;33m=\u001b[0m\u001b[0mxpath\u001b[0m\u001b[1;33m)\u001b[0m\u001b[1;33m\u001b[0m\u001b[1;33m\u001b[0m\u001b[0m\n\u001b[0m\u001b[0;32m    521\u001b[0m \u001b[1;33m\u001b[0m\u001b[0m\n\u001b[0;32m    522\u001b[0m     \u001b[1;32mdef\u001b[0m \u001b[0mfind_elements_by_xpath\u001b[0m\u001b[1;33m(\u001b[0m\u001b[0mself\u001b[0m\u001b[1;33m,\u001b[0m \u001b[0mxpath\u001b[0m\u001b[1;33m)\u001b[0m \u001b[1;33m->\u001b[0m \u001b[0mWebElement\u001b[0m\u001b[1;33m:\u001b[0m\u001b[1;33m\u001b[0m\u001b[1;33m\u001b[0m\u001b[0m\n",
      "\u001b[1;32m~\\anaconda3\\lib\\site-packages\\selenium\\webdriver\\remote\\webdriver.py\u001b[0m in \u001b[0;36mfind_element\u001b[1;34m(self, by, value)\u001b[0m\n\u001b[0;32m   1242\u001b[0m             \u001b[0mvalue\u001b[0m \u001b[1;33m=\u001b[0m \u001b[1;34m'[name=\"%s\"]'\u001b[0m \u001b[1;33m%\u001b[0m \u001b[0mvalue\u001b[0m\u001b[1;33m\u001b[0m\u001b[1;33m\u001b[0m\u001b[0m\n\u001b[0;32m   1243\u001b[0m \u001b[1;33m\u001b[0m\u001b[0m\n\u001b[1;32m-> 1244\u001b[1;33m         return self.execute(Command.FIND_ELEMENT, {\n\u001b[0m\u001b[0;32m   1245\u001b[0m             \u001b[1;34m'using'\u001b[0m\u001b[1;33m:\u001b[0m \u001b[0mby\u001b[0m\u001b[1;33m,\u001b[0m\u001b[1;33m\u001b[0m\u001b[1;33m\u001b[0m\u001b[0m\n\u001b[0;32m   1246\u001b[0m             'value': value})['value']\n",
      "\u001b[1;32m~\\anaconda3\\lib\\site-packages\\selenium\\webdriver\\remote\\webdriver.py\u001b[0m in \u001b[0;36mexecute\u001b[1;34m(self, driver_command, params)\u001b[0m\n\u001b[0;32m    422\u001b[0m         \u001b[0mresponse\u001b[0m \u001b[1;33m=\u001b[0m \u001b[0mself\u001b[0m\u001b[1;33m.\u001b[0m\u001b[0mcommand_executor\u001b[0m\u001b[1;33m.\u001b[0m\u001b[0mexecute\u001b[0m\u001b[1;33m(\u001b[0m\u001b[0mdriver_command\u001b[0m\u001b[1;33m,\u001b[0m \u001b[0mparams\u001b[0m\u001b[1;33m)\u001b[0m\u001b[1;33m\u001b[0m\u001b[1;33m\u001b[0m\u001b[0m\n\u001b[0;32m    423\u001b[0m         \u001b[1;32mif\u001b[0m \u001b[0mresponse\u001b[0m\u001b[1;33m:\u001b[0m\u001b[1;33m\u001b[0m\u001b[1;33m\u001b[0m\u001b[0m\n\u001b[1;32m--> 424\u001b[1;33m             \u001b[0mself\u001b[0m\u001b[1;33m.\u001b[0m\u001b[0merror_handler\u001b[0m\u001b[1;33m.\u001b[0m\u001b[0mcheck_response\u001b[0m\u001b[1;33m(\u001b[0m\u001b[0mresponse\u001b[0m\u001b[1;33m)\u001b[0m\u001b[1;33m\u001b[0m\u001b[1;33m\u001b[0m\u001b[0m\n\u001b[0m\u001b[0;32m    425\u001b[0m             response['value'] = self._unwrap_value(\n\u001b[0;32m    426\u001b[0m                 response.get('value', None))\n",
      "\u001b[1;32m~\\anaconda3\\lib\\site-packages\\selenium\\webdriver\\remote\\errorhandler.py\u001b[0m in \u001b[0;36mcheck_response\u001b[1;34m(self, response)\u001b[0m\n\u001b[0;32m    245\u001b[0m                 \u001b[0malert_text\u001b[0m \u001b[1;33m=\u001b[0m \u001b[0mvalue\u001b[0m\u001b[1;33m[\u001b[0m\u001b[1;34m'alert'\u001b[0m\u001b[1;33m]\u001b[0m\u001b[1;33m.\u001b[0m\u001b[0mget\u001b[0m\u001b[1;33m(\u001b[0m\u001b[1;34m'text'\u001b[0m\u001b[1;33m)\u001b[0m\u001b[1;33m\u001b[0m\u001b[1;33m\u001b[0m\u001b[0m\n\u001b[0;32m    246\u001b[0m             \u001b[1;32mraise\u001b[0m \u001b[0mexception_class\u001b[0m\u001b[1;33m(\u001b[0m\u001b[0mmessage\u001b[0m\u001b[1;33m,\u001b[0m \u001b[0mscreen\u001b[0m\u001b[1;33m,\u001b[0m \u001b[0mstacktrace\u001b[0m\u001b[1;33m,\u001b[0m \u001b[0malert_text\u001b[0m\u001b[1;33m)\u001b[0m  \u001b[1;31m# type: ignore[call-arg]  # mypy is not smart enough here\u001b[0m\u001b[1;33m\u001b[0m\u001b[1;33m\u001b[0m\u001b[0m\n\u001b[1;32m--> 247\u001b[1;33m         \u001b[1;32mraise\u001b[0m \u001b[0mexception_class\u001b[0m\u001b[1;33m(\u001b[0m\u001b[0mmessage\u001b[0m\u001b[1;33m,\u001b[0m \u001b[0mscreen\u001b[0m\u001b[1;33m,\u001b[0m \u001b[0mstacktrace\u001b[0m\u001b[1;33m)\u001b[0m\u001b[1;33m\u001b[0m\u001b[1;33m\u001b[0m\u001b[0m\n\u001b[0m\u001b[0;32m    248\u001b[0m \u001b[1;33m\u001b[0m\u001b[0m\n\u001b[0;32m    249\u001b[0m     \u001b[1;32mdef\u001b[0m \u001b[0m_value_or_default\u001b[0m\u001b[1;33m(\u001b[0m\u001b[0mself\u001b[0m\u001b[1;33m,\u001b[0m \u001b[0mobj\u001b[0m\u001b[1;33m:\u001b[0m \u001b[0mMapping\u001b[0m\u001b[1;33m[\u001b[0m\u001b[0m_KT\u001b[0m\u001b[1;33m,\u001b[0m \u001b[0m_VT\u001b[0m\u001b[1;33m]\u001b[0m\u001b[1;33m,\u001b[0m \u001b[0mkey\u001b[0m\u001b[1;33m:\u001b[0m \u001b[0m_KT\u001b[0m\u001b[1;33m,\u001b[0m \u001b[0mdefault\u001b[0m\u001b[1;33m:\u001b[0m \u001b[0m_VT\u001b[0m\u001b[1;33m)\u001b[0m \u001b[1;33m->\u001b[0m \u001b[0m_VT\u001b[0m\u001b[1;33m:\u001b[0m\u001b[1;33m\u001b[0m\u001b[1;33m\u001b[0m\u001b[0m\n",
      "\u001b[1;31mNoSuchElementException\u001b[0m: Message: no such element: Unable to locate element: {\"method\":\"xpath\",\"selector\":\"//a[@class=\"_1LKTO3\"][2]\"}\n  (Session info: chrome=96.0.4664.110)\nStacktrace:\nBacktrace:\n\tOrdinal0 [0x00E46903+2517251]\n\tOrdinal0 [0x00DDF8E1+2095329]\n\tOrdinal0 [0x00CE2848+1058888]\n\tOrdinal0 [0x00D0D448+1233992]\n\tOrdinal0 [0x00D0D63B+1234491]\n\tOrdinal0 [0x00D37812+1406994]\n\tOrdinal0 [0x00D2650A+1336586]\n\tOrdinal0 [0x00D35BBF+1399743]\n\tOrdinal0 [0x00D2639B+1336219]\n\tOrdinal0 [0x00D027A7+1189799]\n\tOrdinal0 [0x00D03609+1193481]\n\tGetHandleVerifier [0x00FD5904+1577972]\n\tGetHandleVerifier [0x01080B97+2279047]\n\tGetHandleVerifier [0x00ED6D09+534521]\n\tGetHandleVerifier [0x00ED5DB9+530601]\n\tOrdinal0 [0x00DE4FF9+2117625]\n\tOrdinal0 [0x00DE98A8+2136232]\n\tOrdinal0 [0x00DE99E2+2136546]\n\tOrdinal0 [0x00DF3541+2176321]\n\tBaseThreadInitThunk [0x76CAFA29+25]\n\tRtlGetAppContainerNamedObjectPath [0x778B7A9E+286]\n\tRtlGetAppContainerNamedObjectPath [0x778B7A6E+238]\n"
     ]
    }
   ],
   "source": [
    "for i in range(1,100):\n",
    "    \n",
    "    rating=driver.find_elements_by_xpath('//div[@class=\"_3LWZlK _1BLPMq\" or @class=\"_3LWZlK _1rdVr6 _1BLPMq\" or @class=\"_3LWZlK _32lA32 _1BLPMq\"]')\n",
    "    for i in rating:\n",
    "        Ratingsm.append(i.text.replace(\"\\n\",\"\"))\n",
    "    \n",
    "        \n",
    "        \n",
    "    review=driver.find_elements_by_xpath('//div[@class=\"t-ZTKy\"]')\n",
    "    for i in review:\n",
    "            Reviewsm.append(i.text.replace(\"\\n\",\"\"))\n",
    "    \n",
    "    \n",
    "    \n",
    "    nxt_button=driver.find_element_by_xpath('//a[@class=\"_1LKTO3\"][2]')\n",
    "    nxt_button.click()\n",
    "    \n",
    "    time.sleep(1)"
   ]
  },
  {
   "cell_type": "code",
   "execution_count": 460,
   "id": "ea5da96b",
   "metadata": {},
   "outputs": [
    {
     "name": "stdout",
     "output_type": "stream",
     "text": [
      "2227\n",
      "2227\n"
     ]
    }
   ],
   "source": [
    "print(len(Reviewsm))\n",
    "print(len(Ratingsm))"
   ]
  },
  {
   "cell_type": "code",
   "execution_count": 461,
   "id": "b6bf82af",
   "metadata": {},
   "outputs": [
    {
     "data": {
      "text/html": [
       "<div>\n",
       "<style scoped>\n",
       "    .dataframe tbody tr th:only-of-type {\n",
       "        vertical-align: middle;\n",
       "    }\n",
       "\n",
       "    .dataframe tbody tr th {\n",
       "        vertical-align: top;\n",
       "    }\n",
       "\n",
       "    .dataframe thead th {\n",
       "        text-align: right;\n",
       "    }\n",
       "</style>\n",
       "<table border=\"1\" class=\"dataframe\">\n",
       "  <thead>\n",
       "    <tr style=\"text-align: right;\">\n",
       "      <th></th>\n",
       "      <th>Reviewsm</th>\n",
       "      <th>Ratingsm</th>\n",
       "    </tr>\n",
       "  </thead>\n",
       "  <tbody>\n",
       "    <tr>\n",
       "      <th>0</th>\n",
       "      <td>The monitor works quite well. It has been a we...</td>\n",
       "      <td>5</td>\n",
       "    </tr>\n",
       "    <tr>\n",
       "      <th>1</th>\n",
       "      <td>Good product at 9k range. Received in just 2 d...</td>\n",
       "      <td>5</td>\n",
       "    </tr>\n",
       "    <tr>\n",
       "      <th>2</th>\n",
       "      <td>Very Good buy, got it for 10400. Has read mode...</td>\n",
       "      <td>4</td>\n",
       "    </tr>\n",
       "    <tr>\n",
       "      <th>3</th>\n",
       "      <td>I love this monitor finally i got my best one ...</td>\n",
       "      <td>5</td>\n",
       "    </tr>\n",
       "    <tr>\n",
       "      <th>4</th>\n",
       "      <td>It serves my daily needs as I am not a hardcor...</td>\n",
       "      <td>5</td>\n",
       "    </tr>\n",
       "    <tr>\n",
       "      <th>...</th>\n",
       "      <td>...</td>\n",
       "      <td>...</td>\n",
       "    </tr>\n",
       "    <tr>\n",
       "      <th>2222</th>\n",
       "      <td>Excellent Monitor, very happy with my purchase</td>\n",
       "      <td>5</td>\n",
       "    </tr>\n",
       "    <tr>\n",
       "      <th>2223</th>\n",
       "      <td>Good enough</td>\n",
       "      <td>5</td>\n",
       "    </tr>\n",
       "    <tr>\n",
       "      <th>2224</th>\n",
       "      <td>Excellent Product</td>\n",
       "      <td>5</td>\n",
       "    </tr>\n",
       "    <tr>\n",
       "      <th>2225</th>\n",
       "      <td>Very nice product, truly love it</td>\n",
       "      <td>5</td>\n",
       "    </tr>\n",
       "    <tr>\n",
       "      <th>2226</th>\n",
       "      <td>The display is wAwsome..if you r looking for a...</td>\n",
       "      <td>5</td>\n",
       "    </tr>\n",
       "  </tbody>\n",
       "</table>\n",
       "<p>2227 rows × 2 columns</p>\n",
       "</div>"
      ],
      "text/plain": [
       "                                               Reviewsm Ratingsm\n",
       "0     The monitor works quite well. It has been a we...        5\n",
       "1     Good product at 9k range. Received in just 2 d...        5\n",
       "2     Very Good buy, got it for 10400. Has read mode...        4\n",
       "3     I love this monitor finally i got my best one ...        5\n",
       "4     It serves my daily needs as I am not a hardcor...        5\n",
       "...                                                 ...      ...\n",
       "2222     Excellent Monitor, very happy with my purchase        5\n",
       "2223                                        Good enough        5\n",
       "2224                                  Excellent Product        5\n",
       "2225                   Very nice product, truly love it        5\n",
       "2226  The display is wAwsome..if you r looking for a...        5\n",
       "\n",
       "[2227 rows x 2 columns]"
      ]
     },
     "execution_count": 461,
     "metadata": {},
     "output_type": "execute_result"
    }
   ],
   "source": [
    "import pandas as pd\n",
    "dfm=pd.DataFrame({})\n",
    "dfm['Reviewsm']=Reviewsm\n",
    "dfm['Ratingsm']=Ratingsm\n",
    "dfm"
   ]
  },
  {
   "cell_type": "code",
   "execution_count": 462,
   "id": "cd1e4cbf",
   "metadata": {},
   "outputs": [
    {
     "name": "stdout",
     "output_type": "stream",
     "text": [
      "dfm is written to Excel File successfully.\n"
     ]
    }
   ],
   "source": [
    "# writing to Excel\n",
    "datatoexcel40 = pd.ExcelWriter('dfm.xlsx')\n",
    "# write DataFrame to excel\n",
    "dfm.to_excel(datatoexcel40)\n",
    "# save the excel\n",
    "datatoexcel40.save()\n",
    "print('dfm is written to Excel File successfully.')"
   ]
  },
  {
   "cell_type": "markdown",
   "id": "9283fa9b",
   "metadata": {},
   "source": [
    "# Home theater"
   ]
  },
  {
   "cell_type": "code",
   "execution_count": 484,
   "id": "92b8ee32",
   "metadata": {},
   "outputs": [],
   "source": [
    "from selenium import webdriver\n",
    "driver=webdriver.Chrome(\"chromedriver.exe\")"
   ]
  },
  {
   "cell_type": "code",
   "execution_count": 491,
   "id": "ac011213",
   "metadata": {},
   "outputs": [],
   "source": [
    "url='https://www.flipkart.com/sony-sa-d40-80-w-bluetooth-home-theatre/product-reviews/itmfy95dvfgcbnsd?pid=ACCFY95D3FRZTWH5&lid=LSTACCFY95D3FRZTWH5XCIMPG&marketplace=FLIPKART&page=2'\n",
    "driver.get(url)"
   ]
  },
  {
   "cell_type": "code",
   "execution_count": 492,
   "id": "4c4b488d",
   "metadata": {},
   "outputs": [],
   "source": [
    "Reviewsht=[]\n",
    "Ratingsht=[]"
   ]
  },
  {
   "cell_type": "code",
   "execution_count": 496,
   "id": "82ba7cc5",
   "metadata": {},
   "outputs": [
    {
     "ename": "ElementClickInterceptedException",
     "evalue": "Message: element click intercepted: Element <a class=\"_1LKTO3\" href=\"/sony-sa-d40-80-w-bluetooth-home-theatre/product-reviews/itmfy95dvfgcbnsd?pid=ACCFY95D3FRZTWH5&amp;lid=LSTACCFY95D3FRZTWH5XCIMPG&amp;marketplace=FLIPKART&amp;page=321\">...</a> is not clickable at point (1108, 634). Other element would receive the click: <p>...</p>\n  (Session info: chrome=96.0.4664.110)\nStacktrace:\nBacktrace:\n\tOrdinal0 [0x00E46903+2517251]\n\tOrdinal0 [0x00DDF8E1+2095329]\n\tOrdinal0 [0x00CE2848+1058888]\n\tOrdinal0 [0x00D13509+1258761]\n\tOrdinal0 [0x00D11868+1251432]\n\tOrdinal0 [0x00D0F65D+1242717]\n\tOrdinal0 [0x00D0E4A8+1238184]\n\tOrdinal0 [0x00D04037+1196087]\n\tOrdinal0 [0x00D264D3+1336531]\n\tOrdinal0 [0x00D03A36+1194550]\n\tOrdinal0 [0x00D265BA+1336762]\n\tOrdinal0 [0x00D35BBF+1399743]\n\tOrdinal0 [0x00D2639B+1336219]\n\tOrdinal0 [0x00D027A7+1189799]\n\tOrdinal0 [0x00D03609+1193481]\n\tGetHandleVerifier [0x00FD5904+1577972]\n\tGetHandleVerifier [0x01080B97+2279047]\n\tGetHandleVerifier [0x00ED6D09+534521]\n\tGetHandleVerifier [0x00ED5DB9+530601]\n\tOrdinal0 [0x00DE4FF9+2117625]\n\tOrdinal0 [0x00DE98A8+2136232]\n\tOrdinal0 [0x00DE99E2+2136546]\n\tOrdinal0 [0x00DF3541+2176321]\n\tBaseThreadInitThunk [0x76CAFA29+25]\n\tRtlGetAppContainerNamedObjectPath [0x778B7A9E+286]\n\tRtlGetAppContainerNamedObjectPath [0x778B7A6E+238]\n",
     "output_type": "error",
     "traceback": [
      "\u001b[1;31m---------------------------------------------------------------------------\u001b[0m",
      "\u001b[1;31mElementClickInterceptedException\u001b[0m          Traceback (most recent call last)",
      "\u001b[1;32m~\\AppData\\Local\\Temp/ipykernel_14424/2223629134.py\u001b[0m in \u001b[0;36m<module>\u001b[1;34m\u001b[0m\n\u001b[0;32m     14\u001b[0m \u001b[1;33m\u001b[0m\u001b[0m\n\u001b[0;32m     15\u001b[0m     \u001b[0mnxt_button\u001b[0m\u001b[1;33m=\u001b[0m\u001b[0mdriver\u001b[0m\u001b[1;33m.\u001b[0m\u001b[0mfind_element_by_xpath\u001b[0m\u001b[1;33m(\u001b[0m\u001b[1;34m'//a[@class=\"_1LKTO3\"][2]'\u001b[0m\u001b[1;33m)\u001b[0m\u001b[1;33m\u001b[0m\u001b[1;33m\u001b[0m\u001b[0m\n\u001b[1;32m---> 16\u001b[1;33m     \u001b[0mnxt_button\u001b[0m\u001b[1;33m.\u001b[0m\u001b[0mclick\u001b[0m\u001b[1;33m(\u001b[0m\u001b[1;33m)\u001b[0m\u001b[1;33m\u001b[0m\u001b[1;33m\u001b[0m\u001b[0m\n\u001b[0m\u001b[0;32m     17\u001b[0m \u001b[1;33m\u001b[0m\u001b[0m\n\u001b[0;32m     18\u001b[0m     \u001b[0mtime\u001b[0m\u001b[1;33m.\u001b[0m\u001b[0msleep\u001b[0m\u001b[1;33m(\u001b[0m\u001b[1;36m1\u001b[0m\u001b[1;33m)\u001b[0m\u001b[1;33m\u001b[0m\u001b[1;33m\u001b[0m\u001b[0m\n",
      "\u001b[1;32m~\\anaconda3\\lib\\site-packages\\selenium\\webdriver\\remote\\webelement.py\u001b[0m in \u001b[0;36mclick\u001b[1;34m(self)\u001b[0m\n\u001b[0;32m     79\u001b[0m     \u001b[1;32mdef\u001b[0m \u001b[0mclick\u001b[0m\u001b[1;33m(\u001b[0m\u001b[0mself\u001b[0m\u001b[1;33m)\u001b[0m \u001b[1;33m->\u001b[0m \u001b[1;32mNone\u001b[0m\u001b[1;33m:\u001b[0m\u001b[1;33m\u001b[0m\u001b[1;33m\u001b[0m\u001b[0m\n\u001b[0;32m     80\u001b[0m         \u001b[1;34m\"\"\"Clicks the element.\"\"\"\u001b[0m\u001b[1;33m\u001b[0m\u001b[1;33m\u001b[0m\u001b[0m\n\u001b[1;32m---> 81\u001b[1;33m         \u001b[0mself\u001b[0m\u001b[1;33m.\u001b[0m\u001b[0m_execute\u001b[0m\u001b[1;33m(\u001b[0m\u001b[0mCommand\u001b[0m\u001b[1;33m.\u001b[0m\u001b[0mCLICK_ELEMENT\u001b[0m\u001b[1;33m)\u001b[0m\u001b[1;33m\u001b[0m\u001b[1;33m\u001b[0m\u001b[0m\n\u001b[0m\u001b[0;32m     82\u001b[0m \u001b[1;33m\u001b[0m\u001b[0m\n\u001b[0;32m     83\u001b[0m     \u001b[1;32mdef\u001b[0m \u001b[0msubmit\u001b[0m\u001b[1;33m(\u001b[0m\u001b[0mself\u001b[0m\u001b[1;33m)\u001b[0m\u001b[1;33m:\u001b[0m\u001b[1;33m\u001b[0m\u001b[1;33m\u001b[0m\u001b[0m\n",
      "\u001b[1;32m~\\anaconda3\\lib\\site-packages\\selenium\\webdriver\\remote\\webelement.py\u001b[0m in \u001b[0;36m_execute\u001b[1;34m(self, command, params)\u001b[0m\n\u001b[0;32m    708\u001b[0m             \u001b[0mparams\u001b[0m \u001b[1;33m=\u001b[0m \u001b[1;33m{\u001b[0m\u001b[1;33m}\u001b[0m\u001b[1;33m\u001b[0m\u001b[1;33m\u001b[0m\u001b[0m\n\u001b[0;32m    709\u001b[0m         \u001b[0mparams\u001b[0m\u001b[1;33m[\u001b[0m\u001b[1;34m'id'\u001b[0m\u001b[1;33m]\u001b[0m \u001b[1;33m=\u001b[0m \u001b[0mself\u001b[0m\u001b[1;33m.\u001b[0m\u001b[0m_id\u001b[0m\u001b[1;33m\u001b[0m\u001b[1;33m\u001b[0m\u001b[0m\n\u001b[1;32m--> 710\u001b[1;33m         \u001b[1;32mreturn\u001b[0m \u001b[0mself\u001b[0m\u001b[1;33m.\u001b[0m\u001b[0m_parent\u001b[0m\u001b[1;33m.\u001b[0m\u001b[0mexecute\u001b[0m\u001b[1;33m(\u001b[0m\u001b[0mcommand\u001b[0m\u001b[1;33m,\u001b[0m \u001b[0mparams\u001b[0m\u001b[1;33m)\u001b[0m\u001b[1;33m\u001b[0m\u001b[1;33m\u001b[0m\u001b[0m\n\u001b[0m\u001b[0;32m    711\u001b[0m \u001b[1;33m\u001b[0m\u001b[0m\n\u001b[0;32m    712\u001b[0m     \u001b[1;32mdef\u001b[0m \u001b[0mfind_element\u001b[0m\u001b[1;33m(\u001b[0m\u001b[0mself\u001b[0m\u001b[1;33m,\u001b[0m \u001b[0mby\u001b[0m\u001b[1;33m=\u001b[0m\u001b[0mBy\u001b[0m\u001b[1;33m.\u001b[0m\u001b[0mID\u001b[0m\u001b[1;33m,\u001b[0m \u001b[0mvalue\u001b[0m\u001b[1;33m=\u001b[0m\u001b[1;32mNone\u001b[0m\u001b[1;33m)\u001b[0m\u001b[1;33m:\u001b[0m\u001b[1;33m\u001b[0m\u001b[1;33m\u001b[0m\u001b[0m\n",
      "\u001b[1;32m~\\anaconda3\\lib\\site-packages\\selenium\\webdriver\\remote\\webdriver.py\u001b[0m in \u001b[0;36mexecute\u001b[1;34m(self, driver_command, params)\u001b[0m\n\u001b[0;32m    422\u001b[0m         \u001b[0mresponse\u001b[0m \u001b[1;33m=\u001b[0m \u001b[0mself\u001b[0m\u001b[1;33m.\u001b[0m\u001b[0mcommand_executor\u001b[0m\u001b[1;33m.\u001b[0m\u001b[0mexecute\u001b[0m\u001b[1;33m(\u001b[0m\u001b[0mdriver_command\u001b[0m\u001b[1;33m,\u001b[0m \u001b[0mparams\u001b[0m\u001b[1;33m)\u001b[0m\u001b[1;33m\u001b[0m\u001b[1;33m\u001b[0m\u001b[0m\n\u001b[0;32m    423\u001b[0m         \u001b[1;32mif\u001b[0m \u001b[0mresponse\u001b[0m\u001b[1;33m:\u001b[0m\u001b[1;33m\u001b[0m\u001b[1;33m\u001b[0m\u001b[0m\n\u001b[1;32m--> 424\u001b[1;33m             \u001b[0mself\u001b[0m\u001b[1;33m.\u001b[0m\u001b[0merror_handler\u001b[0m\u001b[1;33m.\u001b[0m\u001b[0mcheck_response\u001b[0m\u001b[1;33m(\u001b[0m\u001b[0mresponse\u001b[0m\u001b[1;33m)\u001b[0m\u001b[1;33m\u001b[0m\u001b[1;33m\u001b[0m\u001b[0m\n\u001b[0m\u001b[0;32m    425\u001b[0m             response['value'] = self._unwrap_value(\n\u001b[0;32m    426\u001b[0m                 response.get('value', None))\n",
      "\u001b[1;32m~\\anaconda3\\lib\\site-packages\\selenium\\webdriver\\remote\\errorhandler.py\u001b[0m in \u001b[0;36mcheck_response\u001b[1;34m(self, response)\u001b[0m\n\u001b[0;32m    245\u001b[0m                 \u001b[0malert_text\u001b[0m \u001b[1;33m=\u001b[0m \u001b[0mvalue\u001b[0m\u001b[1;33m[\u001b[0m\u001b[1;34m'alert'\u001b[0m\u001b[1;33m]\u001b[0m\u001b[1;33m.\u001b[0m\u001b[0mget\u001b[0m\u001b[1;33m(\u001b[0m\u001b[1;34m'text'\u001b[0m\u001b[1;33m)\u001b[0m\u001b[1;33m\u001b[0m\u001b[1;33m\u001b[0m\u001b[0m\n\u001b[0;32m    246\u001b[0m             \u001b[1;32mraise\u001b[0m \u001b[0mexception_class\u001b[0m\u001b[1;33m(\u001b[0m\u001b[0mmessage\u001b[0m\u001b[1;33m,\u001b[0m \u001b[0mscreen\u001b[0m\u001b[1;33m,\u001b[0m \u001b[0mstacktrace\u001b[0m\u001b[1;33m,\u001b[0m \u001b[0malert_text\u001b[0m\u001b[1;33m)\u001b[0m  \u001b[1;31m# type: ignore[call-arg]  # mypy is not smart enough here\u001b[0m\u001b[1;33m\u001b[0m\u001b[1;33m\u001b[0m\u001b[0m\n\u001b[1;32m--> 247\u001b[1;33m         \u001b[1;32mraise\u001b[0m \u001b[0mexception_class\u001b[0m\u001b[1;33m(\u001b[0m\u001b[0mmessage\u001b[0m\u001b[1;33m,\u001b[0m \u001b[0mscreen\u001b[0m\u001b[1;33m,\u001b[0m \u001b[0mstacktrace\u001b[0m\u001b[1;33m)\u001b[0m\u001b[1;33m\u001b[0m\u001b[1;33m\u001b[0m\u001b[0m\n\u001b[0m\u001b[0;32m    248\u001b[0m \u001b[1;33m\u001b[0m\u001b[0m\n\u001b[0;32m    249\u001b[0m     \u001b[1;32mdef\u001b[0m \u001b[0m_value_or_default\u001b[0m\u001b[1;33m(\u001b[0m\u001b[0mself\u001b[0m\u001b[1;33m,\u001b[0m \u001b[0mobj\u001b[0m\u001b[1;33m:\u001b[0m \u001b[0mMapping\u001b[0m\u001b[1;33m[\u001b[0m\u001b[0m_KT\u001b[0m\u001b[1;33m,\u001b[0m \u001b[0m_VT\u001b[0m\u001b[1;33m]\u001b[0m\u001b[1;33m,\u001b[0m \u001b[0mkey\u001b[0m\u001b[1;33m:\u001b[0m \u001b[0m_KT\u001b[0m\u001b[1;33m,\u001b[0m \u001b[0mdefault\u001b[0m\u001b[1;33m:\u001b[0m \u001b[0m_VT\u001b[0m\u001b[1;33m)\u001b[0m \u001b[1;33m->\u001b[0m \u001b[0m_VT\u001b[0m\u001b[1;33m:\u001b[0m\u001b[1;33m\u001b[0m\u001b[1;33m\u001b[0m\u001b[0m\n",
      "\u001b[1;31mElementClickInterceptedException\u001b[0m: Message: element click intercepted: Element <a class=\"_1LKTO3\" href=\"/sony-sa-d40-80-w-bluetooth-home-theatre/product-reviews/itmfy95dvfgcbnsd?pid=ACCFY95D3FRZTWH5&amp;lid=LSTACCFY95D3FRZTWH5XCIMPG&amp;marketplace=FLIPKART&amp;page=321\">...</a> is not clickable at point (1108, 634). Other element would receive the click: <p>...</p>\n  (Session info: chrome=96.0.4664.110)\nStacktrace:\nBacktrace:\n\tOrdinal0 [0x00E46903+2517251]\n\tOrdinal0 [0x00DDF8E1+2095329]\n\tOrdinal0 [0x00CE2848+1058888]\n\tOrdinal0 [0x00D13509+1258761]\n\tOrdinal0 [0x00D11868+1251432]\n\tOrdinal0 [0x00D0F65D+1242717]\n\tOrdinal0 [0x00D0E4A8+1238184]\n\tOrdinal0 [0x00D04037+1196087]\n\tOrdinal0 [0x00D264D3+1336531]\n\tOrdinal0 [0x00D03A36+1194550]\n\tOrdinal0 [0x00D265BA+1336762]\n\tOrdinal0 [0x00D35BBF+1399743]\n\tOrdinal0 [0x00D2639B+1336219]\n\tOrdinal0 [0x00D027A7+1189799]\n\tOrdinal0 [0x00D03609+1193481]\n\tGetHandleVerifier [0x00FD5904+1577972]\n\tGetHandleVerifier [0x01080B97+2279047]\n\tGetHandleVerifier [0x00ED6D09+534521]\n\tGetHandleVerifier [0x00ED5DB9+530601]\n\tOrdinal0 [0x00DE4FF9+2117625]\n\tOrdinal0 [0x00DE98A8+2136232]\n\tOrdinal0 [0x00DE99E2+2136546]\n\tOrdinal0 [0x00DF3541+2176321]\n\tBaseThreadInitThunk [0x76CAFA29+25]\n\tRtlGetAppContainerNamedObjectPath [0x778B7A9E+286]\n\tRtlGetAppContainerNamedObjectPath [0x778B7A6E+238]\n"
     ]
    }
   ],
   "source": [
    "for i in range(1,250):\n",
    "    \n",
    "    rating=driver.find_elements_by_xpath('//div[@class=\"_3LWZlK _1BLPMq\" or @class=\"_3LWZlK _1rdVr6 _1BLPMq\" or @class=\"_3LWZlK _32lA32 _1BLPMq\"]')\n",
    "    for i in rating:\n",
    "        Ratingsht.append(i.text.replace(\"\\n\",\"\"))\n",
    "    \n",
    "        \n",
    "        \n",
    "    review=driver.find_elements_by_xpath('//div[@class=\"t-ZTKy\"]')\n",
    "    for i in review:\n",
    "            Reviewsht.append(i.text.replace(\"\\n\",\"\"))\n",
    "    \n",
    "    \n",
    "    \n",
    "    nxt_button=driver.find_element_by_xpath('//a[@class=\"_1LKTO3\"][2]')\n",
    "    nxt_button.click()\n",
    "    \n",
    "    time.sleep(1)"
   ]
  },
  {
   "cell_type": "code",
   "execution_count": 497,
   "id": "427d5299",
   "metadata": {},
   "outputs": [
    {
     "name": "stdout",
     "output_type": "stream",
     "text": [
      "3112\n",
      "3112\n"
     ]
    }
   ],
   "source": [
    "print(len(Reviewsht))\n",
    "print(len(Ratingsht))"
   ]
  },
  {
   "cell_type": "code",
   "execution_count": 499,
   "id": "6608bd10",
   "metadata": {},
   "outputs": [
    {
     "data": {
      "text/html": [
       "<div>\n",
       "<style scoped>\n",
       "    .dataframe tbody tr th:only-of-type {\n",
       "        vertical-align: middle;\n",
       "    }\n",
       "\n",
       "    .dataframe tbody tr th {\n",
       "        vertical-align: top;\n",
       "    }\n",
       "\n",
       "    .dataframe thead th {\n",
       "        text-align: right;\n",
       "    }\n",
       "</style>\n",
       "<table border=\"1\" class=\"dataframe\">\n",
       "  <thead>\n",
       "    <tr style=\"text-align: right;\">\n",
       "      <th></th>\n",
       "      <th>Reviewsc</th>\n",
       "      <th>Ratingsc</th>\n",
       "    </tr>\n",
       "  </thead>\n",
       "  <tbody>\n",
       "    <tr>\n",
       "      <th>0</th>\n",
       "      <td>it's awesome product bass is fantastic and Cla...</td>\n",
       "      <td>5</td>\n",
       "    </tr>\n",
       "    <tr>\n",
       "      <th>1</th>\n",
       "      <td>it is awesome and good for inhouse party. you ...</td>\n",
       "      <td>5</td>\n",
       "    </tr>\n",
       "    <tr>\n",
       "      <th>2</th>\n",
       "      <td>Quiet decent for the price.The sound output in...</td>\n",
       "      <td>4</td>\n",
       "    </tr>\n",
       "    <tr>\n",
       "      <th>3</th>\n",
       "      <td>Wonder customer service, and wonderful deliver...</td>\n",
       "      <td>5</td>\n",
       "    </tr>\n",
       "    <tr>\n",
       "      <th>4</th>\n",
       "      <td>very nice sound quality। Sony is Sony । valuab...</td>\n",
       "      <td>5</td>\n",
       "    </tr>\n",
       "    <tr>\n",
       "      <th>...</th>\n",
       "      <td>...</td>\n",
       "      <td>...</td>\n",
       "    </tr>\n",
       "    <tr>\n",
       "      <th>3107</th>\n",
       "      <td>the quality of the box is fav.....and it is th...</td>\n",
       "      <td>5</td>\n",
       "    </tr>\n",
       "    <tr>\n",
       "      <th>3108</th>\n",
       "      <td>Nice product I'm satisfied Tank you flipkat</td>\n",
       "      <td>5</td>\n",
       "    </tr>\n",
       "    <tr>\n",
       "      <th>3109</th>\n",
       "      <td>Excellent product, awesome sound quality and b...</td>\n",
       "      <td>5</td>\n",
       "    </tr>\n",
       "    <tr>\n",
       "      <th>3110</th>\n",
       "      <td>fast delivery and best sound very good</td>\n",
       "      <td>5</td>\n",
       "    </tr>\n",
       "    <tr>\n",
       "      <th>3111</th>\n",
       "      <td>need bass and treble control</td>\n",
       "      <td>4</td>\n",
       "    </tr>\n",
       "  </tbody>\n",
       "</table>\n",
       "<p>3112 rows × 2 columns</p>\n",
       "</div>"
      ],
      "text/plain": [
       "                                               Reviewsc Ratingsc\n",
       "0     it's awesome product bass is fantastic and Cla...        5\n",
       "1     it is awesome and good for inhouse party. you ...        5\n",
       "2     Quiet decent for the price.The sound output in...        4\n",
       "3     Wonder customer service, and wonderful deliver...        5\n",
       "4     very nice sound quality। Sony is Sony । valuab...        5\n",
       "...                                                 ...      ...\n",
       "3107  the quality of the box is fav.....and it is th...        5\n",
       "3108        Nice product I'm satisfied Tank you flipkat        5\n",
       "3109  Excellent product, awesome sound quality and b...        5\n",
       "3110             fast delivery and best sound very good        5\n",
       "3111                       need bass and treble control        4\n",
       "\n",
       "[3112 rows x 2 columns]"
      ]
     },
     "execution_count": 499,
     "metadata": {},
     "output_type": "execute_result"
    }
   ],
   "source": [
    "import pandas as pd\n",
    "dfht=pd.DataFrame({})\n",
    "dfht['Reviewsc']=Reviewsht\n",
    "dfht['Ratingsc']=Ratingsht\n",
    "dfht"
   ]
  },
  {
   "cell_type": "code",
   "execution_count": 500,
   "id": "b94acce0",
   "metadata": {},
   "outputs": [
    {
     "name": "stdout",
     "output_type": "stream",
     "text": [
      "dfht is written to Excel File successfully.\n"
     ]
    }
   ],
   "source": [
    "# writing to Excel\n",
    "datatoexcel40 = pd.ExcelWriter('dfht.xlsx')\n",
    "# write DataFrame to excel\n",
    "dfht.to_excel(datatoexcel40)\n",
    "# save the excel\n",
    "datatoexcel40.save()\n",
    "print('dfht is written to Excel File successfully.')"
   ]
  },
  {
   "cell_type": "markdown",
   "id": "fdf67ced",
   "metadata": {},
   "source": [
    "# Router"
   ]
  },
  {
   "cell_type": "code",
   "execution_count": 501,
   "id": "85ac3183",
   "metadata": {},
   "outputs": [],
   "source": [
    "from selenium import webdriver\n",
    "driver=webdriver.Chrome(\"chromedriver.exe\")"
   ]
  },
  {
   "cell_type": "code",
   "execution_count": 502,
   "id": "1281ef20",
   "metadata": {},
   "outputs": [],
   "source": [
    "url='https://www.flipkart.com/d-link-dir-819-750-mbps-wireless-router/product-reviews/itmff2hynmhzhtqa?pid=RTRFF2HYYUYHCGGK&lid=LSTRTRFF2HYYUYHCGGKB3BKOG&marketplace=FLIPKART&page=2'\n",
    "driver.get(url)"
   ]
  },
  {
   "cell_type": "code",
   "execution_count": 504,
   "id": "6dcbf0e6",
   "metadata": {},
   "outputs": [],
   "source": [
    "Reviewsrt=[]\n",
    "Ratingsrt=[]"
   ]
  },
  {
   "cell_type": "code",
   "execution_count": 512,
   "id": "87ffe73c",
   "metadata": {},
   "outputs": [
    {
     "ename": "ElementClickInterceptedException",
     "evalue": "Message: element click intercepted: Element <a class=\"_1LKTO3\" href=\"/d-link-dir-819-750-mbps-wireless-router/product-reviews/itmff2hynmhzhtqa?pid=RTRFF2HYYUYHCGGK&amp;lid=LSTRTRFF2HYYUYHCGGKB3BKOG&amp;marketplace=FLIPKART&amp;page=254\">...</a> is not clickable at point (969, 582). Other element would receive the click: <div class=\"_1XXPTY _1v2cG7\">...</div>\n  (Session info: chrome=96.0.4664.110)\nStacktrace:\nBacktrace:\n\tOrdinal0 [0x00E46903+2517251]\n\tOrdinal0 [0x00DDF8E1+2095329]\n\tOrdinal0 [0x00CE2848+1058888]\n\tOrdinal0 [0x00D13509+1258761]\n\tOrdinal0 [0x00D11868+1251432]\n\tOrdinal0 [0x00D0F65D+1242717]\n\tOrdinal0 [0x00D0E4A8+1238184]\n\tOrdinal0 [0x00D04037+1196087]\n\tOrdinal0 [0x00D264D3+1336531]\n\tOrdinal0 [0x00D03A36+1194550]\n\tOrdinal0 [0x00D265BA+1336762]\n\tOrdinal0 [0x00D35BBF+1399743]\n\tOrdinal0 [0x00D2639B+1336219]\n\tOrdinal0 [0x00D027A7+1189799]\n\tOrdinal0 [0x00D03609+1193481]\n\tGetHandleVerifier [0x00FD5904+1577972]\n\tGetHandleVerifier [0x01080B97+2279047]\n\tGetHandleVerifier [0x00ED6D09+534521]\n\tGetHandleVerifier [0x00ED5DB9+530601]\n\tOrdinal0 [0x00DE4FF9+2117625]\n\tOrdinal0 [0x00DE98A8+2136232]\n\tOrdinal0 [0x00DE99E2+2136546]\n\tOrdinal0 [0x00DF3541+2176321]\n\tBaseThreadInitThunk [0x76CAFA29+25]\n\tRtlGetAppContainerNamedObjectPath [0x778B7A9E+286]\n\tRtlGetAppContainerNamedObjectPath [0x778B7A6E+238]\n",
     "output_type": "error",
     "traceback": [
      "\u001b[1;31m---------------------------------------------------------------------------\u001b[0m",
      "\u001b[1;31mElementClickInterceptedException\u001b[0m          Traceback (most recent call last)",
      "\u001b[1;32m~\\AppData\\Local\\Temp/ipykernel_14424/3941866186.py\u001b[0m in \u001b[0;36m<module>\u001b[1;34m\u001b[0m\n\u001b[0;32m     14\u001b[0m \u001b[1;33m\u001b[0m\u001b[0m\n\u001b[0;32m     15\u001b[0m     \u001b[0mnxt_button\u001b[0m\u001b[1;33m=\u001b[0m\u001b[0mdriver\u001b[0m\u001b[1;33m.\u001b[0m\u001b[0mfind_element_by_xpath\u001b[0m\u001b[1;33m(\u001b[0m\u001b[1;34m'//a[@class=\"_1LKTO3\"][2]'\u001b[0m\u001b[1;33m)\u001b[0m\u001b[1;33m\u001b[0m\u001b[1;33m\u001b[0m\u001b[0m\n\u001b[1;32m---> 16\u001b[1;33m     \u001b[0mnxt_button\u001b[0m\u001b[1;33m.\u001b[0m\u001b[0mclick\u001b[0m\u001b[1;33m(\u001b[0m\u001b[1;33m)\u001b[0m\u001b[1;33m\u001b[0m\u001b[1;33m\u001b[0m\u001b[0m\n\u001b[0m\u001b[0;32m     17\u001b[0m \u001b[1;33m\u001b[0m\u001b[0m\n\u001b[0;32m     18\u001b[0m     \u001b[0mtime\u001b[0m\u001b[1;33m.\u001b[0m\u001b[0msleep\u001b[0m\u001b[1;33m(\u001b[0m\u001b[1;36m2\u001b[0m\u001b[1;33m)\u001b[0m\u001b[1;33m\u001b[0m\u001b[1;33m\u001b[0m\u001b[0m\n",
      "\u001b[1;32m~\\anaconda3\\lib\\site-packages\\selenium\\webdriver\\remote\\webelement.py\u001b[0m in \u001b[0;36mclick\u001b[1;34m(self)\u001b[0m\n\u001b[0;32m     79\u001b[0m     \u001b[1;32mdef\u001b[0m \u001b[0mclick\u001b[0m\u001b[1;33m(\u001b[0m\u001b[0mself\u001b[0m\u001b[1;33m)\u001b[0m \u001b[1;33m->\u001b[0m \u001b[1;32mNone\u001b[0m\u001b[1;33m:\u001b[0m\u001b[1;33m\u001b[0m\u001b[1;33m\u001b[0m\u001b[0m\n\u001b[0;32m     80\u001b[0m         \u001b[1;34m\"\"\"Clicks the element.\"\"\"\u001b[0m\u001b[1;33m\u001b[0m\u001b[1;33m\u001b[0m\u001b[0m\n\u001b[1;32m---> 81\u001b[1;33m         \u001b[0mself\u001b[0m\u001b[1;33m.\u001b[0m\u001b[0m_execute\u001b[0m\u001b[1;33m(\u001b[0m\u001b[0mCommand\u001b[0m\u001b[1;33m.\u001b[0m\u001b[0mCLICK_ELEMENT\u001b[0m\u001b[1;33m)\u001b[0m\u001b[1;33m\u001b[0m\u001b[1;33m\u001b[0m\u001b[0m\n\u001b[0m\u001b[0;32m     82\u001b[0m \u001b[1;33m\u001b[0m\u001b[0m\n\u001b[0;32m     83\u001b[0m     \u001b[1;32mdef\u001b[0m \u001b[0msubmit\u001b[0m\u001b[1;33m(\u001b[0m\u001b[0mself\u001b[0m\u001b[1;33m)\u001b[0m\u001b[1;33m:\u001b[0m\u001b[1;33m\u001b[0m\u001b[1;33m\u001b[0m\u001b[0m\n",
      "\u001b[1;32m~\\anaconda3\\lib\\site-packages\\selenium\\webdriver\\remote\\webelement.py\u001b[0m in \u001b[0;36m_execute\u001b[1;34m(self, command, params)\u001b[0m\n\u001b[0;32m    708\u001b[0m             \u001b[0mparams\u001b[0m \u001b[1;33m=\u001b[0m \u001b[1;33m{\u001b[0m\u001b[1;33m}\u001b[0m\u001b[1;33m\u001b[0m\u001b[1;33m\u001b[0m\u001b[0m\n\u001b[0;32m    709\u001b[0m         \u001b[0mparams\u001b[0m\u001b[1;33m[\u001b[0m\u001b[1;34m'id'\u001b[0m\u001b[1;33m]\u001b[0m \u001b[1;33m=\u001b[0m \u001b[0mself\u001b[0m\u001b[1;33m.\u001b[0m\u001b[0m_id\u001b[0m\u001b[1;33m\u001b[0m\u001b[1;33m\u001b[0m\u001b[0m\n\u001b[1;32m--> 710\u001b[1;33m         \u001b[1;32mreturn\u001b[0m \u001b[0mself\u001b[0m\u001b[1;33m.\u001b[0m\u001b[0m_parent\u001b[0m\u001b[1;33m.\u001b[0m\u001b[0mexecute\u001b[0m\u001b[1;33m(\u001b[0m\u001b[0mcommand\u001b[0m\u001b[1;33m,\u001b[0m \u001b[0mparams\u001b[0m\u001b[1;33m)\u001b[0m\u001b[1;33m\u001b[0m\u001b[1;33m\u001b[0m\u001b[0m\n\u001b[0m\u001b[0;32m    711\u001b[0m \u001b[1;33m\u001b[0m\u001b[0m\n\u001b[0;32m    712\u001b[0m     \u001b[1;32mdef\u001b[0m \u001b[0mfind_element\u001b[0m\u001b[1;33m(\u001b[0m\u001b[0mself\u001b[0m\u001b[1;33m,\u001b[0m \u001b[0mby\u001b[0m\u001b[1;33m=\u001b[0m\u001b[0mBy\u001b[0m\u001b[1;33m.\u001b[0m\u001b[0mID\u001b[0m\u001b[1;33m,\u001b[0m \u001b[0mvalue\u001b[0m\u001b[1;33m=\u001b[0m\u001b[1;32mNone\u001b[0m\u001b[1;33m)\u001b[0m\u001b[1;33m:\u001b[0m\u001b[1;33m\u001b[0m\u001b[1;33m\u001b[0m\u001b[0m\n",
      "\u001b[1;32m~\\anaconda3\\lib\\site-packages\\selenium\\webdriver\\remote\\webdriver.py\u001b[0m in \u001b[0;36mexecute\u001b[1;34m(self, driver_command, params)\u001b[0m\n\u001b[0;32m    422\u001b[0m         \u001b[0mresponse\u001b[0m \u001b[1;33m=\u001b[0m \u001b[0mself\u001b[0m\u001b[1;33m.\u001b[0m\u001b[0mcommand_executor\u001b[0m\u001b[1;33m.\u001b[0m\u001b[0mexecute\u001b[0m\u001b[1;33m(\u001b[0m\u001b[0mdriver_command\u001b[0m\u001b[1;33m,\u001b[0m \u001b[0mparams\u001b[0m\u001b[1;33m)\u001b[0m\u001b[1;33m\u001b[0m\u001b[1;33m\u001b[0m\u001b[0m\n\u001b[0;32m    423\u001b[0m         \u001b[1;32mif\u001b[0m \u001b[0mresponse\u001b[0m\u001b[1;33m:\u001b[0m\u001b[1;33m\u001b[0m\u001b[1;33m\u001b[0m\u001b[0m\n\u001b[1;32m--> 424\u001b[1;33m             \u001b[0mself\u001b[0m\u001b[1;33m.\u001b[0m\u001b[0merror_handler\u001b[0m\u001b[1;33m.\u001b[0m\u001b[0mcheck_response\u001b[0m\u001b[1;33m(\u001b[0m\u001b[0mresponse\u001b[0m\u001b[1;33m)\u001b[0m\u001b[1;33m\u001b[0m\u001b[1;33m\u001b[0m\u001b[0m\n\u001b[0m\u001b[0;32m    425\u001b[0m             response['value'] = self._unwrap_value(\n\u001b[0;32m    426\u001b[0m                 response.get('value', None))\n",
      "\u001b[1;32m~\\anaconda3\\lib\\site-packages\\selenium\\webdriver\\remote\\errorhandler.py\u001b[0m in \u001b[0;36mcheck_response\u001b[1;34m(self, response)\u001b[0m\n\u001b[0;32m    245\u001b[0m                 \u001b[0malert_text\u001b[0m \u001b[1;33m=\u001b[0m \u001b[0mvalue\u001b[0m\u001b[1;33m[\u001b[0m\u001b[1;34m'alert'\u001b[0m\u001b[1;33m]\u001b[0m\u001b[1;33m.\u001b[0m\u001b[0mget\u001b[0m\u001b[1;33m(\u001b[0m\u001b[1;34m'text'\u001b[0m\u001b[1;33m)\u001b[0m\u001b[1;33m\u001b[0m\u001b[1;33m\u001b[0m\u001b[0m\n\u001b[0;32m    246\u001b[0m             \u001b[1;32mraise\u001b[0m \u001b[0mexception_class\u001b[0m\u001b[1;33m(\u001b[0m\u001b[0mmessage\u001b[0m\u001b[1;33m,\u001b[0m \u001b[0mscreen\u001b[0m\u001b[1;33m,\u001b[0m \u001b[0mstacktrace\u001b[0m\u001b[1;33m,\u001b[0m \u001b[0malert_text\u001b[0m\u001b[1;33m)\u001b[0m  \u001b[1;31m# type: ignore[call-arg]  # mypy is not smart enough here\u001b[0m\u001b[1;33m\u001b[0m\u001b[1;33m\u001b[0m\u001b[0m\n\u001b[1;32m--> 247\u001b[1;33m         \u001b[1;32mraise\u001b[0m \u001b[0mexception_class\u001b[0m\u001b[1;33m(\u001b[0m\u001b[0mmessage\u001b[0m\u001b[1;33m,\u001b[0m \u001b[0mscreen\u001b[0m\u001b[1;33m,\u001b[0m \u001b[0mstacktrace\u001b[0m\u001b[1;33m)\u001b[0m\u001b[1;33m\u001b[0m\u001b[1;33m\u001b[0m\u001b[0m\n\u001b[0m\u001b[0;32m    248\u001b[0m \u001b[1;33m\u001b[0m\u001b[0m\n\u001b[0;32m    249\u001b[0m     \u001b[1;32mdef\u001b[0m \u001b[0m_value_or_default\u001b[0m\u001b[1;33m(\u001b[0m\u001b[0mself\u001b[0m\u001b[1;33m,\u001b[0m \u001b[0mobj\u001b[0m\u001b[1;33m:\u001b[0m \u001b[0mMapping\u001b[0m\u001b[1;33m[\u001b[0m\u001b[0m_KT\u001b[0m\u001b[1;33m,\u001b[0m \u001b[0m_VT\u001b[0m\u001b[1;33m]\u001b[0m\u001b[1;33m,\u001b[0m \u001b[0mkey\u001b[0m\u001b[1;33m:\u001b[0m \u001b[0m_KT\u001b[0m\u001b[1;33m,\u001b[0m \u001b[0mdefault\u001b[0m\u001b[1;33m:\u001b[0m \u001b[0m_VT\u001b[0m\u001b[1;33m)\u001b[0m \u001b[1;33m->\u001b[0m \u001b[0m_VT\u001b[0m\u001b[1;33m:\u001b[0m\u001b[1;33m\u001b[0m\u001b[1;33m\u001b[0m\u001b[0m\n",
      "\u001b[1;31mElementClickInterceptedException\u001b[0m: Message: element click intercepted: Element <a class=\"_1LKTO3\" href=\"/d-link-dir-819-750-mbps-wireless-router/product-reviews/itmff2hynmhzhtqa?pid=RTRFF2HYYUYHCGGK&amp;lid=LSTRTRFF2HYYUYHCGGKB3BKOG&amp;marketplace=FLIPKART&amp;page=254\">...</a> is not clickable at point (969, 582). Other element would receive the click: <div class=\"_1XXPTY _1v2cG7\">...</div>\n  (Session info: chrome=96.0.4664.110)\nStacktrace:\nBacktrace:\n\tOrdinal0 [0x00E46903+2517251]\n\tOrdinal0 [0x00DDF8E1+2095329]\n\tOrdinal0 [0x00CE2848+1058888]\n\tOrdinal0 [0x00D13509+1258761]\n\tOrdinal0 [0x00D11868+1251432]\n\tOrdinal0 [0x00D0F65D+1242717]\n\tOrdinal0 [0x00D0E4A8+1238184]\n\tOrdinal0 [0x00D04037+1196087]\n\tOrdinal0 [0x00D264D3+1336531]\n\tOrdinal0 [0x00D03A36+1194550]\n\tOrdinal0 [0x00D265BA+1336762]\n\tOrdinal0 [0x00D35BBF+1399743]\n\tOrdinal0 [0x00D2639B+1336219]\n\tOrdinal0 [0x00D027A7+1189799]\n\tOrdinal0 [0x00D03609+1193481]\n\tGetHandleVerifier [0x00FD5904+1577972]\n\tGetHandleVerifier [0x01080B97+2279047]\n\tGetHandleVerifier [0x00ED6D09+534521]\n\tGetHandleVerifier [0x00ED5DB9+530601]\n\tOrdinal0 [0x00DE4FF9+2117625]\n\tOrdinal0 [0x00DE98A8+2136232]\n\tOrdinal0 [0x00DE99E2+2136546]\n\tOrdinal0 [0x00DF3541+2176321]\n\tBaseThreadInitThunk [0x76CAFA29+25]\n\tRtlGetAppContainerNamedObjectPath [0x778B7A9E+286]\n\tRtlGetAppContainerNamedObjectPath [0x778B7A6E+238]\n"
     ]
    }
   ],
   "source": [
    "for i in range(1,250):\n",
    "    \n",
    "    rating=driver.find_elements_by_xpath('//div[@class=\"_3LWZlK _1BLPMq\" or @class=\"_3LWZlK _1rdVr6 _1BLPMq\" or @class=\"_3LWZlK _32lA32 _1BLPMq\"]')\n",
    "    for i in rating:\n",
    "        Ratingsrt.append(i.text.replace(\"\\n\",\"\"))\n",
    "    \n",
    "        \n",
    "        \n",
    "    review=driver.find_elements_by_xpath('//div[@class=\"t-ZTKy\"]')\n",
    "    for i in review:\n",
    "            Reviewsrt.append(i.text.replace(\"\\n\",\"\"))\n",
    "    \n",
    "    \n",
    "    \n",
    "    nxt_button=driver.find_element_by_xpath('//a[@class=\"_1LKTO3\"][2]')\n",
    "    nxt_button.click()\n",
    "    \n",
    "    time.sleep(2)"
   ]
  },
  {
   "cell_type": "code",
   "execution_count": 519,
   "id": "66867473",
   "metadata": {},
   "outputs": [
    {
     "name": "stdout",
     "output_type": "stream",
     "text": [
      "2448\n",
      "2448\n"
     ]
    }
   ],
   "source": [
    "print(len(Reviewsrt))\n",
    "print(len(Ratingsrt))"
   ]
  },
  {
   "cell_type": "code",
   "execution_count": 517,
   "id": "42096c9b",
   "metadata": {},
   "outputs": [],
   "source": [
    "rt=Ratingsrt.pop()"
   ]
  },
  {
   "cell_type": "code",
   "execution_count": 518,
   "id": "a570bc11",
   "metadata": {},
   "outputs": [
    {
     "data": {
      "text/plain": [
       "'1'"
      ]
     },
     "execution_count": 518,
     "metadata": {},
     "output_type": "execute_result"
    }
   ],
   "source": [
    "rt"
   ]
  },
  {
   "cell_type": "code",
   "execution_count": 520,
   "id": "5cc406c3",
   "metadata": {},
   "outputs": [
    {
     "data": {
      "text/html": [
       "<div>\n",
       "<style scoped>\n",
       "    .dataframe tbody tr th:only-of-type {\n",
       "        vertical-align: middle;\n",
       "    }\n",
       "\n",
       "    .dataframe tbody tr th {\n",
       "        vertical-align: top;\n",
       "    }\n",
       "\n",
       "    .dataframe thead th {\n",
       "        text-align: right;\n",
       "    }\n",
       "</style>\n",
       "<table border=\"1\" class=\"dataframe\">\n",
       "  <thead>\n",
       "    <tr style=\"text-align: right;\">\n",
       "      <th></th>\n",
       "      <th>Reviewsrt</th>\n",
       "      <th>Ratingsrt</th>\n",
       "    </tr>\n",
       "  </thead>\n",
       "  <tbody>\n",
       "    <tr>\n",
       "      <th>0</th>\n",
       "      <td>GENUINE REVIEW AFTER USING A MONTH......&gt;If yo...</td>\n",
       "      <td>2</td>\n",
       "    </tr>\n",
       "    <tr>\n",
       "      <th>1</th>\n",
       "      <td>This Product seems not listed under the D-link...</td>\n",
       "      <td>2</td>\n",
       "    </tr>\n",
       "    <tr>\n",
       "      <th>2</th>\n",
       "      <td>Aswm Router In this range..this Router in 2 op...</td>\n",
       "      <td>4</td>\n",
       "    </tr>\n",
       "    <tr>\n",
       "      <th>3</th>\n",
       "      <td>speed is good but range is not good as i expec...</td>\n",
       "      <td>3</td>\n",
       "    </tr>\n",
       "    <tr>\n",
       "      <th>4</th>\n",
       "      <td>Good product, easy installation, 5ghz range lo...</td>\n",
       "      <td>5</td>\n",
       "    </tr>\n",
       "    <tr>\n",
       "      <th>...</th>\n",
       "      <td>...</td>\n",
       "      <td>...</td>\n",
       "    </tr>\n",
       "    <tr>\n",
       "      <th>2443</th>\n",
       "      <td>Connectivity range not good</td>\n",
       "      <td>5</td>\n",
       "    </tr>\n",
       "    <tr>\n",
       "      <th>2444</th>\n",
       "      <td>Not bad</td>\n",
       "      <td>3</td>\n",
       "    </tr>\n",
       "    <tr>\n",
       "      <th>2445</th>\n",
       "      <td>Works as expected, speed and coverage are great</td>\n",
       "      <td>2</td>\n",
       "    </tr>\n",
       "    <tr>\n",
       "      <th>2446</th>\n",
       "      <td>Very good delivery boy</td>\n",
       "      <td>5</td>\n",
       "    </tr>\n",
       "    <tr>\n",
       "      <th>2447</th>\n",
       "      <td>Worst From the Seller.I got a Second Hand prod...</td>\n",
       "      <td>5</td>\n",
       "    </tr>\n",
       "  </tbody>\n",
       "</table>\n",
       "<p>2448 rows × 2 columns</p>\n",
       "</div>"
      ],
      "text/plain": [
       "                                              Reviewsrt Ratingsrt\n",
       "0     GENUINE REVIEW AFTER USING A MONTH......>If yo...         2\n",
       "1     This Product seems not listed under the D-link...         2\n",
       "2     Aswm Router In this range..this Router in 2 op...         4\n",
       "3     speed is good but range is not good as i expec...         3\n",
       "4     Good product, easy installation, 5ghz range lo...         5\n",
       "...                                                 ...       ...\n",
       "2443                        Connectivity range not good         5\n",
       "2444                                            Not bad         3\n",
       "2445    Works as expected, speed and coverage are great         2\n",
       "2446                             Very good delivery boy         5\n",
       "2447  Worst From the Seller.I got a Second Hand prod...         5\n",
       "\n",
       "[2448 rows x 2 columns]"
      ]
     },
     "execution_count": 520,
     "metadata": {},
     "output_type": "execute_result"
    }
   ],
   "source": [
    "import pandas as pd\n",
    "dfrt=pd.DataFrame({})\n",
    "dfrt['Reviewsrt']=Reviewsrt\n",
    "dfrt['Ratingsrt']=Ratingsrt\n",
    "dfrt"
   ]
  },
  {
   "cell_type": "code",
   "execution_count": 521,
   "id": "bcccb0bd",
   "metadata": {},
   "outputs": [
    {
     "name": "stdout",
     "output_type": "stream",
     "text": [
      "dfrt is written to Excel File successfully.\n"
     ]
    }
   ],
   "source": [
    "# writing to Excel\n",
    "datatoexcel40 = pd.ExcelWriter('dfrt.xlsx')\n",
    "# write DataFrame to excel\n",
    "dfrt.to_excel(datatoexcel40)\n",
    "# save the excel\n",
    "datatoexcel40.save()\n",
    "print('dfrt is written to Excel File successfully.')"
   ]
  },
  {
   "cell_type": "code",
   "execution_count": null,
   "id": "86ed296b",
   "metadata": {},
   "outputs": [],
   "source": []
  }
 ],
 "metadata": {
  "kernelspec": {
   "display_name": "Python 3 (ipykernel)",
   "language": "python",
   "name": "python3"
  },
  "language_info": {
   "codemirror_mode": {
    "name": "ipython",
    "version": 3
   },
   "file_extension": ".py",
   "mimetype": "text/x-python",
   "name": "python",
   "nbconvert_exporter": "python",
   "pygments_lexer": "ipython3",
   "version": "3.9.7"
  }
 },
 "nbformat": 4,
 "nbformat_minor": 5
}
